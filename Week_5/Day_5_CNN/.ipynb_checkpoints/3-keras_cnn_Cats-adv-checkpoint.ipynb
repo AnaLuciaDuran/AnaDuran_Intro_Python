{
 "cells": [
  {
   "cell_type": "markdown",
   "metadata": {},
   "source": [
    "# CNN (not the news network :))"
   ]
  },
  {
   "cell_type": "code",
   "execution_count": 1,
   "metadata": {
    "scrolled": true
   },
   "outputs": [
    {
     "name": "stderr",
     "output_type": "stream",
     "text": [
      "Using TensorFlow backend.\n"
     ]
    }
   ],
   "source": [
    "'''Trains a simple convnet on the MNIST dataset.\n",
    "Gets to 99.25% test accuracy after 12 epochs\n",
    "(there is still a lot of margin for parameter tuning).\n",
    "16 seconds per epoch on a GRID K520 GPU.\n",
    "\n",
    "GitHub:\n",
    "https://github.com/keras-team/keras/blob/master/examples/mnist_cnn.py\n",
    "'''\n",
    "\n",
    "# import tensorflow and keras \n",
    "from __future__ import print_function\n",
    "import keras\n",
    "from keras.datasets import mnist\n",
    "from keras.models import Sequential\n",
    "from keras.layers import Dense, Dropout, Activation, Flatten, BatchNormalization\n",
    "from keras.layers import Conv2D, MaxPooling2D\n",
    "from keras import backend as K\n",
    "\n",
    "#from keras.preprocessing import image\n",
    "import h5py\n",
    "import numpy as np\n",
    "import matplotlib.pyplot as plt\n",
    "\n",
    "%matplotlib inline"
   ]
  },
  {
   "cell_type": "markdown",
   "metadata": {},
   "source": [
    "# Batch Size\n",
    "\n",
    "The batch size is a hyperparameter of gradient descent that controls the number of training samples to work through before the model’s internal parameters are updated."
   ]
  },
  {
   "cell_type": "code",
   "execution_count": 2,
   "metadata": {},
   "outputs": [],
   "source": [
    "# CNN parameters\n",
    "batch_size = 128\n",
    "num_classes = 1\n",
    "epochs = 50\n",
    "\n",
    "# input image dimensions\n",
    "img_rows, img_cols = 64, 64"
   ]
  },
  {
   "cell_type": "code",
   "execution_count": 3,
   "metadata": {},
   "outputs": [],
   "source": [
    "# Loading the data (cat/non-cat)\n",
    "train_dataset = h5py.File('./train_catvnoncat.h5', \"r\")\n",
    "train_set_x_orig = np.array(train_dataset[\"train_set_x\"][:]) # train set features\n",
    "train_set_y_orig = np.array(train_dataset[\"train_set_y\"][:]) # train set labels\n",
    "\n",
    "test_dataset = h5py.File('./test_catvnoncat.h5', \"r\")\n",
    "test_set_x_orig = np.array(test_dataset[\"test_set_x\"][:]) # test set features\n",
    "test_set_y_orig = np.array(test_dataset[\"test_set_y\"][:]) # test set labels\n",
    "\n",
    "classes = np.array(test_dataset[\"list_classes\"][:]) # the list of classes\n",
    "    \n",
    "train_set_y = train_set_y_orig.reshape((1, train_set_y_orig.shape[0]))\n",
    "test_set_y = test_set_y_orig.reshape((1, test_set_y_orig.shape[0]))\n",
    "\n"
   ]
  },
  {
   "cell_type": "code",
   "execution_count": 4,
   "metadata": {},
   "outputs": [
    {
     "data": {
      "text/plain": [
       "(209, 64, 64, 3)"
      ]
     },
     "execution_count": 4,
     "metadata": {},
     "output_type": "execute_result"
    }
   ],
   "source": [
    "train_set_x_orig.shape"
   ]
  },
  {
   "cell_type": "code",
   "execution_count": 5,
   "metadata": {},
   "outputs": [
    {
     "data": {
      "text/plain": [
       "(209,)"
      ]
     },
     "execution_count": 5,
     "metadata": {},
     "output_type": "execute_result"
    }
   ],
   "source": [
    "train_set_y_orig.shape"
   ]
  },
  {
   "cell_type": "code",
   "execution_count": 6,
   "metadata": {},
   "outputs": [],
   "source": [
    "# Reshape the training and test examples\n",
    "#train_set_x_flatten = train_set_x_orig.reshape(train_set_x_orig.shape[0],-1).T\n",
    "#test_set_x_flatten = test_set_x_orig.reshape(test_set_x_orig.shape[0],-1).T"
   ]
  },
  {
   "cell_type": "code",
   "execution_count": 7,
   "metadata": {},
   "outputs": [],
   "source": [
    "#train_set_x = train_set_x_flatten/255.\n",
    "#test_set_x = test_set_x_flatten/255."
   ]
  },
  {
   "cell_type": "code",
   "execution_count": 8,
   "metadata": {},
   "outputs": [],
   "source": [
    "x_train = train_set_x_orig\n",
    "y_train = train_set_y_orig\n",
    "x_test = test_set_x_orig\n",
    "y_test = test_set_y_orig"
   ]
  },
  {
   "cell_type": "code",
   "execution_count": 9,
   "metadata": {
    "scrolled": true
   },
   "outputs": [
    {
     "data": {
      "text/plain": [
       "((209, 64, 64, 3), (50, 64, 64, 3), (209,))"
      ]
     },
     "execution_count": 9,
     "metadata": {},
     "output_type": "execute_result"
    }
   ],
   "source": [
    "x_train.shape, x_test.shape, y_train.shape"
   ]
  },
  {
   "cell_type": "code",
   "execution_count": 10,
   "metadata": {},
   "outputs": [
    {
     "name": "stdout",
     "output_type": "stream",
     "text": [
      "train_x shape (209, 64, 64, 3)\n",
      "test_x shape (50, 64, 64, 3)\n"
     ]
    }
   ],
   "source": [
    "print(\"train_x shape\",x_train.shape)\n",
    "print(\"test_x shape\", x_test.shape)"
   ]
  },
  {
   "cell_type": "code",
   "execution_count": 11,
   "metadata": {},
   "outputs": [
    {
     "name": "stdout",
     "output_type": "stream",
     "text": [
      "x_train shape: (209, 64, 64, 3)\n",
      "209 train samples\n",
      "50 test samples\n"
     ]
    }
   ],
   "source": [
    "# reshape data\n",
    "\"\"\"if K.image_data_format() == 'channels_first':\n",
    "    x_train = x_train.reshape(x_train.shape[0], 1, img_rows, img_cols)\n",
    "    x_test = x_test.reshape(x_test.shape[0], 1, img_rows, img_cols)\n",
    "    input_shape = (1, img_rows, img_cols)\n",
    "else:\n",
    "    x_train = x_train.reshape(x_train.shape[0], img_rows, img_cols, -1).T\n",
    "    x_test = x_test.reshape(x_test.shape[0], img_rows, img_cols, -1).T\n",
    "    input_shape = (img_rows, img_cols, -1)\"\"\"\n",
    "\n",
    "x_train = x_train.astype('float32')\n",
    "x_test = x_test.astype('float32')\n",
    "x_train /= 255\n",
    "x_test /= 255\n",
    "print('x_train shape:', x_train.shape)\n",
    "print(x_train.shape[0], 'train samples')\n",
    "print(x_test.shape[0], 'test samples')\n",
    "\n",
    "# convert class vectors to binary class matrices\n",
    "#y_train = keras.utils.to_categorical(y_train, num_classes)\n",
    "#y_test = keras.utils.to_categorical(y_test, num_classes)"
   ]
  },
  {
   "cell_type": "code",
   "execution_count": 12,
   "metadata": {},
   "outputs": [
    {
     "name": "stdout",
     "output_type": "stream",
     "text": [
      "WARNING:tensorflow:From C:\\Users\\ana.duran\\AppData\\Local\\Continuum\\anaconda3\\envs\\exercisew3d1\\lib\\site-packages\\tensorflow\\python\\framework\\op_def_library.py:263: colocate_with (from tensorflow.python.framework.ops) is deprecated and will be removed in a future version.\n",
      "Instructions for updating:\n",
      "Colocations handled automatically by placer.\n"
     ]
    }
   ],
   "source": [
    "# setup model\n",
    "model = Sequential()\n",
    "\n",
    "#conv 1\n",
    "model.add(Conv2D(16, kernel_size=(3, 3),\n",
    "                 activation='relu',\n",
    "                 input_shape=(64,64,3)))\n",
    "model.add(BatchNormalization(axis=3))\n",
    "\n",
    "#max pooling 1\n",
    "model.add(MaxPooling2D(pool_size=(2,2), strides=2)) #Strides\n",
    "\n",
    "#conv 2\n",
    "model.add(Conv2D(16, (3, 3), activation='relu'))\n",
    "model.add(BatchNormalization(axis=3))\n",
    "\n",
    "#max pooling 2\n",
    "model.add(MaxPooling2D(pool_size=(2, 2), strides=2))\n",
    "#model.add(Dropout(0.25))\n",
    "\n",
    "#conv 3\n",
    "model.add(Conv2D(32, (3, 3), activation='relu'))\n",
    "model.add(BatchNormalization(axis=3))\n",
    "\n",
    "#max pooling 3\n",
    "model.add(MaxPooling2D(pool_size=(2, 2), strides=2))\n",
    "\n",
    "#conv 4\n",
    "model.add(Conv2D(32, (3, 3), activation='relu'))\n",
    "model.add(BatchNormalization(axis=3))\n",
    "\n",
    "#max pooling 3\n",
    "model.add(MaxPooling2D(pool_size=(2, 2), strides=2))\n",
    "\n",
    "#flatten\n",
    "model.add(Flatten())\n",
    "\n",
    "# fc layer 1\n",
    "model.add(Dense(512, activation='relu'))\n",
    "#model.add(Dropout(0.5))\n",
    "\n",
    "# fc layer 2\n",
    "model.add(Dense(1, activation='sigmoid'))"
   ]
  },
  {
   "attachments": {
    "image.png": {
     "image/png": "[encoded data removed]"
    }
   },
   "cell_type": "markdown",
   "metadata": {},
   "source": [
    "# Stride\n",
    "Stride is the number of pixels shifts over the input matrix.\n",
    "When the stride is 1 then we move the filters to 1 pixel at a \n",
    "time. When the stride is 2 then we move the filters to 2 pixels\n",
    "at a time and so on\n",
    "![image.png](attachment:image.png)"
   ]
  },
  {
   "cell_type": "markdown",
   "metadata": {},
   "source": [
    "# BatchNormalization\n",
    "\n",
    "Training Deep Neural Networks is complicated by the fact\n",
    "that the distribution of each layer’s inputs changes during\n",
    "training, as the parameters of the previous layers change.\n",
    "This slows down the training by requiring lower learning\n",
    "rates and careful parameter initialization, and makes it notoriously hard to train models with saturating nonlinearities. We refer to this phenomenon as internal covariate\n",
    "shift, and address the problem by normalizing layer inputs. Our method draws its strength from making normalization a part of the model architecture and performing the\n",
    "normalization for each training mini-batch. Batch Normalization allows us to use much higher learning rates and\n",
    "be less careful about initialization. It also acts as a regularizer, in some cases eliminating the need for Dropout"
   ]
  },
  {
   "cell_type": "code",
   "execution_count": 13,
   "metadata": {},
   "outputs": [
    {
     "name": "stdout",
     "output_type": "stream",
     "text": [
      "_________________________________________________________________\n",
      "Layer (type)                 Output Shape              Param #   \n",
      "=================================================================\n",
      "conv2d_1 (Conv2D)            (None, 62, 62, 16)        448       \n",
      "_________________________________________________________________\n",
      "batch_normalization_1 (Batch (None, 62, 62, 16)        64        \n",
      "_________________________________________________________________\n",
      "max_pooling2d_1 (MaxPooling2 (None, 31, 31, 16)        0         \n",
      "_________________________________________________________________\n",
      "conv2d_2 (Conv2D)            (None, 29, 29, 16)        2320      \n",
      "_________________________________________________________________\n",
      "batch_normalization_2 (Batch (None, 29, 29, 16)        64        \n",
      "_________________________________________________________________\n",
      "max_pooling2d_2 (MaxPooling2 (None, 14, 14, 16)        0         \n",
      "_________________________________________________________________\n",
      "conv2d_3 (Conv2D)            (None, 12, 12, 32)        4640      \n",
      "_________________________________________________________________\n",
      "batch_normalization_3 (Batch (None, 12, 12, 32)        128       \n",
      "_________________________________________________________________\n",
      "max_pooling2d_3 (MaxPooling2 (None, 6, 6, 32)          0         \n",
      "_________________________________________________________________\n",
      "conv2d_4 (Conv2D)            (None, 4, 4, 32)          9248      \n",
      "_________________________________________________________________\n",
      "batch_normalization_4 (Batch (None, 4, 4, 32)          128       \n",
      "_________________________________________________________________\n",
      "max_pooling2d_4 (MaxPooling2 (None, 2, 2, 32)          0         \n",
      "_________________________________________________________________\n",
      "flatten_1 (Flatten)          (None, 128)               0         \n",
      "_________________________________________________________________\n",
      "dense_1 (Dense)              (None, 512)               66048     \n",
      "_________________________________________________________________\n",
      "dense_2 (Dense)              (None, 1)                 513       \n",
      "=================================================================\n",
      "Total params: 83,601\n",
      "Trainable params: 83,409\n",
      "Non-trainable params: 192\n",
      "_________________________________________________________________\n"
     ]
    }
   ],
   "source": [
    "# compile model\n",
    "model.compile(loss=keras.losses.binary_crossentropy,\n",
    "              optimizer='adam',\n",
    "              metrics=['accuracy'])\n",
    "model.summary()"
   ]
  },
  {
   "cell_type": "code",
   "execution_count": 14,
   "metadata": {},
   "outputs": [
    {
     "name": "stdout",
     "output_type": "stream",
     "text": [
      "WARNING:tensorflow:From C:\\Users\\ana.duran\\AppData\\Local\\Continuum\\anaconda3\\envs\\exercisew3d1\\lib\\site-packages\\tensorflow\\python\\ops\\math_ops.py:3066: to_int32 (from tensorflow.python.ops.math_ops) is deprecated and will be removed in a future version.\n",
      "Instructions for updating:\n",
      "Use tf.cast instead.\n",
      "Train on 209 samples, validate on 50 samples\n",
      "Epoch 1/50\n",
      "209/209 [==============================] - 5s 25ms/step - loss: 0.7812 - acc: 0.4737 - val_loss: 1.3587 - val_acc: 0.3800\n",
      "Epoch 2/50\n",
      "209/209 [==============================] - 1s 4ms/step - loss: 0.4848 - acc: 0.7129 - val_loss: 1.2727 - val_acc: 0.5000\n",
      "Epoch 3/50\n",
      "209/209 [==============================] - 1s 4ms/step - loss: 0.3863 - acc: 0.8134 - val_loss: 0.8808 - val_acc: 0.6000\n",
      "Epoch 4/50\n",
      "209/209 [==============================] - 1s 4ms/step - loss: 0.3017 - acc: 0.9043 - val_loss: 0.6534 - val_acc: 0.6600\n",
      "Epoch 5/50\n",
      "209/209 [==============================] - 1s 4ms/step - loss: 0.2252 - acc: 0.9569 - val_loss: 0.5526 - val_acc: 0.6800\n",
      "Epoch 6/50\n",
      "209/209 [==============================] - 1s 4ms/step - loss: 0.1832 - acc: 0.9809 - val_loss: 0.4565 - val_acc: 0.8000\n",
      "Epoch 7/50\n",
      "209/209 [==============================] - 1s 4ms/step - loss: 0.1314 - acc: 0.9856 - val_loss: 0.3424 - val_acc: 0.9200\n",
      "Epoch 8/50\n",
      "209/209 [==============================] - 1s 4ms/step - loss: 0.0931 - acc: 0.9952 - val_loss: 0.2959 - val_acc: 0.9200\n",
      "Epoch 9/50\n",
      "209/209 [==============================] - 1s 3ms/step - loss: 0.0705 - acc: 0.9952 - val_loss: 0.2709 - val_acc: 0.9200\n",
      "Epoch 10/50\n",
      "209/209 [==============================] - 1s 3ms/step - loss: 0.0469 - acc: 1.0000 - val_loss: 0.2403 - val_acc: 0.9400\n",
      "Epoch 11/50\n",
      "209/209 [==============================] - 1s 4ms/step - loss: 0.0327 - acc: 1.0000 - val_loss: 0.2152 - val_acc: 0.9200\n",
      "Epoch 12/50\n",
      "209/209 [==============================] - 1s 6ms/step - loss: 0.0216 - acc: 1.0000 - val_loss: 0.2310 - val_acc: 0.8800\n",
      "Epoch 13/50\n",
      "209/209 [==============================] - 1s 5ms/step - loss: 0.0150 - acc: 1.0000 - val_loss: 0.2720 - val_acc: 0.8600\n",
      "Epoch 14/50\n",
      "209/209 [==============================] - 1s 5ms/step - loss: 0.0112 - acc: 1.0000 - val_loss: 0.2772 - val_acc: 0.8200\n",
      "Epoch 15/50\n",
      "209/209 [==============================] - 1s 4ms/step - loss: 0.0087 - acc: 1.0000 - val_loss: 0.2522 - val_acc: 0.8400\n",
      "Epoch 16/50\n",
      "209/209 [==============================] - 1s 4ms/step - loss: 0.0060 - acc: 1.0000 - val_loss: 0.2292 - val_acc: 0.8600\n",
      "Epoch 17/50\n",
      "209/209 [==============================] - 1s 4ms/step - loss: 0.0048 - acc: 1.0000 - val_loss: 0.2186 - val_acc: 0.8800\n",
      "Epoch 18/50\n",
      "209/209 [==============================] - 1s 4ms/step - loss: 0.0034 - acc: 1.0000 - val_loss: 0.2105 - val_acc: 0.9000\n",
      "Epoch 19/50\n",
      "209/209 [==============================] - 1s 4ms/step - loss: 0.0026 - acc: 1.0000 - val_loss: 0.2021 - val_acc: 0.9000\n",
      "Epoch 20/50\n",
      "209/209 [==============================] - 1s 3ms/step - loss: 0.0021 - acc: 1.0000 - val_loss: 0.1925 - val_acc: 0.9000\n",
      "Epoch 21/50\n",
      "209/209 [==============================] - 1s 4ms/step - loss: 0.0018 - acc: 1.0000 - val_loss: 0.1830 - val_acc: 0.9000\n",
      "Epoch 22/50\n",
      "209/209 [==============================] - 1s 4ms/step - loss: 0.0015 - acc: 1.0000 - val_loss: 0.1720 - val_acc: 0.9000\n",
      "Epoch 23/50\n",
      "209/209 [==============================] - 1s 4ms/step - loss: 0.0013 - acc: 1.0000 - val_loss: 0.1628 - val_acc: 0.9000\n",
      "Epoch 24/50\n",
      "209/209 [==============================] - 1s 3ms/step - loss: 0.0012 - acc: 1.0000 - val_loss: 0.1556 - val_acc: 0.9200\n",
      "Epoch 25/50\n",
      "209/209 [==============================] - 1s 3ms/step - loss: 9.9810e-04 - acc: 1.0000 - val_loss: 0.1506 - val_acc: 0.9200\n",
      "Epoch 26/50\n",
      "209/209 [==============================] - 1s 3ms/step - loss: 8.8819e-04 - acc: 1.0000 - val_loss: 0.1478 - val_acc: 0.9400\n",
      "Epoch 27/50\n",
      "209/209 [==============================] - 1s 4ms/step - loss: 0.0010 - acc: 1.0000 - val_loss: 0.1468 - val_acc: 0.9400\n",
      "Epoch 28/50\n",
      "209/209 [==============================] - 1s 3ms/step - loss: 7.5446e-04 - acc: 1.0000 - val_loss: 0.1447 - val_acc: 0.9600\n",
      "Epoch 29/50\n",
      "209/209 [==============================] - 1s 3ms/step - loss: 6.6700e-04 - acc: 1.0000 - val_loss: 0.1430 - val_acc: 0.9600\n",
      "Epoch 30/50\n",
      "209/209 [==============================] - 1s 3ms/step - loss: 8.4699e-04 - acc: 1.0000 - val_loss: 0.1411 - val_acc: 0.9400\n",
      "Epoch 31/50\n",
      "209/209 [==============================] - 1s 3ms/step - loss: 8.4562e-04 - acc: 1.0000 - val_loss: 0.1417 - val_acc: 0.9200\n",
      "Epoch 32/50\n",
      "209/209 [==============================] - 1s 3ms/step - loss: 6.3293e-04 - acc: 1.0000 - val_loss: 0.1422 - val_acc: 0.9200\n",
      "Epoch 33/50\n",
      "209/209 [==============================] - 1s 3ms/step - loss: 5.4457e-04 - acc: 1.0000 - val_loss: 0.1415 - val_acc: 0.9400\n",
      "Epoch 34/50\n",
      "209/209 [==============================] - 1s 4ms/step - loss: 5.0778e-04 - acc: 1.0000 - val_loss: 0.1407 - val_acc: 0.9400\n",
      "Epoch 35/50\n",
      "209/209 [==============================] - 1s 3ms/step - loss: 4.7094e-04 - acc: 1.0000 - val_loss: 0.1395 - val_acc: 0.9400\n",
      "Epoch 36/50\n",
      "209/209 [==============================] - 1s 3ms/step - loss: 5.0520e-04 - acc: 1.0000 - val_loss: 0.1379 - val_acc: 0.9400\n",
      "Epoch 37/50\n",
      "209/209 [==============================] - 1s 4ms/step - loss: 4.8215e-04 - acc: 1.0000 - val_loss: 0.1359 - val_acc: 0.9400\n",
      "Epoch 38/50\n",
      "209/209 [==============================] - 1s 4ms/step - loss: 3.8322e-04 - acc: 1.0000 - val_loss: 0.1347 - val_acc: 0.9600\n",
      "Epoch 39/50\n",
      "209/209 [==============================] - 1s 4ms/step - loss: 3.7250e-04 - acc: 1.0000 - val_loss: 0.1344 - val_acc: 0.9600\n",
      "Epoch 40/50\n",
      "209/209 [==============================] - 1s 4ms/step - loss: 3.6406e-04 - acc: 1.0000 - val_loss: 0.1350 - val_acc: 0.9600\n",
      "Epoch 41/50\n",
      "209/209 [==============================] - 1s 3ms/step - loss: 4.6157e-04 - acc: 1.0000 - val_loss: 0.1388 - val_acc: 0.9600\n",
      "Epoch 42/50\n",
      "209/209 [==============================] - 1s 3ms/step - loss: 4.2181e-04 - acc: 1.0000 - val_loss: 0.1465 - val_acc: 0.9400\n",
      "Epoch 43/50\n",
      "209/209 [==============================] - 1s 3ms/step - loss: 3.8564e-04 - acc: 1.0000 - val_loss: 0.1548 - val_acc: 0.9200\n",
      "Epoch 44/50\n",
      "209/209 [==============================] - 1s 3ms/step - loss: 3.0903e-04 - acc: 1.0000 - val_loss: 0.1623 - val_acc: 0.9200\n",
      "Epoch 45/50\n",
      "209/209 [==============================] - 1s 4ms/step - loss: 3.7904e-04 - acc: 1.0000 - val_loss: 0.1674 - val_acc: 0.9200\n",
      "Epoch 46/50\n",
      "209/209 [==============================] - 1s 3ms/step - loss: 2.9860e-04 - acc: 1.0000 - val_loss: 0.1693 - val_acc: 0.9200\n",
      "Epoch 47/50\n",
      "209/209 [==============================] - 1s 3ms/step - loss: 3.5502e-04 - acc: 1.0000 - val_loss: 0.1724 - val_acc: 0.9200\n",
      "Epoch 48/50\n",
      "209/209 [==============================] - 1s 3ms/step - loss: 4.2797e-04 - acc: 1.0000 - val_loss: 0.1733 - val_acc: 0.9200\n",
      "Epoch 49/50\n",
      "209/209 [==============================] - 1s 3ms/step - loss: 2.8969e-04 - acc: 1.0000 - val_loss: 0.1709 - val_acc: 0.9200\n",
      "Epoch 50/50\n",
      "209/209 [==============================] - 1s 3ms/step - loss: 3.0086e-04 - acc: 1.0000 - val_loss: 0.1700 - val_acc: 0.9200\n"
     ]
    },
    {
     "data": {
      "text/plain": [
       "<keras.callbacks.History at 0x1acfa2f0fd0>"
      ]
     },
     "execution_count": 14,
     "metadata": {},
     "output_type": "execute_result"
    }
   ],
   "source": [
    "# train model\n",
    "model.fit(x_train, y_train,\n",
    "          batch_size=batch_size,\n",
    "          epochs=epochs,\n",
    "          verbose=1,\n",
    "          validation_data=(x_test, y_test))"
   ]
  },
  {
   "cell_type": "code",
   "execution_count": 15,
   "metadata": {},
   "outputs": [
    {
     "name": "stdout",
     "output_type": "stream",
     "text": [
      "Test loss: 0.17000998198986053\n",
      "Test accuracy: 0.9199999904632569\n"
     ]
    }
   ],
   "source": [
    "# evaluate model\n",
    "score = model.evaluate(x_test, y_test, verbose=0)\n",
    "print('Test loss:', score[0])\n",
    "print('Test accuracy:', score[1])"
   ]
  },
  {
   "cell_type": "code",
   "execution_count": 16,
   "metadata": {},
   "outputs": [],
   "source": [
    "# make predictions\n",
    "predictions = model.predict(x_test)"
   ]
  },
  {
   "cell_type": "code",
   "execution_count": 17,
   "metadata": {},
   "outputs": [
    {
     "name": "stdout",
     "output_type": "stream",
     "text": [
      "x_test shape:  (50, 64, 64, 3)\n",
      "x_test_plt shape:  (50, 64, 64, 3)\n",
      "predictions:  (50, 1)\n"
     ]
    }
   ],
   "source": [
    "print('x_test shape: ', x_test.shape)\n",
    "x_test_plt = np.squeeze(x_test)\n",
    "print('x_test_plt shape: ', x_test_plt.shape)\n",
    "print('predictions: ', predictions.shape)"
   ]
  },
  {
   "cell_type": "code",
   "execution_count": 18,
   "metadata": {},
   "outputs": [
    {
     "name": "stdout",
     "output_type": "stream",
     "text": [
      "Prediction:  ['Its a cat :)']\n",
      "With an accuracy of: 92.0 %\n"
     ]
    },
    {
     "data": {
      "image/png": "[encoded data removed]",
      "text/plain": [
       "<Figure size 432x288 with 1 Axes>"
      ]
     },
     "metadata": {
      "needs_background": "light"
     },
     "output_type": "display_data"
    }
   ],
   "source": [
    "# see results\n",
    "i = 10\n",
    "plt.imshow(x_test_plt[i])\n",
    "print('Prediction: ' , np.where(predictions[i]>=0.5,'Its a cat :)','Not a cat :('))\n",
    "print('With an accuracy of:', np.round(score[1]*100,2), '%' )"
   ]
  },
  {
   "cell_type": "code",
   "execution_count": null,
   "metadata": {},
   "outputs": [],
   "source": []
  }
 ],
 "metadata": {
  "kernelspec": {
   "display_name": "Python 3",
   "language": "python",
   "name": "python3"
  },
  "language_info": {
   "codemirror_mode": {
    "name": "ipython",
    "version": 3
   },
   "file_extension": ".py",
   "mimetype": "text/x-python",
   "name": "python",
   "nbconvert_exporter": "python",
   "pygments_lexer": "ipython3",
   "version": "3.7.3"
  }
 },
 "nbformat": 4,
 "nbformat_minor": 2
}
