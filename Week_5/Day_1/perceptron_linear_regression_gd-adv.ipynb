{
 "cells": [
  {
   "cell_type": "markdown",
   "metadata": {},
   "source": [
    "# Perceptron - linear regression with gradient descent (exercise)"
   ]
  },
  {
   "cell_type": "markdown",
   "metadata": {},
   "source": [
    "In this exercise, implement a single neuron (perceptron) for linear regression using stochastic gradient descent.\n",
    "\n",
    "Reminder: Linear regression is used to map input (independent) variables with the output (dependent) variable, so that it can be used for prediction of the output values on the unseen data.\n",
    "\n",
    "The Iris data set consists of 50 samples from each of three species of Iris (Iris setosa, Iris virginica and Iris versicolor). Four features were measured from each sample: the length and the width of the sepals and petals, in centimeters. \n",
    "\n",
    "For the purpose of this exercise, use only two features (sepal length and sepal width) of one specie of flowers (Setosa).\n"
   ]
  },
  {
   "cell_type": "code",
   "execution_count": 1,
   "metadata": {},
   "outputs": [],
   "source": [
    "# allow inline plotting below each cell\n",
    "%matplotlib inline"
   ]
  },
  {
   "cell_type": "code",
   "execution_count": 2,
   "metadata": {},
   "outputs": [],
   "source": [
    "# import necessary libraries \n",
    "from matplotlib import pyplot as plt\n",
    "import numpy as np\n",
    "import time \n",
    "from IPython import display "
   ]
  },
  {
   "cell_type": "code",
   "execution_count": 3,
   "metadata": {},
   "outputs": [],
   "source": [
    "# write a function that plots data and regression line\n",
    "def plot_border(w1, b, data, fig):\n",
    "    \n",
    "    plt.axis([0, 10, 0, 6])\n",
    "    plt.grid()\n",
    "    \n",
    "    # scatter data\n",
    "    for i in range(len(data)) :\n",
    "        point = data[i]\n",
    "        color = \"r\"\n",
    "        if point[2] == 0 :\n",
    "            color = \"b\"\n",
    "        plt.scatter(point[0], point[1], c=color)\n",
    "\n",
    "    # separation line\n",
    "    x = np.linspace(0, 10, 100)\n",
    "    plt.plot(x, w1*x+b, '-g', label='y=w1*x+b')\n",
    "    plt.show()"
   ]
  },
  {
   "cell_type": "code",
   "execution_count": 4,
   "metadata": {},
   "outputs": [],
   "source": [
    "### load data ###\n",
    "\n",
    "# each point is a tuple (sepal length, sepal width)\n",
    "data = np.array([[5.1, 3.5],\n",
    " [4.9, 3. ],\n",
    " [4.7, 3.2],\n",
    " [4.6, 3.1],\n",
    " [5. , 3.6],\n",
    " [5.4, 3.9],\n",
    " [4.6, 3.4],\n",
    " [5. , 3.4],\n",
    " [4.4, 2.9],\n",
    " [4.9, 3.1],\n",
    " [5.4, 3.7],\n",
    " [4.8, 3.4],\n",
    " [4.8, 3. ],\n",
    " [4.3, 3. ],\n",
    " [5.8, 4. ],\n",
    " [5.7, 4.4],\n",
    " [5.4, 3.9],\n",
    " [5.1, 3.5],\n",
    " [5.7, 3.8],\n",
    " [5.1, 3.8]])\n",
    "\n",
    "# mystery_flower = [ 6.6,  3]\n"
   ]
  },
  {
   "cell_type": "code",
   "execution_count": 5,
   "metadata": {},
   "outputs": [],
   "source": [
    "data = np.array(data)\n",
    "\n",
    "# removing bias\n",
    "data_norm = data"
   ]
  },
  {
   "cell_type": "code",
   "execution_count": 6,
   "metadata": {},
   "outputs": [
    {
     "data": {
      "text/plain": [
       "20"
      ]
     },
     "execution_count": 6,
     "metadata": {},
     "output_type": "execute_result"
    }
   ],
   "source": [
    "len(data_norm)"
   ]
  },
  {
   "cell_type": "code",
   "execution_count": 7,
   "metadata": {},
   "outputs": [
    {
     "data": {
      "image/png": "[encoded data removed]",
      "text/plain": [
       "<Figure size 432x288 with 1 Axes>"
      ]
     },
     "metadata": {
      "needs_background": "light"
     },
     "output_type": "display_data"
    }
   ],
   "source": [
    "### visualize data ###\n",
    "plt.axis([4, 6, 2,5])\n",
    "plt.grid()\n",
    "for i in range(len(data_norm)) :\n",
    "    point = data_norm[i]\n",
    "    color = \"y\"\n",
    "    plt.scatter(point[0], point[1], c=color)"
   ]
  },
  {
   "cell_type": "code",
   "execution_count": 13,
   "metadata": {
    "scrolled": false
   },
   "outputs": [
    {
     "data": {
      "image/png": "[encoded data removed]",
      "text/plain": [
       "<Figure size 432x288 with 1 Axes>"
      ]
     },
     "metadata": {
      "needs_background": "light"
     },
     "output_type": "display_data"
    }
   ],
   "source": [
    "### write a training loop ###\n",
    "\n",
    "\n",
    "J = []\n",
    "n = 100\n",
    "\n",
    "# initialize weights, bias, and learning rate\n",
    "# initialize weights and bias\n",
    "learning_rate = 0.01\n",
    "w1 = 0\n",
    "b = 0\n",
    "\n",
    "# inside the loop:\n",
    "\n",
    "J, dw1, db = (0,0,0)\n",
    "m=len(data)\n",
    "\n",
    "# compute the cost function\n",
    "\n",
    "dz_dw1 = 0\n",
    "dz_db = 0\n",
    "J_list = []\n",
    "for i in range (n):\n",
    "    for i in range (m):\n",
    "        point = data[i]\n",
    "        x1 = point [0]\n",
    "        y = point [1]\n",
    "\n",
    "        z = x1 * w1 +  b\n",
    "        a = z\n",
    "        J += np.square(y - a)\n",
    "        \n",
    "        \n",
    "# apply stochastic gradient descent to find derivatives\n",
    "        dz = 2*(a-y)    \n",
    "        dz_dw1 += x1 * dz\n",
    "        dz_db += 1 * dz\n",
    "\n",
    "    J = J/m\n",
    "    dz_dw1 =  dz_dw1/m\n",
    "    dz_db = dz_db/ m\n",
    "    J_list.append(J)\n",
    "    \n",
    "# update the weights and bias \n",
    "\n",
    "    w1 = w1 - learning_rate * dz_dw1\n",
    "    b = b - learning_rate * dz_db\n",
    "# plot the result\n",
    "\n",
    "# plot costs    \n",
    "    xx = np.linspace (3,8,100)\n",
    "    yy= w1 * xx\n",
    "    np_data = np.array(data)\n",
    "    plt.scatter (np_data[:,0],np_data[:,1])\n",
    "    plt.plot (xx,yy)\n",
    "    plt.grid()\n",
    "    plt.xlabel('Sepal Length')\n",
    "    plt.ylabel('Sepal Width')\n",
    "      \n",
    "    #plt.axis([4,6,1,5])\n",
    "    display.clear_output(wait=True)\n",
    "    time.sleep(0.1)\n",
    "\n",
    "    plt.show()\n",
    " \n",
    "\n",
    "        # plot costs\n",
    "#plt.plot(costs)\n",
    "\n",
    "\n"
   ]
  },
  {
   "cell_type": "code",
   "execution_count": 9,
   "metadata": {},
   "outputs": [
    {
     "data": {
      "text/plain": [
       "[<matplotlib.lines.Line2D at 0x1d2a60d0390>]"
      ]
     },
     "execution_count": 9,
     "metadata": {},
     "output_type": "execute_result"
    },
    {
     "data": {
      "image/png": "[encoded data removed]",
      "text/plain": [
       "<Figure size 432x288 with 1 Axes>"
      ]
     },
     "metadata": {
      "needs_background": "light"
     },
     "output_type": "display_data"
    }
   ],
   "source": [
    "plt.plot(range(100),J_list)"
   ]
  },
  {
   "cell_type": "code",
   "execution_count": 10,
   "metadata": {},
   "outputs": [],
   "source": [
    "### evaluate solution ###\n",
    "\n",
    "# use R2 score\n"
   ]
  },
  {
   "cell_type": "code",
   "execution_count": 11,
   "metadata": {},
   "outputs": [],
   "source": [
    "### find solution analytically ###\n",
    "\n",
    "# compute weights and bias and compare the values with the ones obtained using SDG "
   ]
  }
 ],
 "metadata": {
  "kernelspec": {
   "display_name": "Python 3",
   "language": "python",
   "name": "python3"
  },
  "language_info": {
   "codemirror_mode": {
    "name": "ipython",
    "version": 3
   },
   "file_extension": ".py",
   "mimetype": "text/x-python",
   "name": "python",
   "nbconvert_exporter": "python",
   "pygments_lexer": "ipython3",
   "version": "3.7.3"
  }
 },
 "nbformat": 4,
 "nbformat_minor": 2
}
