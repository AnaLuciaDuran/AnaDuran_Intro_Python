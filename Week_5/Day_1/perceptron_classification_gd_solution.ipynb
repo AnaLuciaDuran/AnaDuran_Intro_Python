{
 "cells": [
  {
   "cell_type": "markdown",
   "metadata": {},
   "source": [
    "# Perceptron - classification using gradient descent (solution)"
   ]
  },
  {
   "cell_type": "markdown",
   "metadata": {},
   "source": [
    "This code implements a single neuron (perceptron) for classification using stochastic gradient descent.\n",
    "\n",
    "The Iris data set is used that consists of 50 samples from each of three species of flowers (Iris setosa, Iris virginica and Iris versicolor). Four features were measured from each sample: the length and the width of the sepals and petals, in centimeters.\n",
    "\n",
    "For the purpose of this exercise, only two features (sepal length and sepal width) of one specie of flowers (Setosa) were used."
   ]
  },
  {
   "cell_type": "code",
   "execution_count": 1,
   "metadata": {},
   "outputs": [],
   "source": [
    "# allows inline plotting below each cell\n",
    "%matplotlib inline"
   ]
  },
  {
   "cell_type": "code",
   "execution_count": 2,
   "metadata": {},
   "outputs": [],
   "source": [
    "# import necessary libraries \n",
    "from matplotlib import pyplot as plt\n",
    "import numpy as np"
   ]
  },
  {
   "cell_type": "code",
   "execution_count": 3,
   "metadata": {},
   "outputs": [],
   "source": [
    "# function that plots data and classification line\n",
    "\n",
    "def plot_border(w1, b, data, fig):\n",
    "    \n",
    "    plt.axis([0, 10, 0, 6])\n",
    "    plt.grid()\n",
    "    \n",
    "    # scatter data\n",
    "    for i in range(len(data)) :\n",
    "        point = data[i]\n",
    "        color = \"r\"\n",
    "        if point[2] == 0 :\n",
    "            color = \"b\"\n",
    "        plt.scatter(point[0], point[1], c=color)\n",
    "\n",
    "    # classification line\n",
    "    x = np.linspace(0,10,100)\n",
    "    plt.plot(x, w1*x+b, '-g', label='y=w1*x+b')\n",
    "    plt.show()"
   ]
  },
  {
   "cell_type": "code",
   "execution_count": 4,
   "metadata": {},
   "outputs": [],
   "source": [
    "# prediction function: 0 for Iris-setosa and 1 for Iris-versicolor\n",
    "\n",
    "def guess_flower(SepalLength, SepalWidth) :\n",
    "    z = SepalLength * w1 + SepalWidth * w2 + b\n",
    "    prediction = sigmoid(z)\n",
    "    if prediction < .5:\n",
    "        print('Iris-setosa')\n",
    "    else:\n",
    "        print('Iris-versicolor')"
   ]
  },
  {
   "cell_type": "code",
   "execution_count": 5,
   "metadata": {},
   "outputs": [],
   "source": [
    "### load data ###\n",
    "\n",
    "# each point is a tuple (sepal length, sepal width, flower type)\n",
    "# types: 0 for Setosa and 1 for Versicolor\n",
    "data = [[ 5.1,  3.5,  0 ],\n",
    "       [ 4.9,  3. ,  0 ],\n",
    "       [ 4.7,  3.2,  0 ],\n",
    "       [ 4.6,  3.1,  0 ],\n",
    "       [ 5. ,  3.6,  0 ],\n",
    "       [ 5.4,  3.9,  0 ],\n",
    "       [ 4.6,  3.4,  0 ],\n",
    "       [ 5. ,  3.4,  0 ],\n",
    "       [ 4.4,  2.9,  0 ],\n",
    "       [ 4.9,  3.1,  0 ],\n",
    "       [ 5.4,  3.7,  0 ],\n",
    "       [ 4.8,  3.4,  0 ],\n",
    "       [ 4.8,  3. ,  0 ],\n",
    "       [ 4.3,  3. ,  0 ],\n",
    "       [ 5.8,  4. ,  0 ],\n",
    "       [ 5.7,  4.4,  0 ],\n",
    "       [ 5.4,  3.9,  0 ],\n",
    "       [ 5.1,  3.5,  0 ],\n",
    "       [ 5.7,  3.8,  0 ],\n",
    "       [ 5.1,  3.8,  0 ],\n",
    "       [ 7. ,  3.2,  1 ],\n",
    "       [ 6.4,  3.2,  1 ],\n",
    "       [ 6.9,  3.1,  1 ],\n",
    "       [ 5.5,  2.3,  1 ],\n",
    "       [ 6.5,  2.8,  1 ],\n",
    "       [ 5.7,  2.8,  1 ],\n",
    "       [ 6.3,  3.3,  1 ],\n",
    "       [ 4.9,  2.4,  1 ],\n",
    "       [ 6.6,  2.9,  1 ],\n",
    "       [ 5.2,  2.7,  1 ],\n",
    "       [ 5. ,  2. ,  1 ],\n",
    "       [ 5.9,  3. ,  1 ],\n",
    "       [ 6. ,  2.2,  1 ],\n",
    "       [ 6.1,  2.9,  1 ],\n",
    "       [ 5.6,  2.9,  1 ],\n",
    "       [ 6.7,  3.1,  1 ],\n",
    "       [ 5.6,  3. ,  1 ],\n",
    "       [ 5.8,  2.7,  1 ],\n",
    "       [ 6.2,  2.2,  1 ],\n",
    "       [ 5.6,  2.5,  1 ],\n",
    "       [ 5.9,  3.2,  1 ],\n",
    "       [ 6.1,  2.8,  1 ],\n",
    "       [ 6.3,  2.5,  1 ],\n",
    "       [ 6.1,  2.8,  1 ],\n",
    "       [ 6.4,  2.9,  1 ]]\n",
    "\n",
    "mystery_flower = [ 6.6,  3]"
   ]
  },
  {
   "cell_type": "code",
   "execution_count": 6,
   "metadata": {},
   "outputs": [],
   "source": [
    "### functions that compute the output of a sigmoid activation function and its derivative ###\n",
    "\n",
    "def sigmoid(x) :\n",
    "    return 1/(1 + np.exp(-x))\n",
    "\n",
    "def sigmoid_p(x) :\n",
    "    return sigmoid(x) * (1-sigmoid(x))"
   ]
  },
  {
   "cell_type": "code",
   "execution_count": 7,
   "metadata": {},
   "outputs": [
    {
     "data": {
      "text/plain": [
       "[<matplotlib.lines.Line2D at 0x1bf12238f28>]"
      ]
     },
     "execution_count": 7,
     "metadata": {},
     "output_type": "execute_result"
    },
    {
     "data": {
      "image/png": "[encoded data removed]",
      "text/plain": [
       "<Figure size 432x288 with 1 Axes>"
      ]
     },
     "metadata": {
      "needs_background": "light"
     },
     "output_type": "display_data"
    }
   ],
   "source": [
    "### visualize activation function and its derivative ###\n",
    "T = np.linspace(-6, 6, 100)\n",
    "plt.plot(T, sigmoid(T), c='r')\n",
    "plt.plot(T, sigmoid_p(T), c='b')"
   ]
  },
  {
   "cell_type": "code",
   "execution_count": 8,
   "metadata": {},
   "outputs": [
    {
     "data": {
      "image/png": "[encoded data removed]",
      "text/plain": [
       "<Figure size 432x288 with 1 Axes>"
      ]
     },
     "metadata": {
      "needs_background": "light"
     },
     "output_type": "display_data"
    }
   ],
   "source": [
    "### visualize data ###\n",
    "\n",
    "plt.axis([0, 10, 0, 6])\n",
    "plt.grid()\n",
    "for i in range(len(data)) :\n",
    "    point = data[i]\n",
    "    color = \"r\"\n",
    "    if point[2] == 0 :\n",
    "        color = \"b\"\n",
    "    plt.scatter(point[0], point[1], c=color)"
   ]
  },
  {
   "cell_type": "code",
   "execution_count": 9,
   "metadata": {},
   "outputs": [
    {
     "data": {
      "text/plain": [
       "[<matplotlib.lines.Line2D at 0x1bf12d8d748>]"
      ]
     },
     "execution_count": 9,
     "metadata": {},
     "output_type": "execute_result"
    },
    {
     "data": {
      "image/png": "[encoded data removed]",
      "text/plain": [
       "<Figure size 432x288 with 1 Axes>"
      ]
     },
     "metadata": {
      "needs_background": "light"
     },
     "output_type": "display_data"
    }
   ],
   "source": [
    "### training loop ###\n",
    "\n",
    "learning_rate = 0.2\n",
    "costs = []\n",
    "\n",
    "# initialize weights and bias\n",
    "w1 = np.random.randn()\n",
    "w2 = np.random.randn()\n",
    "b = np.random.randn()\n",
    "\n",
    "# learn weights\n",
    "for i in range(10000) :\n",
    "    ri = np.random.randint(len(data))\n",
    "    point = data[ri]\n",
    "    \n",
    "    z = point[0] * w1 + point[1] * w2 + b\n",
    "    prediction = sigmoid(z)\n",
    "    \n",
    "    target = point[2]\n",
    "    \n",
    "    # cost function\n",
    "    cost = np.square(prediction - target)\n",
    "    \n",
    "    # derivative of the cost function\n",
    "    dcost_prediction = 2 * (prediction -target)\n",
    "    dprediction_dz = sigmoid_p(z)\n",
    "    \n",
    "    # For the derivatives of the weights \n",
    "    # it’s the inputs values because they are constants \n",
    "    # And for the derivative of the bias it’s 1\n",
    "    dz_dw1 = point[0]\n",
    "    dz_dw2 = point[1]\n",
    "    dz_db = 1\n",
    "    \n",
    "    # gradient of the cost function w.r.t z\n",
    "    dcost_dz = dcost_prediction * dprediction_dz\n",
    "    \n",
    "    # gradient of the cost w.r.t weights and bias\n",
    "    dcost_dw1 = dcost_dz * dz_dw1\n",
    "    dcost_dw2 = dcost_dz * dz_dw2\n",
    "    dcost_db = dcost_dz * dz_db\n",
    "    \n",
    "    # update weights and bias\n",
    "    w1 = w1 - learning_rate * dcost_dw1\n",
    "    w2 = w2 - learning_rate * dcost_dw2\n",
    "    b = b - learning_rate * dcost_db\n",
    "    \n",
    "    # compute cost\n",
    "    if i % 100 == 0 :\n",
    "        cost_sum = 0\n",
    "        for j in range(len(data)) :\n",
    "            point = data[ri]\n",
    "            \n",
    "            z = point[0] * w1 + point[1] * w2 + b\n",
    "            prediction = sigmoid(z)\n",
    "            \n",
    "            target = point[2]\n",
    "            cost_sum += np.square(prediction - target)\n",
    "            \n",
    "        costs.append(cost_sum/len(data))\n",
    "\n",
    "# plot costs\n",
    "plt.plot(costs)"
   ]
  },
  {
   "cell_type": "code",
   "execution_count": 10,
   "metadata": {},
   "outputs": [
    {
     "name": "stdout",
     "output_type": "stream",
     "text": [
      "[5.4, 3.4, 0.0]\n",
      "prediction : 0.12871128381166344\n",
      "[4.6, 3.6, 0.0]\n",
      "prediction : 0.0006257587434488279\n",
      "[5.1, 3.3, 0.0]\n",
      "prediction : 0.06946359879498094\n",
      "[4.8, 3.4, 0.0]\n",
      "prediction : 0.007853137680250208\n",
      "[5.0, 3.0, 0.0]\n",
      "prediction : 0.322883153125055\n",
      "[5.0, 3.4, 0.0]\n",
      "prediction : 0.0205639139241227\n",
      "[5.2, 3.5, 0.0]\n",
      "prediction : 0.024876468023444617\n",
      "[5.2, 3.4, 0.0]\n",
      "prediction : 0.05275394125312612\n",
      "[4.7, 3.2, 0.0]\n",
      "prediction : 0.022636954269269594\n",
      "[4.8, 3.1, 0.0]\n",
      "prediction : 0.07608326628920821\n",
      "[5.4, 3.4, 0.0]\n",
      "prediction : 0.12871128381166344\n",
      "[5.2, 4.1, 0.0]\n",
      "prediction : 0.0002356397741003711\n",
      "[5.5, 4.2, 0.0]\n",
      "prediction : 0.0004662072768560104\n",
      "[4.9, 3.1, 0.0]\n",
      "prediction : 0.11825764657606287\n",
      "[5.0, 3.2, 0.0]\n",
      "prediction : 0.09095776545798202\n",
      "[5.5, 3.5, 0.0]\n",
      "prediction : 0.09926986202963002\n",
      "[4.9, 3.1, 0.0]\n",
      "prediction : 0.11825764657606287\n",
      "[4.4, 3.0, 0.0]\n",
      "prediction : 0.024913661192295673\n",
      "[5.1, 3.4, 0.0]\n",
      "prediction : 0.03306423762069331\n",
      "[5.0, 3.5, 0.0]\n",
      "prediction : 0.009525981672801153\n",
      "[4.5, 2.3, 0.0]\n",
      "prediction : 0.9076857658254444\n",
      "[4.4, 3.2, 0.0]\n",
      "prediction : 0.005332689317258743\n",
      "[5.0, 3.5, 0.0]\n",
      "prediction : 0.009525981672801153\n",
      "[5.1, 3.8, 0.0]\n",
      "prediction : 0.00150333379148119\n",
      "[4.8, 3.0, 0.0]\n",
      "prediction : 0.15237778870949423\n",
      "[5.1, 3.8, 0.0]\n",
      "prediction : 0.00150333379148119\n",
      "[4.6, 3.2, 0.0]\n",
      "prediction : 0.014021622042381098\n",
      "[5.3, 3.7, 0.0]\n",
      "prediction : 0.008642996358378736\n",
      "[5.0, 3.3, 0.0]\n",
      "prediction : 0.043825787216355404\n",
      "[6.8, 2.8, 1.0]\n",
      "prediction : 0.9999323136743441\n",
      "[6.7, 3.0, 1.0]\n",
      "prediction : 0.9994748788894176\n",
      "[6.0, 2.9, 1.0]\n",
      "prediction : 0.9927376435530715\n",
      "[5.7, 2.6, 1.0]\n",
      "prediction : 0.9969714804585007\n",
      "[5.5, 2.4, 1.0]\n",
      "prediction : 0.9983120858373749\n",
      "[5.5, 2.4, 1.0]\n",
      "prediction : 0.9983120858373749\n",
      "[5.8, 2.7, 1.0]\n",
      "prediction : 0.9959447772718912\n",
      "[6.0, 2.7, 1.0]\n",
      "prediction : 0.9984673221484186\n",
      "[5.4, 3.0, 1.0]\n",
      "prediction : 0.7703846171647631\n",
      "[6.0, 3.4, 1.0]\n",
      "prediction : 0.7338324551587665\n",
      "[6.7, 3.1, 1.0]\n",
      "prediction : 0.9988543478305604\n",
      "[6.3, 2.3, 1.0]\n",
      "prediction : 0.9999843553987209\n",
      "[5.6, 3.0, 1.0]\n",
      "prediction : 0.898985517187868\n",
      "[5.5, 2.5, 1.0]\n",
      "prediction : 0.9963225480243386\n",
      "[5.5, 2.6, 1.0]\n",
      "prediction : 0.9920067261858612\n",
      "[6.1, 3.0, 1.0]\n",
      "prediction : 0.9902896005054278\n",
      "[5.8, 2.6, 1.0]\n",
      "prediction : 0.9981383108982311\n",
      "[5.0, 2.3, 1.0]\n",
      "prediction : 0.9912028977663138\n",
      "[5.6, 2.7, 1.0]\n",
      "prediction : 0.989314952554503\n",
      "[5.7, 3.0, 1.0]\n",
      "prediction : 0.9354605565953485\n",
      "[5.7, 2.9, 1.0]\n",
      "prediction : 0.9693645785685154\n",
      "[6.2, 2.9, 1.0]\n",
      "prediction : 0.9972496716554344\n",
      "[5.1, 2.5, 1.0]\n",
      "prediction : 0.9746873714467615\n",
      "[5.7, 2.8, 1.0]\n",
      "prediction : 0.9857297508805245\n"
     ]
    }
   ],
   "source": [
    "### prediction on test data ###\n",
    "\n",
    "test_data = [[ 5.4,  3.4,  0. ],\n",
    "           [ 4.6,  3.6,  0. ],\n",
    "           [ 5.1,  3.3,  0. ],\n",
    "           [ 4.8,  3.4,  0. ],\n",
    "           [ 5. ,  3. ,  0. ],\n",
    "           [ 5. ,  3.4,  0. ],\n",
    "           [ 5.2,  3.5,  0. ],\n",
    "           [ 5.2,  3.4,  0. ],\n",
    "           [ 4.7,  3.2,  0. ],\n",
    "           [ 4.8,  3.1,  0. ],\n",
    "           [ 5.4,  3.4,  0. ],\n",
    "           [ 5.2,  4.1,  0. ],\n",
    "           [ 5.5,  4.2,  0. ],\n",
    "           [ 4.9,  3.1,  0. ],\n",
    "           [ 5. ,  3.2,  0. ],\n",
    "           [ 5.5,  3.5,  0. ],\n",
    "           [ 4.9,  3.1,  0. ],\n",
    "           [ 4.4,  3. ,  0. ],\n",
    "           [ 5.1,  3.4,  0. ],\n",
    "           [ 5. ,  3.5,  0. ],\n",
    "           [ 4.5,  2.3,  0. ],\n",
    "           [ 4.4,  3.2,  0. ],\n",
    "           [ 5. ,  3.5,  0. ],\n",
    "           [ 5.1,  3.8,  0. ],\n",
    "           [ 4.8,  3. ,  0. ],\n",
    "           [ 5.1,  3.8,  0. ],\n",
    "           [ 4.6,  3.2,  0. ],\n",
    "           [ 5.3,  3.7,  0. ],\n",
    "           [ 5. ,  3.3,  0. ],\n",
    "           [ 6.8,  2.8,  1. ],\n",
    "           [ 6.7,  3. ,  1. ],\n",
    "           [ 6. ,  2.9,  1. ],\n",
    "           [ 5.7,  2.6,  1. ],\n",
    "           [ 5.5,  2.4,  1. ],\n",
    "           [ 5.5,  2.4,  1. ],\n",
    "           [ 5.8,  2.7,  1. ],\n",
    "           [ 6. ,  2.7,  1. ],\n",
    "           [ 5.4,  3. ,  1. ],\n",
    "           [ 6. ,  3.4,  1. ],\n",
    "           [ 6.7,  3.1,  1. ],\n",
    "           [ 6.3,  2.3,  1. ],\n",
    "           [ 5.6,  3. ,  1. ],\n",
    "           [ 5.5,  2.5,  1. ],\n",
    "           [ 5.5,  2.6,  1. ],\n",
    "           [ 6.1,  3. ,  1. ],\n",
    "           [ 5.8,  2.6,  1. ],\n",
    "           [ 5. ,  2.3,  1. ],\n",
    "           [ 5.6,  2.7,  1. ],\n",
    "           [ 5.7,  3. ,  1. ],\n",
    "           [ 5.7,  2.9,  1. ],\n",
    "           [ 6.2,  2.9,  1. ],\n",
    "           [ 5.1,  2.5,  1. ],\n",
    "           [ 5.7,  2.8,  1. ]]\n",
    "\n",
    "for i in range(len(test_data)) :\n",
    "    point = test_data[i]\n",
    "    print(point)\n",
    "    \n",
    "    z = point[0] * w1 + point[1] * w2 + b\n",
    "    prediction = sigmoid(z)\n",
    "    print(\"prediction : {}\" .format(prediction))"
   ]
  },
  {
   "cell_type": "code",
   "execution_count": 11,
   "metadata": {},
   "outputs": [
    {
     "data": {
      "text/plain": [
       "0.9991450369524314"
      ]
     },
     "execution_count": 11,
     "metadata": {},
     "output_type": "execute_result"
    }
   ],
   "source": [
    "z = mystery_flower[0] * w1 + mystery_flower[1] * w2 + b\n",
    "prediction = sigmoid(z)\n",
    "prediction"
   ]
  },
  {
   "cell_type": "code",
   "execution_count": 12,
   "metadata": {},
   "outputs": [
    {
     "data": {
      "image/png": "[encoded data removed]",
      "text/plain": [
       "<Figure size 432x288 with 1 Axes>"
      ]
     },
     "metadata": {
      "needs_background": "light"
     },
     "output_type": "display_data"
    }
   ],
   "source": [
    "# plot the final classification line\n",
    "fig = plt.figure()\n",
    "plot_border(-w1/w2, -b/w2, data, fig)"
   ]
  },
  {
   "cell_type": "code",
   "execution_count": null,
   "metadata": {},
   "outputs": [],
   "source": []
  }
 ],
 "metadata": {
  "kernelspec": {
   "display_name": "Python 3",
   "language": "python",
   "name": "python3"
  },
  "language_info": {
   "codemirror_mode": {
    "name": "ipython",
    "version": 3
   },
   "file_extension": ".py",
   "mimetype": "text/x-python",
   "name": "python",
   "nbconvert_exporter": "python",
   "pygments_lexer": "ipython3",
   "version": "3.7.3"
  }
 },
 "nbformat": 4,
 "nbformat_minor": 2
}
