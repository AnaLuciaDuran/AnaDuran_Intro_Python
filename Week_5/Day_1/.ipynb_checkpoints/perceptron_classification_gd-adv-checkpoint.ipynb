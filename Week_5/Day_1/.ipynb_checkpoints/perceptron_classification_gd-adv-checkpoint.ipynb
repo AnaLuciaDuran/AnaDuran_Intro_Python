{
 "cells": [
  {
   "cell_type": "markdown",
   "metadata": {},
   "source": [
    "# Perceptron - classification using gradient descent (exercise)"
   ]
  },
  {
   "cell_type": "markdown",
   "metadata": {},
   "source": [
    "In this exercise, implement a single neuron (perceptron) for classification of two species of flowers using stochastic gradient descent.\n",
    "\n",
    "The Iris data set consists of 50 samples from each of three species of flowers (Iris setosa, Iris virginica and Iris versicolor). Four features were measured from each sample: the length and the width of the sepals and petals, in centimeters.\n",
    "\n",
    "For the purpose of this exercise, use only two features (sepal length and sepal width) of two specie of flowers (Setosa and Versicolor)."
   ]
  },
  {
   "cell_type": "code",
   "execution_count": 82,
   "metadata": {},
   "outputs": [],
   "source": [
    "# allow inline plotting below each cell\n",
    "%matplotlib inline"
   ]
  },
  {
   "cell_type": "code",
   "execution_count": 83,
   "metadata": {},
   "outputs": [],
   "source": [
    "# import necessary libraries \n",
    "from matplotlib import pyplot as plt\n",
    "import numpy as np\n",
    "import time \n",
    "from IPython import display "
   ]
  },
  {
   "cell_type": "code",
   "execution_count": 84,
   "metadata": {},
   "outputs": [],
   "source": [
    "# write a function that plots data and classification line\n",
    "def plot_border(w1, b, data, fig):\n",
    "    \n",
    "    plt.axis([0, 10, 0, 6])\n",
    "    plt.grid()\n",
    "    \n",
    "    # scatter data\n",
    "    for i in range(len(data)) :\n",
    "        point = data[i]\n",
    "        color = \"r\"\n",
    "        if point[2] == 0 :\n",
    "            color = \"b\"\n",
    "        plt.scatter(point[0], point[1], c=color)\n",
    "\n",
    "    # separation line\n",
    "    x = np.linspace(0, 10, 100)\n",
    "    plt.plot(x, w1*x+b, '-g', label='y=w1*x+b')\n",
    "    plt.show()"
   ]
  },
  {
   "cell_type": "code",
   "execution_count": 85,
   "metadata": {},
   "outputs": [],
   "source": [
    "# write a prediction function: 0 for Iris-setosa and 1 for Iris-versicolor\n",
    "def guess_flower(SepalLength, SepalWidth) :\n",
    "    z = SepalLength * w1 + SepalWidth * w2 + b\n",
    "    if (z<0):\n",
    "        print('Iris-setosa')\n",
    "    else:\n",
    "        print('Iris-versicolor')"
   ]
  },
  {
   "cell_type": "code",
   "execution_count": 86,
   "metadata": {},
   "outputs": [],
   "source": [
    "### load data ###\n",
    "\n",
    "# each point is a tuple (sepal length, sepal width, flower type)\n",
    "# types: 0 for Setosa and 1 for Versicolor\n",
    "data = [[ 5.1,  3.5,  0 ],\n",
    "       [ 4.9,  3. ,  0 ],\n",
    "       [ 4.7,  3.2,  0 ],\n",
    "       [ 4.6,  3.1,  0 ],\n",
    "       [ 5. ,  3.6,  0 ],\n",
    "       [ 5.4,  3.9,  0 ],\n",
    "       [ 4.6,  3.4,  0 ],\n",
    "       [ 5. ,  3.4,  0 ],\n",
    "       [ 4.4,  2.9,  0 ],\n",
    "       [ 4.9,  3.1,  0 ],\n",
    "       [ 5.4,  3.7,  0 ],\n",
    "       [ 4.8,  3.4,  0 ],\n",
    "       [ 4.8,  3. ,  0 ],\n",
    "       [ 4.3,  3. ,  0 ],\n",
    "       [ 5.8,  4. ,  0 ],\n",
    "       [ 5.7,  4.4,  0 ],\n",
    "       [ 5.4,  3.9,  0 ],\n",
    "       [ 5.1,  3.5,  0 ],\n",
    "       [ 5.7,  3.8,  0 ],\n",
    "       [ 5.1,  3.8,  0 ],\n",
    "       [ 7. ,  3.2,  1 ],\n",
    "       [ 6.4,  3.2,  1 ],\n",
    "       [ 6.9,  3.1,  1 ],\n",
    "       [ 5.5,  2.3,  1 ],\n",
    "       [ 6.5,  2.8,  1 ],\n",
    "       [ 5.7,  2.8,  1 ],\n",
    "       [ 6.3,  3.3,  1 ],\n",
    "       [ 4.9,  2.4,  1 ],\n",
    "       [ 6.6,  2.9,  1 ],\n",
    "       [ 5.2,  2.7,  1 ],\n",
    "       [ 5. ,  2. ,  1 ],\n",
    "       [ 5.9,  3. ,  1 ],\n",
    "       [ 6. ,  2.2,  1 ],\n",
    "       [ 6.1,  2.9,  1 ],\n",
    "       [ 5.6,  2.9,  1 ],\n",
    "       [ 6.7,  3.1,  1 ],\n",
    "       [ 5.6,  3. ,  1 ],\n",
    "       [ 5.8,  2.7,  1 ],\n",
    "       [ 6.2,  2.2,  1 ],\n",
    "       [ 5.6,  2.5,  1 ],\n",
    "       [ 5.9,  3.2,  1 ],\n",
    "       [ 6.1,  2.8,  1 ],\n",
    "       [ 6.3,  2.5,  1 ],\n",
    "       [ 6.1,  2.8,  1 ],\n",
    "       [ 6.4,  2.9,  1 ]]\n",
    "\n",
    "# mystery_flower = [ 6.6,  3]"
   ]
  },
  {
   "cell_type": "code",
   "execution_count": 87,
   "metadata": {},
   "outputs": [
    {
     "data": {
      "text/plain": [
       "45"
      ]
     },
     "execution_count": 87,
     "metadata": {},
     "output_type": "execute_result"
    }
   ],
   "source": [
    "len(data)"
   ]
  },
  {
   "cell_type": "code",
   "execution_count": 88,
   "metadata": {},
   "outputs": [
    {
     "data": {
      "text/plain": [
       "list"
      ]
     },
     "execution_count": 88,
     "metadata": {},
     "output_type": "execute_result"
    }
   ],
   "source": [
    "type(data)"
   ]
  },
  {
   "cell_type": "code",
   "execution_count": 89,
   "metadata": {},
   "outputs": [],
   "source": [
    "# write functions that compute the output of a sigmoid activation function and its derivative\n",
    "\n",
    "def sigmoid(x) :\n",
    "    return 1/(1 + np.exp(-x))\n",
    "\n",
    "def sigmoid_p(x) :\n",
    "    return sigmoid(x) * (1-sigmoid(x))"
   ]
  },
  {
   "cell_type": "code",
   "execution_count": 90,
   "metadata": {},
   "outputs": [
    {
     "data": {
      "text/plain": [
       "[<matplotlib.lines.Line2D at 0x1317fc46978>]"
      ]
     },
     "execution_count": 90,
     "metadata": {},
     "output_type": "execute_result"
    },
    {
     "data": {
      "image/png": "[encoded data removed]",
      "text/plain": [
       "<Figure size 432x288 with 1 Axes>"
      ]
     },
     "metadata": {
      "needs_background": "light"
     },
     "output_type": "display_data"
    }
   ],
   "source": [
    "# visualize activation function and its derivative\n",
    "\n",
    "T = np.linspace(-10, 10, 100)\n",
    "plt.plot(T, sigmoid(T), c='y')\n",
    "plt.plot(T, sigmoid_p(T), c='b')"
   ]
  },
  {
   "cell_type": "code",
   "execution_count": 91,
   "metadata": {},
   "outputs": [
    {
     "data": {
      "image/png": "[encoded data removed]",
      "text/plain": [
       "<Figure size 432x288 with 1 Axes>"
      ]
     },
     "metadata": {
      "needs_background": "light"
     },
     "output_type": "display_data"
    }
   ],
   "source": [
    "# visualize data\n",
    "plt.axis([4, 8, 0, 6])\n",
    "plt.grid()\n",
    "for i in range(len(data)) :\n",
    "    point = data[i]\n",
    "    color = \"y\"\n",
    "    if point[2] == 0 :\n",
    "        color = \"b\"\n",
    "    plt.scatter(point[0], point[1], c=color)"
   ]
  },
  {
   "cell_type": "code",
   "execution_count": 92,
   "metadata": {
    "scrolled": true
   },
   "outputs": [
    {
     "data": {
      "image/png": "[encoded data removed]",
      "text/plain": [
       "<Figure size 432x288 with 1 Axes>"
      ]
     },
     "metadata": {
      "needs_background": "light"
     },
     "output_type": "display_data"
    }
   ],
   "source": [
    "# write a training loop\n",
    "\n",
    "learning_rate = 1\n",
    "J = []\n",
    "n = 100\n",
    "\n",
    "# initialize weights and bias\n",
    "w1 = np.random.randn()\n",
    "w2 = np.random.randn()\n",
    "b = np.random.randn()\n",
    "\n",
    "\n",
    "# inside the loop:\n",
    "J, dw1, dw2, db = (0,0,0,0)\n",
    "m=len(data)\n",
    "J_list = []\n",
    "# compute gradients\n",
    "\n",
    "for i in range (n):\n",
    "    for j in range (m):\n",
    "        point = data[j]\n",
    "        x1 = point [0]\n",
    "        x2 = point [1]\n",
    "        y = point [2]\n",
    "\n",
    "        z = x1 * w1 + x2 * w2 + b\n",
    "\n",
    "        a = sigmoid(z)\n",
    "        \n",
    "        \n",
    "    \n",
    "    # compute cost function\n",
    "        J += -(y*np.log(a)+(1-y)*np.log(1-a))\n",
    "\n",
    "        #derivative of the cost function\n",
    "\n",
    "        dz = a-y    \n",
    "        dz_dw1 += x1 * dz\n",
    "        dz_dw2 += x2 * dz\n",
    "        dz_db += dz\n",
    "    \n",
    "    J = J/m\n",
    "    dz_dw1 =  dz_dw1/m\n",
    "    dz_dw2 = dz_dw2/m\n",
    "    dz_db = dz_db/ m\n",
    "    b=b-dz_db\n",
    "    J_list.append(J)\n",
    "    \n",
    "        # update weights and bias\n",
    "    w1 = w1 - learning_rate * dz_dw1\n",
    "    w2 = w2 - learning_rate * dz_dw2\n",
    "    b = b - learning_rate * dz_db\n",
    "    \n",
    "    \n",
    "    # this is only for the graph shown below\n",
    "    \n",
    "    counter = 0\n",
    "   # prediction on the test data\n",
    "    for k in range(len(data)):\n",
    "       # get the points from the test data\n",
    "        x1, x2 = test_data[k][0], test_data[k][1]\n",
    "        label = int(test_data[k][2])\n",
    "       # compute z\n",
    "        z = x1 * w1 + x2 * w2 + b\n",
    "       # and pass z through sigmoid to get a value btw 0 and 1\n",
    "        prediction = sigmoid(z)\n",
    "       # here we check whether the prediction says setosa or versicolor\n",
    "       # and then compare it with the correct label from the dataset\n",
    "        if prediction < 0.5:\n",
    "            p = 0 # setosa\n",
    "            if p == label:\n",
    "                counter += 1\n",
    "        elif prediction > 0.5:\n",
    "            p = 1 # versicolor\n",
    "            if p == label:\n",
    "                counter += 1\n",
    "   # in every epoch, we display the prediction accuracy and the loss\n",
    "       \n",
    "    print(f\"Epoch {i}\")\n",
    "    print(f\"Prediction:  {prediction}\")\n",
    "    print(f\"Loss: {J}\")\n",
    "    print(\"Accuracy: \", counter/len(test_data))\n",
    "    xx = np.linspace (3,8,100)\n",
    "    yy= -w1/w2 * xx\n",
    "    np_data = np.array(data)\n",
    "    plt.scatter (np_data[:,0],np_data[:,1], c = np_data[:,2])\n",
    "    plt.plot (xx,yy)\n",
    "    plt.grid()\n",
    "    plt.xlabel('Sepal Length')\n",
    "    plt.ylabel('Sepal Width')\n",
    "      \n",
    "    plt.axis([3,8,1,5])\n",
    "    display.clear_output(wait=True)\n",
    "    time.sleep(0.1)\n",
    "\n",
    "    plt.show()\n",
    "\n",
    "\n",
    "        # plot costs\n",
    "#plt.plot(costs)\n",
    "\n",
    "\n"
   ]
  },
  {
   "cell_type": "code",
   "execution_count": 42,
   "metadata": {},
   "outputs": [
    {
     "data": {
      "text/plain": [
       "[<matplotlib.lines.Line2D at 0x13100252c50>]"
      ]
     },
     "execution_count": 42,
     "metadata": {},
     "output_type": "execute_result"
    },
    {
     "data": {
      "image/png": "[encoded data removed]",
      "text/plain": [
       "<Figure size 432x288 with 1 Axes>"
      ]
     },
     "metadata": {
      "needs_background": "light"
     },
     "output_type": "display_data"
    }
   ],
   "source": [
    " # plot costs\n",
    "plt.plot(range(100),J_list)"
   ]
  },
  {
   "cell_type": "code",
   "execution_count": 16,
   "metadata": {},
   "outputs": [],
   "source": [
    "# make predictions on test data \n",
    "\n",
    "test_data = [[ 5.4,  3.4,  0. ],\n",
    "           [ 4.6,  3.6,  0. ],\n",
    "           [ 5.1,  3.3,  0. ],\n",
    "           [ 4.8,  3.4,  0. ],\n",
    "           [ 5. ,  3. ,  0. ],\n",
    "           [ 5. ,  3.4,  0. ],\n",
    "           [ 5.2,  3.5,  0. ],\n",
    "           [ 5.2,  3.4,  0. ],\n",
    "           [ 4.7,  3.2,  0. ],\n",
    "           [ 4.8,  3.1,  0. ],\n",
    "           [ 5.4,  3.4,  0. ],\n",
    "           [ 5.2,  4.1,  0. ],\n",
    "           [ 5.5,  4.2,  0. ],\n",
    "           [ 4.9,  3.1,  0. ],\n",
    "           [ 5. ,  3.2,  0. ],\n",
    "           [ 5.5,  3.5,  0. ],\n",
    "           [ 4.9,  3.1,  0. ],\n",
    "           [ 4.4,  3. ,  0. ],\n",
    "           [ 5.1,  3.4,  0. ],\n",
    "           [ 5. ,  3.5,  0. ],\n",
    "           [ 4.5,  2.3,  0. ],\n",
    "           [ 4.4,  3.2,  0. ],\n",
    "           [ 5. ,  3.5,  0. ],\n",
    "           [ 5.1,  3.8,  0. ],\n",
    "           [ 4.8,  3. ,  0. ],\n",
    "           [ 5.1,  3.8,  0. ],\n",
    "           [ 4.6,  3.2,  0. ],\n",
    "           [ 5.3,  3.7,  0. ],\n",
    "           [ 5. ,  3.3,  0. ],\n",
    "           [ 6.8,  2.8,  1. ],\n",
    "           [ 6.7,  3. ,  1. ],\n",
    "           [ 6. ,  2.9,  1. ],\n",
    "           [ 5.7,  2.6,  1. ],\n",
    "           [ 5.5,  2.4,  1. ],\n",
    "           [ 5.5,  2.4,  1. ],\n",
    "           [ 5.8,  2.7,  1. ],\n",
    "           [ 6. ,  2.7,  1. ],\n",
    "           [ 5.4,  3. ,  1. ],\n",
    "           [ 6. ,  3.4,  1. ],\n",
    "           [ 6.7,  3.1,  1. ],\n",
    "           [ 6.3,  2.3,  1. ],\n",
    "           [ 5.6,  3. ,  1. ],\n",
    "           [ 5.5,  2.5,  1. ],\n",
    "           [ 5.5,  2.6,  1. ],\n",
    "           [ 6.1,  3. ,  1. ],\n",
    "           [ 5.8,  2.6,  1. ],\n",
    "           [ 5. ,  2.3,  1. ],\n",
    "           [ 5.6,  2.7,  1. ],\n",
    "           [ 5.7,  3. ,  1. ],\n",
    "           [ 5.7,  2.9,  1. ],\n",
    "           [ 6.2,  2.9,  1. ],\n",
    "           [ 5.1,  2.5,  1. ],\n",
    "           [ 5.7,  2.8,  1. ]]\n",
    "\n"
   ]
  },
  {
   "cell_type": "code",
   "execution_count": 17,
   "metadata": {
    "collapsed": true
   },
   "outputs": [
    {
     "name": "stdout",
     "output_type": "stream",
     "text": [
      "[5.4, 3.4, 0.0]\n",
      "prediction : 0.5\n",
      "[4.6, 3.6, 0.0]\n",
      "prediction : 0.5\n",
      "[5.1, 3.3, 0.0]\n",
      "prediction : 0.5\n",
      "[4.8, 3.4, 0.0]\n",
      "prediction : 0.5\n",
      "[5.0, 3.0, 0.0]\n",
      "prediction : 0.5\n",
      "[5.0, 3.4, 0.0]\n",
      "prediction : 0.5\n",
      "[5.2, 3.5, 0.0]\n",
      "prediction : 0.5\n",
      "[5.2, 3.4, 0.0]\n",
      "prediction : 0.5\n",
      "[4.7, 3.2, 0.0]\n",
      "prediction : 0.5\n",
      "[4.8, 3.1, 0.0]\n",
      "prediction : 0.5\n",
      "[5.4, 3.4, 0.0]\n",
      "prediction : 0.5\n",
      "[5.2, 4.1, 0.0]\n",
      "prediction : 0.5\n",
      "[5.5, 4.2, 0.0]\n",
      "prediction : 0.5\n",
      "[4.9, 3.1, 0.0]\n",
      "prediction : 0.5\n",
      "[5.0, 3.2, 0.0]\n",
      "prediction : 0.5\n",
      "[5.5, 3.5, 0.0]\n",
      "prediction : 0.5\n",
      "[4.9, 3.1, 0.0]\n",
      "prediction : 0.5\n",
      "[4.4, 3.0, 0.0]\n",
      "prediction : 0.5\n",
      "[5.1, 3.4, 0.0]\n",
      "prediction : 0.5\n",
      "[5.0, 3.5, 0.0]\n",
      "prediction : 0.5\n",
      "[4.5, 2.3, 0.0]\n",
      "prediction : 0.5\n",
      "[4.4, 3.2, 0.0]\n",
      "prediction : 0.5\n",
      "[5.0, 3.5, 0.0]\n",
      "prediction : 0.5\n",
      "[5.1, 3.8, 0.0]\n",
      "prediction : 0.5\n",
      "[4.8, 3.0, 0.0]\n",
      "prediction : 0.5\n",
      "[5.1, 3.8, 0.0]\n",
      "prediction : 0.5\n",
      "[4.6, 3.2, 0.0]\n",
      "prediction : 0.5\n",
      "[5.3, 3.7, 0.0]\n",
      "prediction : 0.5\n",
      "[5.0, 3.3, 0.0]\n",
      "prediction : 0.5\n",
      "[6.8, 2.8, 1.0]\n",
      "prediction : 0.5\n",
      "[6.7, 3.0, 1.0]\n",
      "prediction : 0.5\n",
      "[6.0, 2.9, 1.0]\n",
      "prediction : 0.5\n",
      "[5.7, 2.6, 1.0]\n",
      "prediction : 0.5\n",
      "[5.5, 2.4, 1.0]\n",
      "prediction : 0.5\n",
      "[5.5, 2.4, 1.0]\n",
      "prediction : 0.5\n",
      "[5.8, 2.7, 1.0]\n",
      "prediction : 0.5\n",
      "[6.0, 2.7, 1.0]\n",
      "prediction : 0.5\n",
      "[5.4, 3.0, 1.0]\n",
      "prediction : 0.5\n",
      "[6.0, 3.4, 1.0]\n",
      "prediction : 0.5\n",
      "[6.7, 3.1, 1.0]\n",
      "prediction : 0.5\n",
      "[6.3, 2.3, 1.0]\n",
      "prediction : 0.5\n",
      "[5.6, 3.0, 1.0]\n",
      "prediction : 0.5\n",
      "[5.5, 2.5, 1.0]\n",
      "prediction : 0.5\n",
      "[5.5, 2.6, 1.0]\n",
      "prediction : 0.5\n",
      "[6.1, 3.0, 1.0]\n",
      "prediction : 0.5\n",
      "[5.8, 2.6, 1.0]\n",
      "prediction : 0.5\n",
      "[5.0, 2.3, 1.0]\n",
      "prediction : 0.5\n",
      "[5.6, 2.7, 1.0]\n",
      "prediction : 0.5\n",
      "[5.7, 3.0, 1.0]\n",
      "prediction : 0.5\n",
      "[5.7, 2.9, 1.0]\n",
      "prediction : 0.5\n",
      "[6.2, 2.9, 1.0]\n",
      "prediction : 0.5\n",
      "[5.1, 2.5, 1.0]\n",
      "prediction : 0.5\n",
      "[5.7, 2.8, 1.0]\n",
      "prediction : 0.5\n"
     ]
    }
   ],
   "source": [
    "for i in range(len(test_data)) :\n",
    "    point = test_data[i]\n",
    "    print(point)\n",
    "    \n",
    "    z = point[0] * w1 + point[1] * w2 + b\n",
    "    prediction = sigmoid(z)\n",
    "    print(\"prediction : {}\" .format(prediction))"
   ]
  },
  {
   "cell_type": "code",
   "execution_count": 18,
   "metadata": {},
   "outputs": [
    {
     "data": {
      "text/plain": [
       "0.5"
      ]
     },
     "execution_count": 18,
     "metadata": {},
     "output_type": "execute_result"
    }
   ],
   "source": [
    "# predict the mystery flower \n",
    "mystery_flower = [ 6.6,  3]\n",
    "z = mystery_flower[0] * w1 + mystery_flower[1] * w2 + b\n",
    "prediction = sigmoid(z)\n",
    "prediction"
   ]
  },
  {
   "cell_type": "code",
   "execution_count": 19,
   "metadata": {},
   "outputs": [
    {
     "name": "stdout",
     "output_type": "stream",
     "text": [
      "Iris-versicolor\n"
     ]
    }
   ],
   "source": [
    "guess_flower(4.8, 3.0)"
   ]
  },
  {
   "cell_type": "code",
   "execution_count": 22,
   "metadata": {},
   "outputs": [
    {
     "ename": "ZeroDivisionError",
     "evalue": "division by zero",
     "output_type": "error",
     "traceback": [
      "\u001b[1;31m---------------------------------------------------------------------------\u001b[0m",
      "\u001b[1;31mZeroDivisionError\u001b[0m                         Traceback (most recent call last)",
      "\u001b[1;32m<ipython-input-22-e6846776ee19>\u001b[0m in \u001b[0;36m<module>\u001b[1;34m\u001b[0m\n\u001b[0;32m      2\u001b[0m \u001b[1;33m\u001b[0m\u001b[0m\n\u001b[0;32m      3\u001b[0m \u001b[0mfig2\u001b[0m \u001b[1;33m=\u001b[0m \u001b[0mplt\u001b[0m\u001b[1;33m.\u001b[0m\u001b[0mfigure\u001b[0m\u001b[1;33m(\u001b[0m\u001b[1;33m)\u001b[0m\u001b[1;33m\u001b[0m\u001b[1;33m\u001b[0m\u001b[0m\n\u001b[1;32m----> 4\u001b[1;33m \u001b[0mplot_border\u001b[0m\u001b[1;33m(\u001b[0m\u001b[1;33m-\u001b[0m\u001b[0mw1\u001b[0m\u001b[1;33m/\u001b[0m\u001b[0mw2\u001b[0m\u001b[1;33m,\u001b[0m \u001b[1;33m-\u001b[0m\u001b[0mb\u001b[0m\u001b[1;33m/\u001b[0m\u001b[0mw2\u001b[0m\u001b[1;33m,\u001b[0m \u001b[0mtest_data\u001b[0m\u001b[1;33m,\u001b[0m \u001b[0mfig2\u001b[0m\u001b[1;33m)\u001b[0m\u001b[1;33m\u001b[0m\u001b[1;33m\u001b[0m\u001b[0m\n\u001b[0m",
      "\u001b[1;31mZeroDivisionError\u001b[0m: division by zero"
     ]
    },
    {
     "data": {
      "text/plain": [
       "<Figure size 432x288 with 0 Axes>"
      ]
     },
     "metadata": {},
     "output_type": "display_data"
    }
   ],
   "source": [
    "# compute and plot the classification line\n",
    "\n",
    "fig2 = plt.figure()\n",
    "plot_border(-w1/w2, -b/w2, test_data, fig2)"
   ]
  },
  {
   "cell_type": "code",
   "execution_count": null,
   "metadata": {},
   "outputs": [],
   "source": []
  }
 ],
 "metadata": {
  "kernelspec": {
   "display_name": "Python 3",
   "language": "python",
   "name": "python3"
  },
  "language_info": {
   "codemirror_mode": {
    "name": "ipython",
    "version": 3
   },
   "file_extension": ".py",
   "mimetype": "text/x-python",
   "name": "python",
   "nbconvert_exporter": "python",
   "pygments_lexer": "ipython3",
   "version": "3.7.3"
  }
 },
 "nbformat": 4,
 "nbformat_minor": 2
}
