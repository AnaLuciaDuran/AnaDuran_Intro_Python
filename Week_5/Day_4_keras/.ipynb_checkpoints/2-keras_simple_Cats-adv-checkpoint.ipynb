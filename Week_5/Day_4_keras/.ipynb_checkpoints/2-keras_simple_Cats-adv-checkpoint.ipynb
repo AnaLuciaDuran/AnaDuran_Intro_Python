{
 "cells": [
  {
   "cell_type": "markdown",
   "metadata": {},
   "source": [
    "# Fully - connected"
   ]
  },
  {
   "cell_type": "code",
   "execution_count": 1,
   "metadata": {},
   "outputs": [],
   "source": [
    "# import tensorflow and keras (tf.keras)\n",
    "import tensorflow as tf\n",
    "from tensorflow import keras\n",
    "\n",
    "#from keras.preprocessing import image\n",
    "import matplotlib.pyplot as plt\n",
    "\n",
    "import numpy as np\n",
    "import h5py\n",
    "import scipy\n",
    "from PIL import Image\n",
    "from scipy import ndimage\n",
    "\n",
    "%matplotlib inline"
   ]
  },
  {
   "cell_type": "code",
   "execution_count": 2,
   "metadata": {},
   "outputs": [],
   "source": [
    "# Loading the data (cat/non-cat)\n",
    "#train_set_x_orig, train_set_y, test_set_x_orig, test_set_y, classes = load_dataset()\n",
    "\n",
    "# Loading the data (cat/non-cat)\n",
    "train_dataset = h5py.File('./train_catvnoncat.h5', \"r\")\n",
    "train_set_x_orig = np.array(train_dataset[\"train_set_x\"][:]) # train set features\n",
    "train_set_y_orig = np.array(train_dataset[\"train_set_y\"][:]) # train set labels\n",
    "\n",
    "test_dataset = h5py.File('./test_catvnoncat.h5', \"r\")\n",
    "test_set_x_orig = np.array(test_dataset[\"test_set_x\"][:]) # test set features\n",
    "test_set_y_orig = np.array(test_dataset[\"test_set_y\"][:]) # test set labels\n",
    "    \n",
    "train_set_y = train_set_y_orig.reshape((1, train_set_y_orig.shape[0]))\n",
    "test_set_y = test_set_y_orig.reshape((1, test_set_y_orig.shape[0]))"
   ]
  },
  {
   "cell_type": "code",
   "execution_count": 3,
   "metadata": {
    "scrolled": true
   },
   "outputs": [
    {
     "data": {
      "text/plain": [
       "((1, 209), (1, 50))"
      ]
     },
     "execution_count": 3,
     "metadata": {},
     "output_type": "execute_result"
    }
   ],
   "source": [
    "train_set_x_orig.shape # train set features\n",
    "train_set_y_orig.shape # train set labels\n",
    "\n",
    "test_set_x_orig.shape # test set features\n",
    "test_set_y_orig.shape # test set labels\n",
    "\n",
    "    \n",
    "train_set_y.shape,test_set_y.shape"
   ]
  },
  {
   "cell_type": "code",
   "execution_count": 4,
   "metadata": {},
   "outputs": [
    {
     "data": {
      "text/plain": [
       "(209, 64, 64, 3)"
      ]
     },
     "execution_count": 4,
     "metadata": {},
     "output_type": "execute_result"
    }
   ],
   "source": [
    "train_set_x_orig.shape # train set features"
   ]
  },
  {
   "cell_type": "code",
   "execution_count": 5,
   "metadata": {},
   "outputs": [
    {
     "name": "stdout",
     "output_type": "stream",
     "text": [
      "WARNING:tensorflow:From C:\\Users\\ana.duran\\AppData\\Local\\Continuum\\anaconda3\\envs\\exercisew3d1\\lib\\site-packages\\tensorflow\\python\\ops\\resource_variable_ops.py:435: colocate_with (from tensorflow.python.framework.ops) is deprecated and will be removed in a future version.\n",
      "Instructions for updating:\n",
      "Colocations handled automatically by placer.\n"
     ]
    }
   ],
   "source": [
    "# setup model\n",
    "\n",
    "model = keras.Sequential([\n",
    "    keras.layers.Flatten(input_shape=(64,64,3)),\n",
    "    keras.layers.Dense(128, activation='tanh'),\n",
    "    keras.layers.Dense(64, activation='tanh'),\n",
    "    keras.layers.Dense(32, activation='relu'),\n",
    "    #keras.layers.Dense(32, activation='tanh'),\n",
    "    keras.layers.Dense(1, activation='sigmoid')\n",
    "])"
   ]
  },
  {
   "cell_type": "code",
   "execution_count": 6,
   "metadata": {},
   "outputs": [],
   "source": [
    "# compile model\n",
    "model.compile(optimizer='adam',\n",
    "              loss='binary_crossentropy',\n",
    "              metrics=['accuracy'])"
   ]
  },
  {
   "cell_type": "code",
   "execution_count": 7,
   "metadata": {},
   "outputs": [
    {
     "name": "stdout",
     "output_type": "stream",
     "text": [
      "WARNING:tensorflow:From C:\\Users\\ana.duran\\AppData\\Local\\Continuum\\anaconda3\\envs\\exercisew3d1\\lib\\site-packages\\tensorflow\\python\\ops\\math_ops.py:3066: to_int32 (from tensorflow.python.ops.math_ops) is deprecated and will be removed in a future version.\n",
      "Instructions for updating:\n",
      "Use tf.cast instead.\n",
      "Epoch 1/30\n",
      "209/209 [==============================] - 1s 3ms/sample - loss: 0.7087 - acc: 0.6220\n",
      "Epoch 2/30\n",
      "209/209 [==============================] - 0s 892us/sample - loss: 0.6674 - acc: 0.6555\n",
      "Epoch 3/30\n",
      "209/209 [==============================] - 0s 868us/sample - loss: 0.6714 - acc: 0.6555\n",
      "Epoch 4/30\n",
      "209/209 [==============================] - 0s 859us/sample - loss: 0.6520 - acc: 0.6555\n",
      "Epoch 5/30\n",
      "209/209 [==============================] - 0s 873us/sample - loss: 0.6452 - acc: 0.6555\n",
      "Epoch 6/30\n",
      "209/209 [==============================] - 0s 892us/sample - loss: 0.6449 - acc: 0.6555\n",
      "Epoch 7/30\n",
      "209/209 [==============================] - 0s 873us/sample - loss: 0.6490 - acc: 0.6555\n",
      "Epoch 8/30\n",
      "209/209 [==============================] - 0s 940us/sample - loss: 0.6470 - acc: 0.6555\n",
      "Epoch 9/30\n",
      "209/209 [==============================] - 0s 868us/sample - loss: 0.6456 - acc: 0.6555\n",
      "Epoch 10/30\n",
      "209/209 [==============================] - 0s 845us/sample - loss: 0.6449 - acc: 0.6555\n",
      "Epoch 11/30\n",
      "209/209 [==============================] - 0s 873us/sample - loss: 0.6439 - acc: 0.6555\n",
      "Epoch 12/30\n",
      "209/209 [==============================] - 0s 983us/sample - loss: 0.6438 - acc: 0.6555\n",
      "Epoch 13/30\n",
      "209/209 [==============================] - 0s 921us/sample - loss: 0.6444 - acc: 0.6555\n",
      "Epoch 14/30\n",
      "209/209 [==============================] - 0s 935us/sample - loss: 0.6436 - acc: 0.6555\n",
      "Epoch 15/30\n",
      "209/209 [==============================] - 0s 997us/sample - loss: 0.6454 - acc: 0.6555\n",
      "Epoch 16/30\n",
      "209/209 [==============================] - 0s 864us/sample - loss: 0.6493 - acc: 0.6555\n",
      "Epoch 17/30\n",
      "209/209 [==============================] - 0s 883us/sample - loss: 0.6447 - acc: 0.6555\n",
      "Epoch 18/30\n",
      "209/209 [==============================] - 0s 897us/sample - loss: 0.6469 - acc: 0.6555\n",
      "Epoch 19/30\n",
      "209/209 [==============================] - 0s 883us/sample - loss: 0.6436 - acc: 0.6555\n",
      "Epoch 20/30\n",
      "209/209 [==============================] - 0s 940us/sample - loss: 0.6438 - acc: 0.6555\n",
      "Epoch 21/30\n",
      "209/209 [==============================] - 0s 1ms/sample - loss: 0.6498 - acc: 0.6555\n",
      "Epoch 22/30\n",
      "209/209 [==============================] - 0s 840us/sample - loss: 0.6462 - acc: 0.6555\n",
      "Epoch 23/30\n",
      "209/209 [==============================] - 0s 969us/sample - loss: 0.6479 - acc: 0.6555\n",
      "Epoch 24/30\n",
      "209/209 [==============================] - 0s 869us/sample - loss: 0.6563 - acc: 0.6555\n",
      "Epoch 25/30\n",
      "209/209 [==============================] - 0s 973us/sample - loss: 0.6442 - acc: 0.6555\n",
      "Epoch 26/30\n",
      "209/209 [==============================] - 0s 997us/sample - loss: 0.6482 - acc: 0.6555\n",
      "Epoch 27/30\n",
      "209/209 [==============================] - 0s 864us/sample - loss: 0.6453 - acc: 0.6555\n",
      "Epoch 28/30\n",
      "209/209 [==============================] - 0s 854us/sample - loss: 0.6472 - acc: 0.6555\n",
      "Epoch 29/30\n",
      "209/209 [==============================] - 0s 864us/sample - loss: 0.6431 - acc: 0.6555\n",
      "Epoch 30/30\n",
      "209/209 [==============================] - 0s 945us/sample - loss: 0.6478 - acc: 0.6555\n"
     ]
    },
    {
     "data": {
      "text/plain": [
       "<tensorflow.python.keras.callbacks.History at 0x1ede2f45f28>"
      ]
     },
     "execution_count": 7,
     "metadata": {},
     "output_type": "execute_result"
    }
   ],
   "source": [
    "# train model\n",
    "\n",
    "model.fit(train_set_x_orig, train_set_y_orig, epochs=30)"
   ]
  },
  {
   "cell_type": "code",
   "execution_count": 8,
   "metadata": {
    "scrolled": true
   },
   "outputs": [
    {
     "name": "stdout",
     "output_type": "stream",
     "text": [
      "50/50 [==============================] - 0s 3ms/sample - loss: 0.8331 - acc: 0.3400\n",
      "test accuracy:  0.34\n"
     ]
    }
   ],
   "source": [
    "# evaluate\n",
    "test_loss, test_acc = model.evaluate(test_set_x_orig, test_set_y_orig)\n",
    "print('test accuracy: ', test_acc)"
   ]
  },
  {
   "cell_type": "code",
   "execution_count": 9,
   "metadata": {},
   "outputs": [],
   "source": [
    "#score = model.evaluate(x_test, y_test, verbose=0)"
   ]
  },
  {
   "cell_type": "code",
   "execution_count": 10,
   "metadata": {},
   "outputs": [],
   "source": [
    "predictions = model.predict(test_set_x_orig)"
   ]
  },
  {
   "cell_type": "code",
   "execution_count": 11,
   "metadata": {},
   "outputs": [
    {
     "name": "stdout",
     "output_type": "stream",
     "text": [
      "prediction:  [0.35462603]\n"
     ]
    },
    {
     "data": {
      "image/png": "[encoded data removed]",
      "text/plain": [
       "<Figure size 432x288 with 1 Axes>"
      ]
     },
     "metadata": {
      "needs_background": "light"
     },
     "output_type": "display_data"
    }
   ],
   "source": [
    "i = 10\n",
    "plt.imshow(test_set_x_orig[i])\n",
    "print('prediction: ', predictions[i])"
   ]
  },
  {
   "cell_type": "code",
   "execution_count": null,
   "metadata": {},
   "outputs": [],
   "source": []
  },
  {
   "cell_type": "code",
   "execution_count": null,
   "metadata": {},
   "outputs": [],
   "source": []
  }
 ],
 "metadata": {
  "kernelspec": {
   "display_name": "Python 3",
   "language": "python",
   "name": "python3"
  },
  "language_info": {
   "codemirror_mode": {
    "name": "ipython",
    "version": 3
   },
   "file_extension": ".py",
   "mimetype": "text/x-python",
   "name": "python",
   "nbconvert_exporter": "python",
   "pygments_lexer": "ipython3",
   "version": "3.7.3"
  }
 },
 "nbformat": 4,
 "nbformat_minor": 2
}
