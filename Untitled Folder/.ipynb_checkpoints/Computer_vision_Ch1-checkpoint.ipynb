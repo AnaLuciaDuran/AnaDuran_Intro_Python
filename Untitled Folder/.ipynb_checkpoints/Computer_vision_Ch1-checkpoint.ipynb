{
 "cells": [
  {
   "cell_type": "markdown",
   "metadata": {},
   "source": [
    "Import Statements"
   ]
  },
  {
   "cell_type": "code",
   "execution_count": 2,
   "metadata": {},
   "outputs": [],
   "source": [
    "import cv2\n",
    "import numpy as np"
   ]
  },
  {
   "cell_type": "code",
   "execution_count": 13,
   "metadata": {},
   "outputs": [],
   "source": [
    "day1='Toby.jpg'"
   ]
  },
  {
   "cell_type": "code",
   "execution_count": 14,
   "metadata": {},
   "outputs": [],
   "source": [
    "day_img = cv2.imread(day1)"
   ]
  },
  {
   "cell_type": "code",
   "execution_count": 16,
   "metadata": {},
   "outputs": [
    {
     "name": "stdout",
     "output_type": "stream",
     "text": [
      "None\n"
     ]
    }
   ],
   "source": [
    "print(day_img)"
   ]
  },
  {
   "cell_type": "code",
   "execution_count": 18,
   "metadata": {},
   "outputs": [
    {
     "name": "stdout",
     "output_type": "stream",
     "text": [
      " El volumen de la unidad C es OS\n",
      " El n£mero de serie del volumen es: A208-9D94\n",
      "\n",
      " Directorio de C:\\Users\\ana.duran\\Documents\\GitHub\\Ejercicios_BootcampAI\\Untitled Folder\n",
      "\n",
      "19/08/2019  10:01    <DIR>          .\n",
      "19/08/2019  10:01    <DIR>          ..\n",
      "19/08/2019  09:49    <DIR>          .ipynb_checkpoints\n",
      "19/08/2019  10:01            1ÿ,231 Computer_vision_Ch1.ipynb\n",
      "               1 archivos         1ÿ,231 bytes\n",
      "               3 dirs  280ÿ,084ÿ,758ÿ,528 bytes libres\n"
     ]
    }
   ],
   "source": [
    "!dir"
   ]
  }
 ],
 "metadata": {
  "kernelspec": {
   "display_name": "Python 3",
   "language": "python",
   "name": "python3"
  },
  "language_info": {
   "codemirror_mode": {
    "name": "ipython",
    "version": 3
   },
   "file_extension": ".py",
   "mimetype": "text/x-python",
   "name": "python",
   "nbconvert_exporter": "python",
   "pygments_lexer": "ipython3",
   "version": "3.7.3"
  }
 },
 "nbformat": 4,
 "nbformat_minor": 2
}
