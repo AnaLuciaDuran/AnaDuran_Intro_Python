{
 "cells": [
  {
   "cell_type": "markdown",
   "metadata": {
    "colab_type": "text",
    "id": "EVQk765v-lYo"
   },
   "source": [
    "# Intro to NLTK - part 2\n",
    "\n",
    "In order to download the required resources, do the following in your Python console:<br>\n",
    "    `>>> import nltk`<br>\n",
    "    `>>> nltk.download('wordnet_ic')`<br>\n",
    "    `>>> nltk.download('movie_reviews')`<br>\n",
    "    `>>> nltk.download('sentiwordnet')`<br>"
   ]
  },
  {
   "cell_type": "markdown",
   "metadata": {
    "colab_type": "text",
    "id": "h64MfLH--lYp"
   },
   "source": [
    "## Example of lemmatization:"
   ]
  },
  {
   "cell_type": "code",
   "execution_count": 0,
   "metadata": {
    "colab": {},
    "colab_type": "code",
    "id": "mPfl5APJ-lYq",
    "outputId": "3fc9e576-39d2-45b3-8aeb-6e44d8b956de"
   },
   "outputs": [
    {
     "name": "stdout",
     "output_type": "stream",
     "text": [
      "Word                Lemma               \n",
      "He                  He                  \n",
      "was                 wa                  \n",
      "running             running             \n",
      "and                 and                 \n",
      "eating              eating              \n",
      "at                  at                  \n",
      "same                same                \n",
      "time                time                \n",
      "He                  He                  \n",
      "has                 ha                  \n",
      "bad                 bad                 \n",
      "habit               habit               \n",
      "of                  of                  \n",
      "swimming            swimming            \n",
      "after               after               \n",
      "playing             playing             \n",
      "long                long                \n",
      "hours               hour                \n",
      "in                  in                  \n",
      "the                 the                 \n",
      "Sun                 Sun                 \n"
     ]
    }
   ],
   "source": [
    "import nltk\n",
    "from nltk.stem import WordNetLemmatizer\n",
    "wordnet_lemmatizer = WordNetLemmatizer()\n",
    "\n",
    "sentence = \"He was running and eating at same time. He has bad habit of swimming after playing long hours in the Sun.\"\n",
    "punctuations=\"?:!.,;\"\n",
    "sentence_words = nltk.word_tokenize(sentence)\n",
    "for word in sentence_words:\n",
    "    if word in punctuations:\n",
    "        sentence_words.remove(word)\n",
    "\n",
    "sentence_words\n",
    "print(\"{0:20}{1:20}\".format(\"Word\",\"Lemma\"))\n",
    "for word in sentence_words:\n",
    "    print (\"{0:20}{1:20}\".format(word,wordnet_lemmatizer.lemmatize(word)))"
   ]
  },
  {
   "cell_type": "code",
   "execution_count": 0,
   "metadata": {
    "colab": {},
    "colab_type": "code",
    "id": "qnfgi_YF-lYt",
    "outputId": "c11c1ad7-ae97-47f6-9adf-6793db1a9578"
   },
   "outputs": [
    {
     "name": "stdout",
     "output_type": "stream",
     "text": [
      "He                  He                  \n",
      "was                 be                  \n",
      "running             run                 \n",
      "and                 and                 \n",
      "eating              eat                 \n",
      "at                  at                  \n",
      "same                same                \n",
      "time                time                \n",
      "He                  He                  \n",
      "has                 have                \n",
      "bad                 bad                 \n",
      "habit               habit               \n",
      "of                  of                  \n",
      "swimming            swim                \n",
      "after               after               \n",
      "playing             play                \n",
      "long                long                \n",
      "hours               hours               \n",
      "in                  in                  \n",
      "the                 the                 \n",
      "Sun                 Sun                 \n"
     ]
    }
   ],
   "source": [
    "for word in sentence_words:\n",
    "    print (\"{0:20}{1:20}\".format(word,wordnet_lemmatizer.lemmatize(word, pos=\"v\")))"
   ]
  },
  {
   "cell_type": "markdown",
   "metadata": {
    "colab_type": "text",
    "id": "kqRRrRfq-lYx"
   },
   "source": [
    "## Example of POS tagging:"
   ]
  },
  {
   "cell_type": "code",
   "execution_count": 0,
   "metadata": {
    "colab": {},
    "colab_type": "code",
    "id": "G7SV_lm--lYx",
    "outputId": "302a849e-c1e7-47cc-8139-2bed1e9b98c6"
   },
   "outputs": [
    {
     "data": {
      "text/plain": [
       "[('And', 'CC'),\n",
       " ('now', 'RB'),\n",
       " ('for', 'IN'),\n",
       " ('something', 'NN'),\n",
       " ('completely', 'RB'),\n",
       " ('different', 'JJ')]"
      ]
     },
     "execution_count": 3,
     "metadata": {
      "tags": []
     },
     "output_type": "execute_result"
    }
   ],
   "source": [
    "from nltk import word_tokenize\n",
    "from nltk import pos_tag\n",
    "text = word_tokenize(\"And now for something completely different\")\n",
    "pos_tag(text)"
   ]
  },
  {
   "cell_type": "markdown",
   "metadata": {
    "colab_type": "text",
    "id": "vjhYAE7G-lY0"
   },
   "source": [
    "# WordNet\n",
    "\n",
    "**WordNet reader:**\n",
    "http://www.nltk.org/howto/wordnet.html\n",
    "Provides an interface to access WordNet data, such as:\n",
    "- synsets of a given lemma+PoS pair,\n",
    "- lemmas of a given synset,\n",
    "- hypernyms and hyponyms of a given synset,\n",
    "- synonyms and antonyms of a given lemma in a synset\n",
    "- least common subsumers of a pair of synsets\n",
    "- different measures of synset similarity\n",
    "- ..."
   ]
  },
  {
   "cell_type": "code",
   "execution_count": 0,
   "metadata": {
    "colab": {},
    "colab_type": "code",
    "id": "w0xYHzr1-lY1"
   },
   "outputs": [],
   "source": [
    "from nltk.corpus import wordnet as wn"
   ]
  },
  {
   "cell_type": "markdown",
   "metadata": {
    "colab_type": "text",
    "id": "3-1zGyc1-lY4"
   },
   "source": [
    "### synsets"
   ]
  },
  {
   "cell_type": "code",
   "execution_count": 0,
   "metadata": {
    "colab": {},
    "colab_type": "code",
    "id": "9J-LDklF-lY5",
    "outputId": "23c1bb98-75d4-402d-ce15-b714af4fcd00"
   },
   "outputs": [
    {
     "data": {
      "text/plain": [
       "[Synset('age.n.01'),\n",
       " Synset('historic_period.n.01'),\n",
       " Synset('age.n.03'),\n",
       " Synset('long_time.n.01'),\n",
       " Synset('old_age.n.01')]"
      ]
     },
     "execution_count": 5,
     "metadata": {
      "tags": []
     },
     "output_type": "execute_result"
    }
   ],
   "source": [
    "wn.synsets('age', 'n')"
   ]
  },
  {
   "cell_type": "code",
   "execution_count": 0,
   "metadata": {
    "colab": {},
    "colab_type": "code",
    "id": "FdBI1Q-b-lY8",
    "outputId": "d0430fd8-7b1f-4076-aaee-aed97b03c554"
   },
   "outputs": [
    {
     "data": {
      "text/plain": [
       "Synset('age.n.01')"
      ]
     },
     "execution_count": 6,
     "metadata": {
      "tags": []
     },
     "output_type": "execute_result"
    }
   ],
   "source": [
    "age = wn.synset('age.n.1')\n",
    "age"
   ]
  },
  {
   "cell_type": "markdown",
   "metadata": {
    "colab_type": "text",
    "id": "4dibWZlG-lY-"
   },
   "source": [
    "### definitions, examples and lemmas"
   ]
  },
  {
   "cell_type": "code",
   "execution_count": 0,
   "metadata": {
    "colab": {},
    "colab_type": "code",
    "id": "NslvTVy8-lY_",
    "outputId": "2d10bc14-2dc0-489f-a4e3-3265cf02473b"
   },
   "outputs": [
    {
     "data": {
      "text/plain": [
       "'how long something has existed'"
      ]
     },
     "execution_count": 7,
     "metadata": {
      "tags": []
     },
     "output_type": "execute_result"
    }
   ],
   "source": [
    "age.definition()"
   ]
  },
  {
   "cell_type": "code",
   "execution_count": 0,
   "metadata": {
    "colab": {},
    "colab_type": "code",
    "id": "AGSGBp2L-lZB",
    "outputId": "7bc8a2d0-60aa-4a9d-a7d0-7a8ef5fa54d9"
   },
   "outputs": [
    {
     "data": {
      "text/plain": [
       "['it was replaced because of its age']"
      ]
     },
     "execution_count": 8,
     "metadata": {
      "tags": []
     },
     "output_type": "execute_result"
    }
   ],
   "source": [
    "age.examples()"
   ]
  },
  {
   "cell_type": "code",
   "execution_count": 0,
   "metadata": {
    "colab": {},
    "colab_type": "code",
    "id": "3ozChY_J-lZF",
    "outputId": "a5811a24-09d6-45ca-a3db-799cc812b838"
   },
   "outputs": [
    {
     "data": {
      "text/plain": [
       "['historic_period', 'age']"
      ]
     },
     "execution_count": 9,
     "metadata": {
      "tags": []
     },
     "output_type": "execute_result"
    }
   ],
   "source": [
    "ls = wn.synsets('age', 'n')\n",
    "ll = ls[1].lemmas()\n",
    "[lemma.name() for lemma in ll]"
   ]
  },
  {
   "cell_type": "markdown",
   "metadata": {
    "colab_type": "text",
    "id": "K_n61y8r-lZK"
   },
   "source": [
    "### antonyms"
   ]
  },
  {
   "cell_type": "code",
   "execution_count": 0,
   "metadata": {
    "colab": {},
    "colab_type": "code",
    "id": "2HS4llhF-lZL",
    "outputId": "e1c2aa4f-29b6-4825-e59b-055f1947aef8"
   },
   "outputs": [
    {
     "data": {
      "text/plain": [
       "[Lemma('bad.a.01.bad')]"
      ]
     },
     "execution_count": 10,
     "metadata": {
      "tags": []
     },
     "output_type": "execute_result"
    }
   ],
   "source": [
    "good = wn.synset('good.a.01')\n",
    "good.lemmas()[0].antonyms()"
   ]
  },
  {
   "cell_type": "markdown",
   "metadata": {
    "colab_type": "text",
    "id": "xqVHOryS-lZN"
   },
   "source": [
    "### hyponyms and hypernyms"
   ]
  },
  {
   "cell_type": "code",
   "execution_count": 0,
   "metadata": {
    "colab": {},
    "colab_type": "code",
    "id": "2Z9jvM14-lZN",
    "outputId": "9cc28a47-3b15-4d04-9f44-89b6ebfd5627"
   },
   "outputs": [
    {
     "data": {
      "text/plain": [
       "[Synset('bone_age.n.01'),\n",
       " Synset('chronological_age.n.01'),\n",
       " Synset('developmental_age.n.01'),\n",
       " Synset('fetal_age.n.01'),\n",
       " Synset('mental_age.n.01'),\n",
       " Synset('newness.n.01'),\n",
       " Synset('oldness.n.01'),\n",
       " Synset('oldness.n.02'),\n",
       " Synset('youngness.n.01')]"
      ]
     },
     "execution_count": 11,
     "metadata": {
      "tags": []
     },
     "output_type": "execute_result"
    }
   ],
   "source": [
    "age.hyponyms()"
   ]
  },
  {
   "cell_type": "code",
   "execution_count": 0,
   "metadata": {
    "colab": {},
    "colab_type": "code",
    "id": "LADLPAiu-lZP",
    "outputId": "aa551651-cd90-47e8-d86a-7b205e83654d"
   },
   "outputs": [
    {
     "data": {
      "text/plain": [
       "[Synset('property.n.02')]"
      ]
     },
     "execution_count": 12,
     "metadata": {
      "tags": []
     },
     "output_type": "execute_result"
    }
   ],
   "source": [
    "age.hypernyms()"
   ]
  },
  {
   "cell_type": "code",
   "execution_count": 0,
   "metadata": {
    "colab": {},
    "colab_type": "code",
    "id": "kAsbnHwt-lZR",
    "outputId": "e889c397-636e-4314-84d8-33335564fa1a"
   },
   "outputs": [
    {
     "data": {
      "text/plain": [
       "[Synset('entity.n.01')]"
      ]
     },
     "execution_count": 13,
     "metadata": {
      "tags": []
     },
     "output_type": "execute_result"
    }
   ],
   "source": [
    "age.root_hypernyms()"
   ]
  },
  {
   "cell_type": "code",
   "execution_count": 0,
   "metadata": {
    "colab": {},
    "colab_type": "code",
    "id": "_G9p6CIb-lZU",
    "outputId": "39f92aaa-3597-4f68-fb71-d2b90bb25d29"
   },
   "outputs": [
    {
     "data": {
      "text/plain": [
       "[Synset('property.n.02'),\n",
       " Synset('attribute.n.02'),\n",
       " Synset('abstraction.n.06'),\n",
       " Synset('entity.n.01')]"
      ]
     },
     "execution_count": 14,
     "metadata": {
      "tags": []
     },
     "output_type": "execute_result"
    }
   ],
   "source": [
    "hyper = lambda s: s.hypernyms()\n",
    "list(age.closure(hyper))"
   ]
  },
  {
   "cell_type": "code",
   "execution_count": 0,
   "metadata": {
    "colab": {},
    "colab_type": "code",
    "id": "8qxN71GO-lZX",
    "outputId": "f9191787-86d8-483a-957e-2cdd02e098c1"
   },
   "outputs": [
    {
     "data": {
      "text/plain": [
       "[Synset('age.n.01'),\n",
       " [Synset('property.n.02'),\n",
       "  [Synset('attribute.n.02'),\n",
       "   [Synset('abstraction.n.06'), [Synset('entity.n.01')]]]]]"
      ]
     },
     "execution_count": 15,
     "metadata": {
      "tags": []
     },
     "output_type": "execute_result"
    }
   ],
   "source": [
    "age.tree(hyper)"
   ]
  },
  {
   "cell_type": "markdown",
   "metadata": {
    "colab_type": "text",
    "id": "VffIZad6-lZZ"
   },
   "source": [
    "### similarities"
   ]
  },
  {
   "cell_type": "code",
   "execution_count": 0,
   "metadata": {
    "colab": {},
    "colab_type": "code",
    "id": "_e6YvtTo-lZa",
    "outputId": "68ec9772-1f1e-4e17-eb87-26c3664328d7"
   },
   "outputs": [
    {
     "data": {
      "text/plain": [
       "0.2"
      ]
     },
     "execution_count": 16,
     "metadata": {
      "tags": []
     },
     "output_type": "execute_result"
    }
   ],
   "source": [
    "dog = wn.synset('dog.n.01')\n",
    "cat = wn.synset('cat.n.01')\n",
    "dog.path_similarity(cat)"
   ]
  },
  {
   "cell_type": "code",
   "execution_count": 0,
   "metadata": {
    "colab": {},
    "colab_type": "code",
    "id": "LzfdG-p0-lZc",
    "outputId": "f13ebaa4-1b3d-4a9d-cfce-914c181e81a2"
   },
   "outputs": [
    {
     "data": {
      "text/plain": [
       "2.0281482472922856"
      ]
     },
     "execution_count": 17,
     "metadata": {
      "tags": []
     },
     "output_type": "execute_result"
    }
   ],
   "source": [
    "dog.lch_similarity(cat)"
   ]
  },
  {
   "cell_type": "code",
   "execution_count": 0,
   "metadata": {
    "colab": {},
    "colab_type": "code",
    "id": "t6iMYbMi-lZf",
    "outputId": "3bae32e8-c2ac-4a75-ccce-b1a55731d1c4"
   },
   "outputs": [
    {
     "data": {
      "text/plain": [
       "0.8571428571428571"
      ]
     },
     "execution_count": 18,
     "metadata": {
      "tags": []
     },
     "output_type": "execute_result"
    }
   ],
   "source": [
    "dog.wup_similarity(cat)"
   ]
  },
  {
   "cell_type": "code",
   "execution_count": 0,
   "metadata": {
    "colab": {},
    "colab_type": "code",
    "id": "a8nZ-3HL-lZj",
    "outputId": "ae89fe7c-c0cf-4eef-a26d-f0a5f6b3613b"
   },
   "outputs": [
    {
     "data": {
      "text/plain": [
       "0.8768009843733973"
      ]
     },
     "execution_count": 19,
     "metadata": {
      "tags": []
     },
     "output_type": "execute_result"
    }
   ],
   "source": [
    "from nltk.corpus import wordnet_ic\n",
    "brown_ic = wordnet_ic.ic('ic-brown.dat')\n",
    "dog.lin_similarity(cat,brown_ic)"
   ]
  },
  {
   "cell_type": "code",
   "execution_count": 0,
   "metadata": {
    "colab": {},
    "colab_type": "code",
    "id": "t-EQ9xq1-lZn",
    "outputId": "ae92a5bb-5c00-449b-cd0a-5d327725a2df"
   },
   "outputs": [
    {
     "data": {
      "text/plain": [
       "[Synset('carnivore.n.01')]"
      ]
     },
     "execution_count": 20,
     "metadata": {
      "tags": []
     },
     "output_type": "execute_result"
    }
   ],
   "source": [
    "dog.lowest_common_hypernyms(cat)"
   ]
  },
  {
   "cell_type": "markdown",
   "metadata": {
    "colab_type": "text",
    "id": "fVGNgBRU-lZp"
   },
   "source": [
    "### Exercise 1:\n",
    "Given the following (lemma, category) pairs:\n",
    "\n",
    "(’the’,’DT’), (’man’,’NN’), (’swim’,’VB’), (’with’, ’PR’), (’a’, ’DT’), (’girl’,’NN’), (’and’, ’CC’), (’a’, ’DT’), (’boy’, ’NN’), (’whilst’, ’PR’), (’the’, ’DT’), (’woman’, ’NN’), (’walk’, ’VB’)\n",
    "\n",
    "For each pair, when possible, print their most frequent WordNet synset, their corresponding least common subsumer (LCS) and their similarity value, using the following functions:\n",
    "- Path Similarity\n",
    "- Leacock-Chodorow Similarity\n",
    "- Wu-Palmer Similarity\n",
    "- Lin Similarity\n",
    "\n",
    "Normalize similarity values when necessary. What similarity seems better?"
   ]
  },
  {
   "cell_type": "markdown",
   "metadata": {
    "colab_type": "text",
    "id": "tdfg8-3X-lZq"
   },
   "source": [
    "# Sentiment Analysis\n",
    "\n",
    "Polarity corpus:\n",
    "- 1000 positive examples\n",
    "- 1000 negative examples"
   ]
  },
  {
   "cell_type": "code",
   "execution_count": 0,
   "metadata": {
    "colab": {},
    "colab_type": "code",
    "id": "Ss2BtVgZ-lZq",
    "outputId": "889f70d3-a390-4a67-81f6-8fbf719cd4dc"
   },
   "outputs": [
    {
     "data": {
      "text/plain": [
       "['pos/cv000_29590.txt',\n",
       " 'pos/cv001_18431.txt',\n",
       " 'pos/cv002_15918.txt',\n",
       " 'pos/cv003_11664.txt',\n",
       " 'pos/cv004_11636.txt']"
      ]
     },
     "execution_count": 21,
     "metadata": {
      "tags": []
     },
     "output_type": "execute_result"
    }
   ],
   "source": [
    "from nltk.corpus import movie_reviews as mr\n",
    "\n",
    "mr.fileids('pos')[:5]"
   ]
  },
  {
   "cell_type": "code",
   "execution_count": 0,
   "metadata": {
    "colab": {},
    "colab_type": "code",
    "id": "cE8vG8Fg-lZt",
    "outputId": "cca0e92a-7678-4b39-e7ac-e14fd2a8d344"
   },
   "outputs": [
    {
     "data": {
      "text/plain": [
       "['films', 'adapted', 'from', 'comic', 'books', 'have', 'had']"
      ]
     },
     "execution_count": 22,
     "metadata": {
      "tags": []
     },
     "output_type": "execute_result"
    }
   ],
   "source": [
    "mr.words('pos/cv000_29590.txt')[:7]"
   ]
  },
  {
   "cell_type": "markdown",
   "metadata": {
    "colab_type": "text",
    "id": "cDiCgeLo-lZv"
   },
   "source": [
    "### SentiWordnet"
   ]
  },
  {
   "cell_type": "code",
   "execution_count": 0,
   "metadata": {
    "colab": {},
    "colab_type": "code",
    "id": "2VvNYNlP-lZw",
    "outputId": "67b82717-c2ac-4ecb-df80-8176538bc268"
   },
   "outputs": [
    {
     "data": {
      "text/plain": [
       "(0.75, 0.0, 0.25)"
      ]
     },
     "execution_count": 23,
     "metadata": {
      "tags": []
     },
     "output_type": "execute_result"
    }
   ],
   "source": [
    "from nltk.corpus import sentiwordnet as swn\n",
    "\n",
    "# getting the wordnet synset\n",
    "synset = wn.synset('good.a.1')\n",
    "# getting the sentiwordnet synset\n",
    "sentiSynset = swn.senti_synset(synset.name())\n",
    "# getting the scores: positivity, negativity and objectivity\n",
    "sentiSynset.pos_score(), sentiSynset.neg_score(), sentiSynset.obj_score()"
   ]
  },
  {
   "cell_type": "markdown",
   "metadata": {
    "colab_type": "text",
    "id": "qVCnJExW-lZx"
   },
   "source": [
    "### Exercise 2: unsupervised polarity system\n",
    "1. Get the first synset (most frequent) of one of the next alternatives:\n",
    "    - nouns, verbs, adjectives and adverbs\n",
    "    - nouns, adjectives and adverbs\n",
    "    - only adjectives\n",
    "2. Sum all the positive scores and negative ones to get the polarity\n",
    "3. Apply the system to the movie reviews corpus and give the accuracy\n",
    "4. Give some conclusions about the work\n",
    "\n",
    "Notes: We can assign the proper sense, instead of the first one, using a Word Sense Disambiguation tagger. We will see them tomorrow."
   ]
  }
 ],
 "metadata": {
  "colab": {
   "name": "Intro to NLP with NLTK - part 2.ipynb",
   "provenance": [],
   "version": "0.3.2"
  },
  "kernelspec": {
   "display_name": "Python 3",
   "language": "python",
   "name": "python3"
  },
  "language_info": {
   "codemirror_mode": {
    "name": "ipython",
    "version": 3
   },
   "file_extension": ".py",
   "mimetype": "text/x-python",
   "name": "python",
   "nbconvert_exporter": "python",
   "pygments_lexer": "ipython3",
   "version": "3.7.3"
  }
 },
 "nbformat": 4,
 "nbformat_minor": 1
}
