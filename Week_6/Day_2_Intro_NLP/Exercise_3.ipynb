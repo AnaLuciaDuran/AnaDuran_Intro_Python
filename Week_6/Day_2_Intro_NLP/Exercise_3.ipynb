{
 "cells": [
  {
   "cell_type": "markdown",
   "metadata": {},
   "source": [
    "### Exercise 3: Spelling corrector\n",
    "\n",
    "**Levenshtein edit distance:** the edit distance is the number of characters that need to be substituted, inserted, or deleted, to transform the first string to the second one.\n",
    "\n",
    "Example:\n",
    "“rain” → “sain” → “shin” → “shine” <br>\n",
    "It is needed at least 3 steps."
   ]
  },
  {
   "cell_type": "markdown",
   "metadata": {},
   "source": [
    "The first approach to perform spelling correction needs a list of words such as the attached file wordsEn.txt: (http://www-01.sil.org/linguistics/wordlists/english/)\n",
    "\n",
    "The input of the process should a word to be corrected.\n",
    "The output of the process should be the same word if it is included in the previous word list; or the word in the list with minimum edit distance to the input word if it do not belong to the list.\n",
    "\n",
    "**Steps:**\n",
    "1. Read the word list from the attached file\n",
    "2. Implement this basic approach inside a function\n",
    "3. Use the approach to correct the words: 'something', 'soemthing' and some other of your choose"
   ]
  },
  {
   "cell_type": "code",
   "execution_count": 2,
   "metadata": {},
   "outputs": [
    {
     "data": {
      "text/plain": [
       "2"
      ]
     },
     "execution_count": 2,
     "metadata": {},
     "output_type": "execute_result"
    }
   ],
   "source": [
    "from nltk.metrics.distance import edit_distance\n",
    "edit_distance('something', 'soemthing')"
   ]
  },
  {
   "cell_type": "code",
   "execution_count": 3,
   "metadata": {},
   "outputs": [],
   "source": [
    "txt = open('./wordsEn.txt', 'r')\n",
    "words_en = [line.strip() for line in txt.readlines()]"
   ]
  },
  {
   "cell_type": "code",
   "execution_count": 4,
   "metadata": {},
   "outputs": [],
   "source": [
    "def spelling_corrector(word):\n",
    "    if word in words_en:\n",
    "        return word\n",
    "    else:\n",
    "        dist = edit_distance(word, words_en[0])\n",
    "        correct_word = words_en[0]\n",
    "        for w in words_en[1:]:\n",
    "            next_dist = edit_distance(word, w)\n",
    "            if next_dist < dist:\n",
    "                dist = next_dist\n",
    "                correct_word = w\n",
    "        return correct_word"
   ]
  },
  {
   "cell_type": "code",
   "execution_count": 5,
   "metadata": {},
   "outputs": [
    {
     "name": "stdout",
     "output_type": "stream",
     "text": [
      "something  -->  something\n",
      "soemthing  -->  seething\n"
     ]
    }
   ],
   "source": [
    "words = ['something', 'soemthing']\n",
    "\n",
    "for word in words:\n",
    "    print(word, ' --> ', spelling_corrector(word))"
   ]
  },
  {
   "cell_type": "code",
   "execution_count": 8,
   "metadata": {},
   "outputs": [
    {
     "name": "stdout",
     "output_type": "stream",
     "text": [
      "carri  -->  carpi\n"
     ]
    }
   ],
   "source": [
    "other_words = ['carri']\n",
    "\n",
    "for word in other_words:\n",
    "    print(word, ' --> ', spelling_corrector(word))"
   ]
  },
  {
   "cell_type": "code",
   "execution_count": null,
   "metadata": {},
   "outputs": [],
   "source": []
  }
 ],
 "metadata": {
  "kernelspec": {
   "display_name": "Python 3",
   "language": "python",
   "name": "python3"
  },
  "language_info": {
   "codemirror_mode": {
    "name": "ipython",
    "version": 3
   },
   "file_extension": ".py",
   "mimetype": "text/x-python",
   "name": "python",
   "nbconvert_exporter": "python",
   "pygments_lexer": "ipython3",
   "version": "3.7.3"
  }
 },
 "nbformat": 4,
 "nbformat_minor": 2
}
