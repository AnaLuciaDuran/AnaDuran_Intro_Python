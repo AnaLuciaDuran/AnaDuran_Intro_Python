{
 "cells": [
  {
   "cell_type": "markdown",
   "metadata": {},
   "source": [
    "## Exercise 2: \n",
    "\n",
    "#### remake the same steps in the example above but with the file `austen-sense.txt` of Gutenberg corpus (in a new notebook). Compare the results with those in the example."
   ]
  },
  {
   "cell_type": "code",
   "execution_count": 1,
   "metadata": {},
   "outputs": [],
   "source": [
    "from nltk.corpus import gutenberg\n",
    "from nltk.text import Text\n",
    "\n",
    "crp = Text(gutenberg.words('austen-sense.txt'))"
   ]
  },
  {
   "cell_type": "code",
   "execution_count": 2,
   "metadata": {},
   "outputs": [
    {
     "data": {
      "text/plain": [
       "141576"
      ]
     },
     "execution_count": 2,
     "metadata": {},
     "output_type": "execute_result"
    }
   ],
   "source": [
    "len(crp) # length"
   ]
  },
  {
   "cell_type": "code",
   "execution_count": 3,
   "metadata": {
    "scrolled": true
   },
   "outputs": [
    {
     "data": {
      "text/plain": [
       "179"
      ]
     },
     "execution_count": 3,
     "metadata": {},
     "output_type": "execute_result"
    }
   ],
   "source": [
    "from nltk.corpus import stopwords\n",
    "\n",
    "stopwords = set(stopwords.words('english'))\n",
    "len(stopwords)"
   ]
  },
  {
   "cell_type": "code",
   "execution_count": 4,
   "metadata": {},
   "outputs": [
    {
     "data": {
      "text/plain": [
       "True"
      ]
     },
     "execution_count": 4,
     "metadata": {},
     "output_type": "execute_result"
    }
   ],
   "source": [
    "'the' in stopwords"
   ]
  },
  {
   "cell_type": "code",
   "execution_count": 5,
   "metadata": {},
   "outputs": [],
   "source": [
    "lst = [w for w in crp if len(w)>0]"
   ]
  },
  {
   "cell_type": "code",
   "execution_count": 6,
   "metadata": {},
   "outputs": [
    {
     "name": "stdout",
     "output_type": "stream",
     "text": [
      "141576 54040\n"
     ]
    }
   ],
   "source": [
    "ex1_lst = [w.lower() for w in crp if w.isalnum() and w.lower() not in stopwords]\n",
    "print(len(lst),len(ex1_lst))"
   ]
  },
  {
   "cell_type": "code",
   "execution_count": 7,
   "metadata": {},
   "outputs": [],
   "source": [
    "ex1_freqs = {w:ex1_lst.count(w) for w in set(ex1_lst)}"
   ]
  },
  {
   "cell_type": "code",
   "execution_count": 8,
   "metadata": {},
   "outputs": [
    {
     "data": {
      "text/plain": [
       "6201"
      ]
     },
     "execution_count": 8,
     "metadata": {},
     "output_type": "execute_result"
    }
   ],
   "source": [
    "len(ex1_freqs)"
   ]
  },
  {
   "cell_type": "code",
   "execution_count": 9,
   "metadata": {},
   "outputs": [
    {
     "data": {
      "text/plain": [
       "(',', 9397)"
      ]
     },
     "execution_count": 9,
     "metadata": {},
     "output_type": "execute_result"
    }
   ],
   "source": [
    "# frequencies of words\n",
    "freqs = {w:lst.count(w) for w in set(lst)}\n",
    "kmax = max(freqs, key=lambda k: freqs[k])\n",
    "kmax, freqs[kmax]"
   ]
  },
  {
   "cell_type": "code",
   "execution_count": 10,
   "metadata": {},
   "outputs": [
    {
     "data": {
      "text/plain": [
       "{'elinor': 685,\n",
       " 'could': 578,\n",
       " 'marianne': 566,\n",
       " 'mrs': 530,\n",
       " 'would': 515,\n",
       " 'said': 397,\n",
       " 'every': 377,\n",
       " 'one': 331,\n",
       " 'much': 290,\n",
       " 'must': 283,\n",
       " 'sister': 282,\n",
       " 'edward': 263,\n",
       " 'mother': 258,\n",
       " 'dashwood': 252,\n",
       " 'well': 240,\n",
       " 'time': 239,\n",
       " 'know': 232,\n",
       " 'jennings': 230,\n",
       " 'willoughby': 216,\n",
       " 'though': 216,\n",
       " 'might': 215,\n",
       " 'miss': 210,\n",
       " 'think': 210,\n",
       " 'nothing': 189,\n",
       " 'never': 189}"
      ]
     },
     "execution_count": 10,
     "metadata": {},
     "output_type": "execute_result"
    }
   ],
   "source": [
    "sorted_freq_list = sorted(ex1_freqs, key=ex1_freqs.get,reverse=True)\n",
    "{key:ex1_freqs[key] for key in sorted_freq_list[:25]}"
   ]
  },
  {
   "cell_type": "code",
   "execution_count": null,
   "metadata": {},
   "outputs": [],
   "source": []
  }
 ],
 "metadata": {
  "kernelspec": {
   "display_name": "Python 3",
   "language": "python",
   "name": "python3"
  },
  "language_info": {
   "codemirror_mode": {
    "name": "ipython",
    "version": 3
   },
   "file_extension": ".py",
   "mimetype": "text/x-python",
   "name": "python",
   "nbconvert_exporter": "python",
   "pygments_lexer": "ipython3",
   "version": "3.7.3"
  }
 },
 "nbformat": 4,
 "nbformat_minor": 2
}
