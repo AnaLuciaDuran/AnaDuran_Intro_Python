{
 "cells": [
  {
   "cell_type": "markdown",
   "metadata": {},
   "source": [
    "## Exercise 1: \n",
    "\n",
    "#### develop a jupyter notebook that shows the 25 non-stopwords with more number of occurrences in the file 'blake-poems.txt' of Gutenberg corpus."
   ]
  },
  {
   "cell_type": "code",
   "execution_count": 1,
   "metadata": {},
   "outputs": [],
   "source": [
    "from nltk.corpus import gutenberg\n",
    "from nltk.text import Text\n",
    "\n",
    "crp = Text(gutenberg.words('blake-poems.txt'))"
   ]
  },
  {
   "cell_type": "code",
   "execution_count": 2,
   "metadata": {},
   "outputs": [
    {
     "data": {
      "text/plain": [
       "8354"
      ]
     },
     "execution_count": 2,
     "metadata": {},
     "output_type": "execute_result"
    }
   ],
   "source": [
    "len(crp) # length"
   ]
  },
  {
   "cell_type": "code",
   "execution_count": 3,
   "metadata": {
    "scrolled": true
   },
   "outputs": [
    {
     "data": {
      "text/plain": [
       "179"
      ]
     },
     "execution_count": 3,
     "metadata": {},
     "output_type": "execute_result"
    }
   ],
   "source": [
    "from nltk.corpus import stopwords\n",
    "\n",
    "stopwords = set(stopwords.words('english'))\n",
    "len(stopwords)"
   ]
  },
  {
   "cell_type": "code",
   "execution_count": 4,
   "metadata": {},
   "outputs": [
    {
     "data": {
      "text/plain": [
       "True"
      ]
     },
     "execution_count": 4,
     "metadata": {},
     "output_type": "execute_result"
    }
   ],
   "source": [
    "'the' in stopwords"
   ]
  },
  {
   "cell_type": "code",
   "execution_count": 15,
   "metadata": {},
   "outputs": [],
   "source": [
    "lst = [w for w in crp if len(w)>0]"
   ]
  },
  {
   "cell_type": "code",
   "execution_count": 16,
   "metadata": {},
   "outputs": [
    {
     "name": "stdout",
     "output_type": "stream",
     "text": [
      "8354 3807\n"
     ]
    }
   ],
   "source": [
    "ex1_lst = [w.lower() for w in crp if w.isalnum() and w.lower() not in stopwords]\n",
    "print(len(lst),len(ex1_lst))"
   ]
  },
  {
   "cell_type": "code",
   "execution_count": 17,
   "metadata": {},
   "outputs": [],
   "source": [
    "ex1_freqs = {w:ex1_lst.count(w) for w in set(ex1_lst)}"
   ]
  },
  {
   "cell_type": "code",
   "execution_count": 18,
   "metadata": {},
   "outputs": [
    {
     "data": {
      "text/plain": [
       "1402"
      ]
     },
     "execution_count": 18,
     "metadata": {},
     "output_type": "execute_result"
    }
   ],
   "source": [
    "len(ex1_freqs)"
   ]
  },
  {
   "cell_type": "code",
   "execution_count": 19,
   "metadata": {},
   "outputs": [
    {
     "data": {
      "text/plain": [
       "(',', 680)"
      ]
     },
     "execution_count": 19,
     "metadata": {},
     "output_type": "execute_result"
    }
   ],
   "source": [
    "# frequencies of words\n",
    "freqs = {w:lst.count(w) for w in set(lst)}\n",
    "kmax = max(freqs, key=lambda k: freqs[k])\n",
    "kmax, freqs[kmax]"
   ]
  },
  {
   "cell_type": "code",
   "execution_count": 10,
   "metadata": {},
   "outputs": [
    {
     "data": {
      "text/plain": [
       "{'little': 45,\n",
       " 'thee': 42,\n",
       " 'thou': 35,\n",
       " 'like': 35,\n",
       " 'thy': 31,\n",
       " 'love': 29,\n",
       " 'sweet': 28,\n",
       " 'night': 28,\n",
       " 'joy': 25,\n",
       " 'away': 24,\n",
       " 'weep': 24,\n",
       " 'father': 22,\n",
       " 'sleep': 21,\n",
       " 'day': 19,\n",
       " 'happy': 19,\n",
       " 'shall': 19,\n",
       " 'mother': 19,\n",
       " 'child': 18,\n",
       " 'never': 17,\n",
       " 'every': 17,\n",
       " 'er': 16,\n",
       " 'infant': 16,\n",
       " 'see': 16,\n",
       " 'thel': 16,\n",
       " 'voice': 16}"
      ]
     },
     "execution_count": 10,
     "metadata": {},
     "output_type": "execute_result"
    }
   ],
   "source": [
    "sorted_freq_list = sorted(ex1_freqs, key=ex1_freqs.get,reverse=True)\n",
    "{key:ex1_freqs[key] for key in sorted_freq_list[:25]}"
   ]
  },
  {
   "cell_type": "code",
   "execution_count": 23,
   "metadata": {},
   "outputs": [
    {
     "name": "stdout",
     "output_type": "stream",
     "text": [
      "<FreqDist with 1402 samples and 3807 outcomes>\n"
     ]
    },
    {
     "data": {
      "text/plain": [
       "[('little', 45),\n",
       " ('thee', 42),\n",
       " ('like', 35),\n",
       " ('thou', 35),\n",
       " ('thy', 31),\n",
       " ('love', 29),\n",
       " ('sweet', 28),\n",
       " ('night', 28),\n",
       " ('joy', 25),\n",
       " ('away', 24),\n",
       " ('weep', 24),\n",
       " ('father', 22),\n",
       " ('sleep', 21),\n",
       " ('happy', 19),\n",
       " ('shall', 19),\n",
       " ('day', 19),\n",
       " ('mother', 19),\n",
       " ('child', 18),\n",
       " ('every', 17),\n",
       " ('never', 17),\n",
       " ('thel', 16),\n",
       " ('hear', 16),\n",
       " ('green', 16),\n",
       " ('er', 16),\n",
       " ('voice', 16)]"
      ]
     },
     "execution_count": 23,
     "metadata": {},
     "output_type": "execute_result"
    }
   ],
   "source": [
    "from nltk.probability import FreqDist\n",
    "\n",
    "fdist1 = FreqDist(ex1_lst) \n",
    "print(fdist1) \n",
    "\n",
    "fdist1.most_common(25) "
   ]
  },
  {
   "cell_type": "code",
   "execution_count": null,
   "metadata": {},
   "outputs": [],
   "source": []
  }
 ],
 "metadata": {
  "kernelspec": {
   "display_name": "Python 3",
   "language": "python",
   "name": "python3"
  },
  "language_info": {
   "codemirror_mode": {
    "name": "ipython",
    "version": 3
   },
   "file_extension": ".py",
   "mimetype": "text/x-python",
   "name": "python",
   "nbconvert_exporter": "python",
   "pygments_lexer": "ipython3",
   "version": "3.7.3"
  }
 },
 "nbformat": 4,
 "nbformat_minor": 2
}
