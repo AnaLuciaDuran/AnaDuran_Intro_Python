{
 "cells": [
  {
   "cell_type": "markdown",
   "metadata": {},
   "source": [
    "### Exercise 4: SMS spam classifier\n",
    "\n",
    "Spam filtering is a type of text categorization, such as language identification and sentiment analysis.\n",
    "\n",
    "How we represent text by means of features?\n",
    "- _bag of words_: boolean codifying the presence of the indexed words (`nltk.FreqDist`)\n",
    "- _term frequency (tf)_: frequency of the indexed word in the sentence (`nltk.text.tf`)\n",
    "- _term-frequency times inverse document-frequency (tf/idf)_: as above re-weighting to avoid effect of too common words such as english word _the_ (`nltk.text.tf_idf`)\n",
    "\n",
    "#### SMS Spam Collection Data Set\n",
    "\n",
    "source: UCI repository\n",
    "https://archive.ics.uci.edu/ml/datasets/SMS+Spam+Collection\n",
    "- 5574 examples\n",
    "- 2 classes: ham and spam\n",
    "- Example: `ham    What you doing?how are you?`\n",
    "\n",
    "**Experiment design:**\n",
    "- single validation (50% - 50%)\n",
    "- randomly shuffle\n",
    "- punctuation removed\n",
    "- strings lowered\n",
    "\n",
    "**Steps:**\n",
    "1. Prepare the train and test dataset following the experiment design listed above\n",
    "2. Using the bag of words, convert the train and test set into a vector of occurrences. This will be useful in order to use it as an input for a clasifier.\n",
    "3. Train and test a simple kNN classifier\n",
    "4. Compute the confusion matrix and analyze the results\n",
    "5. **Optional:** Perform additional experiments with different experiment design. Some suggestions:\n",
    "    - Different weight for the single validation\n",
    "    - k-Fold cross-validation\n",
    "    - Different text processing (punctuation vs. no punctuation, strings lowered vs. not lowered)\n",
    "    - Dfferent parameters for the k-NN classifier (k, distance)\n",
    "    - Different algorithms for the classifier (e.g. SVM)\n",
    "    \n",
    "**Optional:** Extend the solution to the use of lemmas and other preprocess issues (after tomorrow's class)."
   ]
  },
  {
   "cell_type": "code",
   "execution_count": 1,
   "metadata": {},
   "outputs": [],
   "source": [
    "from sklearn.feature_extraction.text import CountVectorizer\n",
    "from sklearn.neighbors import KNeighborsClassifier\n",
    "from random import shuffle\n",
    "from nltk.metrics.scores import accuracy\n",
    "from nltk.metrics import ConfusionMatrix\n",
    "import string\n",
    "import nltk\n",
    "\n",
    "from nltk.metrics.distance import jaccard_distance"
   ]
  },
  {
   "cell_type": "code",
   "execution_count": 4,
   "metadata": {},
   "outputs": [],
   "source": [
    "with open('smsspamcollection/SMSSpamCollection','r') as f:\n",
    "    raw_text = f.read()"
   ]
  },
  {
   "cell_type": "code",
   "execution_count": 5,
   "metadata": {},
   "outputs": [],
   "source": [
    "#We will remove the punctuation\n",
    "table_punct = str.maketrans({key: None for key in string.punctuation})\n",
    "#table_digits = str.maketrans({key: None for key in string.digits})\n",
    "\n",
    "#Separating each line\n",
    "raw_lines = raw_text.split(sep='\\n')\n",
    "#Removing the last line\n",
    "raw_lines.remove('')\n",
    "#Removing punctuation\n",
    "for i in range(len(raw_lines)):\n",
    "    raw_lines[i] = raw_lines[i].translate(table_punct)\n",
    "    \n",
    "#Separating the features:\n",
    "registers = [i.lower().split(sep='\\t') for i in raw_lines]\n",
    "\n",
    "#Now we will shuffle our strings:\n",
    "shuffle(registers)\n",
    "\n",
    "length = int(len(registers)/2)\n",
    "#Half of the set will be for training\n",
    "train = registers[:length]\n",
    "#And the other half for testing\n",
    "test = registers[length:]\n"
   ]
  },
  {
   "cell_type": "code",
   "execution_count": null,
   "metadata": {},
   "outputs": [],
   "source": []
  }
 ],
 "metadata": {
  "kernelspec": {
   "display_name": "Python 3",
   "language": "python",
   "name": "python3"
  },
  "language_info": {
   "codemirror_mode": {
    "name": "ipython",
    "version": 3
   },
   "file_extension": ".py",
   "mimetype": "text/x-python",
   "name": "python",
   "nbconvert_exporter": "python",
   "pygments_lexer": "ipython3",
   "version": "3.7.3"
  }
 },
 "nbformat": 4,
 "nbformat_minor": 2
}
