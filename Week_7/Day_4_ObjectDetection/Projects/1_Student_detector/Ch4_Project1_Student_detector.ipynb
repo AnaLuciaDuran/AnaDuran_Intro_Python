{
 "cells": [
  {
   "cell_type": "markdown",
   "metadata": {},
   "source": [
    "# Students Detector"
   ]
  },
  {
   "cell_type": "markdown",
   "metadata": {},
   "source": [
    "## Level 1 (in process)\n",
    "\n",
    "1. Create an object detector capable of identifying at least 2 of your class mates (the more the better) in an image"
   ]
  },
  {
   "cell_type": "markdown",
   "metadata": {},
   "source": [
    "## Level 2 (in process)\n",
    "\n",
    "1. Now make it work live with a webcam, if a person is detected write the name of the person on top of the image\n",
    "2. Save the image to disk"
   ]
  },
  {
   "cell_type": "markdown",
   "metadata": {},
   "source": [
    "## Level 3 (in process)\n",
    "\n",
    "1. Show on screen how many persons are currently in the room\n",
    "2. List the name of the persons in the room  \n",
    "3. If a person was detected but does not match with any student add a person to the room and to the list as 'Unknown Person'"
   ]
  },
  {
   "cell_type": "markdown",
   "metadata": {},
   "source": [
    "## Level 4 (in process)\n",
    "\n",
    "1. When a person leaves decrease the number of persons in the room\n",
    "2. When a person arrives increase the number of persons in the room\n",
    "3. Update the list of names as the persons arrive and leave"
   ]
  },
  {
   "cell_type": "code",
   "execution_count": null,
   "metadata": {},
   "outputs": [],
   "source": []
  }
 ],
 "metadata": {
  "kernelspec": {
   "display_name": "Python 3",
   "language": "python",
   "name": "python3"
  },
  "language_info": {
   "codemirror_mode": {
    "name": "ipython",
    "version": 3
   },
   "file_extension": ".py",
   "mimetype": "text/x-python",
   "name": "python",
   "nbconvert_exporter": "python",
   "pygments_lexer": "ipython3",
   "version": "3.7.3"
  }
 },
 "nbformat": 4,
 "nbformat_minor": 2
}
