{
 "cells": [
  {
   "cell_type": "markdown",
   "metadata": {},
   "source": [
    "# Identify shapes (in process)"
   ]
  },
  {
   "cell_type": "markdown",
   "metadata": {},
   "source": [
    "## Level 1 (in process)\n",
    "\n",
    "\n",
    "\n",
    "1. Make a function that given an image with different types of regular shapes (triangles, squares, rectangles, circles, pentagons, hexagons etc) it can detect and __draw a blue contour around the triangles__ \n",
    "2. Extend the function so it draws a green contour around the pentagons\n",
    "3. Now we also need to detect rectangles, make sure squares are not being confused by rectangles\n",
    "4. Make sure only the external contours are drawn on the shapes\n",
    "5. Add the name of the shape on top of each image\n",
    "6. Only draw the contour around the biggest shape of each type"
   ]
  },
  {
   "cell_type": "code",
   "execution_count": null,
   "metadata": {},
   "outputs": [],
   "source": []
  }
 ],
 "metadata": {
  "kernelspec": {
   "display_name": "Python 3",
   "language": "python",
   "name": "python3"
  },
  "language_info": {
   "codemirror_mode": {
    "name": "ipython",
    "version": 3
   },
   "file_extension": ".py",
   "mimetype": "text/x-python",
   "name": "python",
   "nbconvert_exporter": "python",
   "pygments_lexer": "ipython3",
   "version": "3.7.3"
  }
 },
 "nbformat": 4,
 "nbformat_minor": 2
}
