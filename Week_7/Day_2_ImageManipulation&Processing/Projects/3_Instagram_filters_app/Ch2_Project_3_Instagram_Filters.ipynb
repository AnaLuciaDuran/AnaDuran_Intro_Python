{
 "cells": [
  {
   "cell_type": "markdown",
   "metadata": {},
   "source": [
    "# Instagram filters app"
   ]
  },
  {
   "cell_type": "markdown",
   "metadata": {},
   "source": [
    "## Level 1 (in process)\n",
    "\n",
    "1. Create a function that given a photo it applies a black and white filter\n",
    "2. Create a filter that will change color of the image\n"
   ]
  },
  {
   "cell_type": "markdown",
   "metadata": {},
   "source": [
    "## Level 2 (in process)\n",
    "\n",
    "1. Create a function that applies a sepia filter to the image, for a BGR image apply this kernel:\n",
    "        [0.272, 0.534, 0.131],\n",
    "        [0.349, 0.686, 0.168],\n",
    "        [0.393, 0.769, 0.189]\n",
    "        \n",
    "Get the BGR value of the pixel.\n",
    "Calculate tr, tg and tb using the formula\n",
    "\n",
    "tb = 0.272R + 0.534G + 0.131B\n",
    "tg = 0.349R + 0.686G + 0.168B\n",
    "tr = 0.393R + 0.769G + 0.189B\n",
    "\n",
    "Take the integer value.\n",
    "\n",
    "Set the new RGB value of the pixel as per the following condition:\n",
    "\n",
    "If tb > 255 then b = 255 else b = tb\n",
    "If tg > 255 then g = 255 else g = tg\n",
    "If tr > 255 then r = 255 else r = tr\n",
    "\n",
    "\n",
    "Example:\n",
    "\n",
    "Consider a color pixel with the following values\n",
    "\n",
    "A = 255\n",
    "\n",
    "R = 100\n",
    "\n",
    "G = 150\n",
    "\n",
    "B = 200\n",
    "\n",
    "Where A, R, G and B represents the Alpha, Red, Green and Blue value of the pixel.\n",
    "\n",
    "Remember! ARGB will have an integer value in the range 0 to 255.\n",
    "\n",
    "So, to convert the color pixel into sepia pixel we have to first calculate tr, tg and tb.\n",
    "\n",
    "tr = 0.393(100) + 0.769(150) + 0.189(200)\n",
    "\n",
    "tr = 192.45\n",
    "\n",
    "tr = 192 (taking integer value)\n",
    "\n",
    "Similarly,\n",
    "\n",
    "tg = 0.349(100) + 0.686(150) + 0.168(200) = 171 (taking integer value)\n",
    "\n",
    "and tb = 0.272(100) + 0.534(150) + 0.131(200) = 133 (taking integer value)\n"
   ]
  },
  {
   "cell_type": "markdown",
   "metadata": {},
   "source": [
    "## Level 3 (in process)\n",
    "\n",
    "1. Apply the sepia filter by using the cv2.transfor function\n",
    "1. Create different filters from the sepia filter so it renders different images"
   ]
  },
  {
   "cell_type": "code",
   "execution_count": null,
   "metadata": {},
   "outputs": [],
   "source": []
  }
 ],
 "metadata": {
  "kernelspec": {
   "display_name": "Python 3",
   "language": "python",
   "name": "python3"
  },
  "language_info": {
   "codemirror_mode": {
    "name": "ipython",
    "version": 3
   },
   "file_extension": ".py",
   "mimetype": "text/x-python",
   "name": "python",
   "nbconvert_exporter": "python",
   "pygments_lexer": "ipython3",
   "version": "3.7.3"
  }
 },
 "nbformat": 4,
 "nbformat_minor": 2
}
