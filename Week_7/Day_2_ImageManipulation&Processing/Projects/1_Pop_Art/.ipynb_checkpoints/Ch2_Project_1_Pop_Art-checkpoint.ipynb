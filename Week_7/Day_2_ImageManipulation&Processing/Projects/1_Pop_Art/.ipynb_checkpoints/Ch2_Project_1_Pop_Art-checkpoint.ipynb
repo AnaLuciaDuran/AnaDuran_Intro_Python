{
 "cells": [
  {
   "cell_type": "markdown",
   "metadata": {
    "ExecuteTime": {
     "end_time": "2019-08-22T10:07:10.569694Z",
     "start_time": "2019-08-22T10:07:10.560720Z"
    }
   },
   "source": [
    "# Photo art app"
   ]
  },
  {
   "cell_type": "markdown",
   "metadata": {},
   "source": [
    "## Level 1\n",
    "\n",
    "1. Create a function that receives an image and converts it to a sketch so it looks similar to this:"
   ]
  },
  {
   "cell_type": "markdown",
   "metadata": {},
   "source": [
    "![Example 1](sketch.png)"
   ]
  },
  {
   "cell_type": "code",
   "execution_count": 3,
   "metadata": {
    "ExecuteTime": {
     "end_time": "2019-08-22T10:11:10.438763Z",
     "start_time": "2019-08-22T10:11:09.782145Z"
    }
   },
   "outputs": [],
   "source": [
    "import cv2\n",
    "import numpy as np\n",
    "import matplotlib.pyplot as plt\n",
    "%matplotlib inline"
   ]
  },
  {
   "cell_type": "code",
   "execution_count": 4,
   "metadata": {
    "ExecuteTime": {
     "end_time": "2019-08-22T10:11:25.561126Z",
     "start_time": "2019-08-22T10:11:25.553148Z"
    }
   },
   "outputs": [],
   "source": [
    "def showImg(img,title= ''):\n",
    "    plt.figure(figsize = (10,5));\n",
    "    plt.title(title)\n",
    "    plt.imshow(cv2.cvtColor(img, cv2.COLOR_BGR2RGB))\n",
    "\n",
    "def showGrayScaleImg(img,title= ''):\n",
    "    plt.figure(figsize = (10,5));\n",
    "    plt.title(title)\n",
    "    plt.imshow(img, cmap='gray')"
   ]
  },
  {
   "cell_type": "code",
   "execution_count": 5,
   "metadata": {
    "ExecuteTime": {
     "end_time": "2019-08-22T10:12:09.326300Z",
     "start_time": "2019-08-22T10:12:08.741225Z"
    }
   },
   "outputs": [
    {
     "data": {
      "image/png": "[encoded data removed]",
      "text/plain": [
       "<Figure size 720x360 with 1 Axes>"
      ]
     },
     "metadata": {
      "needs_background": "light"
     },
     "output_type": "display_data"
    }
   ],
   "source": [
    "def art (image):\n",
    "    img = cv2.imread(image)\n",
    "    image = img.copy()\n",
    "    gray = cv2.cvtColor(image,cv2.COLOR_BGR2GRAY)\n",
    "    edges = cv2.Canny(gray,100,150)*-1\n",
    "    showGrayScaleImg(edges)\n",
    "    \n",
    "\n",
    "art('flower.jpg')"
   ]
  },
  {
   "cell_type": "markdown",
   "metadata": {},
   "source": [
    "## Level 2\n",
    "\n",
    "1. Change the app so it can now do the same but using your webcam to make it in real time  \n",
    "**Hint:** you can use ```cv2.VideoCapture(0)```"
   ]
  },
  {
   "cell_type": "code",
   "execution_count": 56,
   "metadata": {
    "ExecuteTime": {
     "end_time": "2019-08-22T11:02:48.973602Z",
     "start_time": "2019-08-22T11:02:37.101303Z"
    }
   },
   "outputs": [],
   "source": [
    "cap = cv2.VideoCapture(0)\n",
    "\n",
    "while(True):\n",
    "    #capture frame-by-frame\n",
    "    ret, frame = cap.read()\n",
    "    \n",
    "    #Our operations on the frame come here\n",
    "    #img = frame\n",
    "    #gray = cv2.cvtColor(frame,cv2.COLOR_BGR2GRAY)\n",
    "    img = cv2.Canny(frame, 15,70)\n",
    "    img2= cv2.bitwise_not(img) #Esto me cambia todo\n",
    "    \n",
    "    #Display de resulting frame\n",
    "    cv2.imshow('Video from OpenCV!, press \\'q\\' to close', img2)\n",
    "    if cv2.waitKey(1) & 0xFF == ord('q'):\n",
    "        break\n",
    "\n",
    "#when everything done, release the capture\n",
    "cap.release()\n",
    "cv2.destroyAllWindows()"
   ]
  },
  {
   "cell_type": "code",
   "execution_count": null,
   "metadata": {},
   "outputs": [],
   "source": []
  }
 ],
 "metadata": {
  "kernelspec": {
   "display_name": "Python 3",
   "language": "python",
   "name": "python3"
  },
  "language_info": {
   "codemirror_mode": {
    "name": "ipython",
    "version": 3
   },
   "file_extension": ".py",
   "mimetype": "text/x-python",
   "name": "python",
   "nbconvert_exporter": "python",
   "pygments_lexer": "ipython3",
   "version": "3.7.3"
  }
 },
 "nbformat": 4,
 "nbformat_minor": 2
}
