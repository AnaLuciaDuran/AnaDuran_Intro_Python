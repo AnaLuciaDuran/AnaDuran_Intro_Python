{
 "cells": [
  {
   "cell_type": "markdown",
   "metadata": {},
   "source": [
    "# Meme Creator"
   ]
  },
  {
   "cell_type": "markdown",
   "metadata": {},
   "source": [
    "## Level 1\n",
    "\n",
    "1. Create a basic Meme creator with one image and a short line of text\n",
    "2. Use the classic meme font"
   ]
  },
  {
   "cell_type": "code",
   "execution_count": 3,
   "metadata": {
    "ExecuteTime": {
     "end_time": "2019-08-22T09:00:51.283401Z",
     "start_time": "2019-08-22T09:00:46.692179Z"
    }
   },
   "outputs": [],
   "source": [
    "#Import the libraries\n",
    "import cv2\n",
    "import numpy as np\n",
    "import matplotlib.pyplot as plt\n",
    "%matplotlib inline"
   ]
  },
  {
   "cell_type": "code",
   "execution_count": 4,
   "metadata": {
    "ExecuteTime": {
     "end_time": "2019-08-22T09:00:51.312327Z",
     "start_time": "2019-08-22T09:00:51.290383Z"
    }
   },
   "outputs": [],
   "source": [
    "def meme_generator(imagen, text1):\n",
    "    \n",
    "    meme = cv2.imread(imagen)\n",
    "    text_to_show = text1\n",
    "\n",
    "#Load image in OpenCV\n",
    "    image = meme.copy()\n",
    "\n",
    "#convert the image to RGB (OpenCV uses BGR)\n",
    "    cv2_im_rgb = cv2.cvtColor(image, cv2.COLOR_BGR2RGB)\n",
    "\n",
    "#Transform the cv2 image to PIL\n",
    "    pill_im = Image.fromarray(cv2_im_rgb)\n",
    "\n",
    "    draw = ImageDraw.Draw(pill_im)\n",
    "\n",
    "#Use a truetype font\n",
    "\n",
    "    font = ImageFont.truetype('impact.ttf',30)\n",
    "\n",
    "    draw.text((35,10), text_to_show, (255,255,255), font = font)\n",
    "\n",
    "#Get back the image to OpenCV\n",
    "    cv2_im_processed = cv2.cvtColor(np.array(pill_im), cv2.COLOR_RGB2BGR)\n",
    "\n",
    "    plt.figure(figsize = (10,5))\n",
    "    plt.imshow(cv2.cvtColor(cv2_im_processed, cv2.COLOR_BGR2RGB))"
   ]
  },
  {
   "cell_type": "code",
   "execution_count": 5,
   "metadata": {
    "ExecuteTime": {
     "end_time": "2019-08-22T09:00:51.607090Z",
     "start_time": "2019-08-22T09:00:51.316312Z"
    }
   },
   "outputs": [
    {
     "ename": "NameError",
     "evalue": "name 'Image' is not defined",
     "output_type": "error",
     "traceback": [
      "\u001b[1;31m---------------------------------------------------------------------------\u001b[0m",
      "\u001b[1;31mNameError\u001b[0m                                 Traceback (most recent call last)",
      "\u001b[1;32m<ipython-input-5-32a28d752401>\u001b[0m in \u001b[0;36m<module>\u001b[1;34m\u001b[0m\n\u001b[1;32m----> 1\u001b[1;33m \u001b[0mmeme_generator\u001b[0m\u001b[1;33m(\u001b[0m\u001b[1;34m'meme.jpg'\u001b[0m\u001b[1;33m,\u001b[0m \u001b[1;34m'Bootcamp finished, ¿Who are u? ¿Who am I?'\u001b[0m\u001b[1;33m)\u001b[0m\u001b[1;33m\u001b[0m\u001b[1;33m\u001b[0m\u001b[0m\n\u001b[0m",
      "\u001b[1;32m<ipython-input-4-c861be8a9faf>\u001b[0m in \u001b[0;36mmeme_generator\u001b[1;34m(imagen, text1)\u001b[0m\n\u001b[0;32m     11\u001b[0m \u001b[1;33m\u001b[0m\u001b[0m\n\u001b[0;32m     12\u001b[0m \u001b[1;31m#Transform the cv2 image to PIL\u001b[0m\u001b[1;33m\u001b[0m\u001b[1;33m\u001b[0m\u001b[1;33m\u001b[0m\u001b[0m\n\u001b[1;32m---> 13\u001b[1;33m     \u001b[0mpill_im\u001b[0m \u001b[1;33m=\u001b[0m \u001b[0mImage\u001b[0m\u001b[1;33m.\u001b[0m\u001b[0mfromarray\u001b[0m\u001b[1;33m(\u001b[0m\u001b[0mcv2_im_rgb\u001b[0m\u001b[1;33m)\u001b[0m\u001b[1;33m\u001b[0m\u001b[1;33m\u001b[0m\u001b[0m\n\u001b[0m\u001b[0;32m     14\u001b[0m \u001b[1;33m\u001b[0m\u001b[0m\n\u001b[0;32m     15\u001b[0m     \u001b[0mdraw\u001b[0m \u001b[1;33m=\u001b[0m \u001b[0mImageDraw\u001b[0m\u001b[1;33m.\u001b[0m\u001b[0mDraw\u001b[0m\u001b[1;33m(\u001b[0m\u001b[0mpill_im\u001b[0m\u001b[1;33m)\u001b[0m\u001b[1;33m\u001b[0m\u001b[1;33m\u001b[0m\u001b[0m\n",
      "\u001b[1;31mNameError\u001b[0m: name 'Image' is not defined"
     ]
    }
   ],
   "source": [
    "meme_generator('meme.jpg', 'Bootcamp finished, ¿Who are u? ¿Who am I?')"
   ]
  },
  {
   "cell_type": "code",
   "execution_count": null,
   "metadata": {},
   "outputs": [],
   "source": []
  }
 ],
 "metadata": {
  "kernelspec": {
   "display_name": "Python 3",
   "language": "python",
   "name": "python3"
  },
  "language_info": {
   "codemirror_mode": {
    "name": "ipython",
    "version": 3
   },
   "file_extension": ".py",
   "mimetype": "text/x-python",
   "name": "python",
   "nbconvert_exporter": "python",
   "pygments_lexer": "ipython3",
   "version": "3.7.3"
  }
 },
 "nbformat": 4,
 "nbformat_minor": 2
}
