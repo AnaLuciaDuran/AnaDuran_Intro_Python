{
 "cells": [
  {
   "cell_type": "markdown",
   "metadata": {},
   "source": [
    "El propósito de este cuaderno es limpiar los datos de las compras realizadas por el Ministerio de Obras Públicas y Transporte (MOPT) durante el periodo 2006 al 2019 y que están registrados en el SIAC.\n",
    "\n",
    "Se muestran los pasos para proceder al análisis de los datos:\n",
    "\n",
    "- Eliminar datos extraños\n",
    "- Eliminar columnas con 100% de valores faltantes.\n",
    "- Eliminar columnas que contienen información redundante.\n"
   ]
  },
  {
   "cell_type": "markdown",
   "metadata": {},
   "source": [
    "### Importar la data"
   ]
  },
  {
   "cell_type": "code",
   "execution_count": 4,
   "metadata": {},
   "outputs": [],
   "source": [
    "# Import libraries\n",
    "import pandas as pd\n",
    "import numpy as np\n",
    "#import matplotlib.pyplot as plt\n",
    "#import seaborn as sns\n",
    "\n",
    "# creating plots using seaborn setting \n",
    "#sns.set()\n",
    "\n",
    "# using jupyter magic to display plots in line\n",
    "#%matplotlib inline"
   ]
  },
  {
   "cell_type": "code",
   "execution_count": 5,
   "metadata": {},
   "outputs": [],
   "source": [
    "# importing the dataset\n",
    "df = pd.read_excel(\"mopt1.xlsx\")"
   ]
  },
  {
   "cell_type": "code",
   "execution_count": 7,
   "metadata": {},
   "outputs": [
    {
     "name": "stdout",
     "output_type": "stream",
     "text": [
      "The size of the dataset: (52728, 19)\n"
     ]
    }
   ],
   "source": [
    "# viewing the size of the dataset\n",
    "print('The size of the dataset: ' + str(df.shape))"
   ]
  },
  {
   "cell_type": "code",
   "execution_count": 6,
   "metadata": {},
   "outputs": [
    {
     "data": {
      "text/html": [
       "<div>\n",
       "<style scoped>\n",
       "    .dataframe tbody tr th:only-of-type {\n",
       "        vertical-align: middle;\n",
       "    }\n",
       "\n",
       "    .dataframe tbody tr th {\n",
       "        vertical-align: top;\n",
       "    }\n",
       "\n",
       "    .dataframe thead th {\n",
       "        text-align: right;\n",
       "    }\n",
       "</style>\n",
       "<table border=\"1\" class=\"dataframe\">\n",
       "  <thead>\n",
       "    <tr style=\"text-align: right;\">\n",
       "      <th></th>\n",
       "      <th>Nombre de la institución</th>\n",
       "      <th>Nombre de la entidad hija</th>\n",
       "      <th>Año de adjudicación</th>\n",
       "      <th>Clave de la línea del procedimiento</th>\n",
       "      <th>Tipo de procedimiento</th>\n",
       "      <th>Número de procedimiento</th>\n",
       "      <th>Medio de registro</th>\n",
       "      <th>Objeto contractual</th>\n",
       "      <th>Número de línea</th>\n",
       "      <th>Descripción del bien o servicio</th>\n",
       "      <th>Cédula del adjudicatario</th>\n",
       "      <th>Cantidad adjudicada</th>\n",
       "      <th>Unidad de medida</th>\n",
       "      <th>Nombre del adjudicatario</th>\n",
       "      <th>Fecha de adjudicación</th>\n",
       "      <th>Estado de la línea</th>\n",
       "      <th>Cuenta de la subpartida (COG)(AC)</th>\n",
       "      <th>Subpartida (COG)(AC)</th>\n",
       "      <th>Monto adjudicados</th>\n",
       "    </tr>\n",
       "  </thead>\n",
       "  <tbody>\n",
       "    <tr>\n",
       "      <th>0</th>\n",
       "      <td>MINISTERIO DE OBRAS PUBLICAS Y TRANSPORTES</td>\n",
       "      <td>CONSEJO DE SEGURIDAD VIAL</td>\n",
       "      <td>2006</td>\n",
       "      <td>21000420083007061394012006LN-000001-001001</td>\n",
       "      <td>Licitación Pública Nacional</td>\n",
       "      <td>2006LN-000001-00100</td>\n",
       "      <td>TRANSFERIDO COMPRARED</td>\n",
       "      <td>COMPRA DE MOTOCICLETAS NUEVAS TIPO POLICIAL</td>\n",
       "      <td>1</td>\n",
       "      <td>TOTALMENTE NUEVAS, MODELO 2006 O 2007 PREFERIB...</td>\n",
       "      <td>3101214254</td>\n",
       "      <td>46</td>\n",
       "      <td>NaN</td>\n",
       "      <td>MOTOS SUKI S.A.  L</td>\n",
       "      <td>38987</td>\n",
       "      <td>Refrendada</td>\n",
       "      <td>1.08.05</td>\n",
       "      <td>1.08.05--Mantenimiento y reparación de equipo ...</td>\n",
       "      <td>2.112368e+08</td>\n",
       "    </tr>\n",
       "    <tr>\n",
       "      <th>1</th>\n",
       "      <td>MINISTERIO DE OBRAS PUBLICAS Y TRANSPORTES</td>\n",
       "      <td>CONSEJO DE SEGURIDAD VIAL</td>\n",
       "      <td>2006</td>\n",
       "      <td>21000420083007061394012006LN-000002-001001</td>\n",
       "      <td>Licitación Pública Nacional</td>\n",
       "      <td>2006LN-000002-00100</td>\n",
       "      <td>TRANSFERIDO COMPRARED</td>\n",
       "      <td>COMPRA DE GRUAS TELESCOPICAS Y VEHICULOS TIPO ...</td>\n",
       "      <td>1</td>\n",
       "      <td>GRUA DE BRAZOS TELESCOPICOS, HIDRAULICA. . (02...</td>\n",
       "      <td>3101299821</td>\n",
       "      <td>2</td>\n",
       "      <td>NaN</td>\n",
       "      <td>GRUPO DE MAQUINARIA HYUNDAI DE COSTA RICA GRUM...</td>\n",
       "      <td>39029</td>\n",
       "      <td>Adjudicada en firme</td>\n",
       "      <td>5.01.02</td>\n",
       "      <td>5.01.02--Equipo de transporte</td>\n",
       "      <td>5.816160e+07</td>\n",
       "    </tr>\n",
       "    <tr>\n",
       "      <th>2</th>\n",
       "      <td>MINISTERIO DE OBRAS PUBLICAS Y TRANSPORTES</td>\n",
       "      <td>CONSEJO DE SEGURIDAD VIAL</td>\n",
       "      <td>2006</td>\n",
       "      <td>21000420083007061394012006LN-000002-001002</td>\n",
       "      <td>Licitación Pública Nacional</td>\n",
       "      <td>2006LN-000002-00100</td>\n",
       "      <td>TRANSFERIDO COMPRARED</td>\n",
       "      <td>COMPRA DE GRUAS TELESCOPICAS Y VEHICULOS TIPO ...</td>\n",
       "      <td>2</td>\n",
       "      <td>DOS VEHICULOS TIPO PICK UP DOBLE CABINA . DOS ...</td>\n",
       "      <td>3101005744</td>\n",
       "      <td>4</td>\n",
       "      <td>NaN</td>\n",
       "      <td>PURDY MOTOR SOCIEDAD ANONIMA</td>\n",
       "      <td>39029</td>\n",
       "      <td>Adjudicada en firme</td>\n",
       "      <td>5.01.02</td>\n",
       "      <td>5.01.02--Equipo de transporte</td>\n",
       "      <td>4.549068e+07</td>\n",
       "    </tr>\n",
       "    <tr>\n",
       "      <th>3</th>\n",
       "      <td>MINISTERIO DE OBRAS PUBLICAS Y TRANSPORTES</td>\n",
       "      <td>CONSEJO DE SEGURIDAD VIAL</td>\n",
       "      <td>2006</td>\n",
       "      <td>21000420083007061394012006LN-000003-001001</td>\n",
       "      <td>Licitación Pública Nacional</td>\n",
       "      <td>2006LN-000003-00100</td>\n",
       "      <td>TRANSFERIDO COMPRARED</td>\n",
       "      <td>DEMARCACION HORIZONTAL CON PINTURA Y COLOCACIO...</td>\n",
       "      <td>1</td>\n",
       "      <td>DEMARCACION VIAL. RUTA NACIONAL Nº 2:  DEMARCA...</td>\n",
       "      <td>3101126423</td>\n",
       "      <td>1</td>\n",
       "      <td>NaN</td>\n",
       "      <td>CONSORCIO J L SEÑALIZACIÓN Y ARQUITECTURA, S.A...</td>\n",
       "      <td>39029</td>\n",
       "      <td>Adjudicada en firme</td>\n",
       "      <td>1.08.02</td>\n",
       "      <td>1.08.02--Mantenimiento de vías de comunicación</td>\n",
       "      <td>2.560069e+07</td>\n",
       "    </tr>\n",
       "    <tr>\n",
       "      <th>4</th>\n",
       "      <td>MINISTERIO DE OBRAS PUBLICAS Y TRANSPORTES</td>\n",
       "      <td>CONSEJO DE SEGURIDAD VIAL</td>\n",
       "      <td>2006</td>\n",
       "      <td>21000420083007061394012006LN-000003-001002</td>\n",
       "      <td>Licitación Pública Nacional</td>\n",
       "      <td>2006LN-000003-00100</td>\n",
       "      <td>TRANSFERIDO COMPRARED</td>\n",
       "      <td>DEMARCACION HORIZONTAL CON PINTURA Y COLOCACIO...</td>\n",
       "      <td>2</td>\n",
       "      <td>DEMARCACION VIAL. RUTA NACIONAL Nº 209:  DEMAR...</td>\n",
       "      <td>3101126423</td>\n",
       "      <td>1</td>\n",
       "      <td>NaN</td>\n",
       "      <td>CONSORCIO J L SEÑALIZACIÓN Y ARQUITECTURA, S.A...</td>\n",
       "      <td>39029</td>\n",
       "      <td>Adjudicada en firme</td>\n",
       "      <td>1.08.02</td>\n",
       "      <td>1.08.02--Mantenimiento de vías de comunicación</td>\n",
       "      <td>1.093384e+07</td>\n",
       "    </tr>\n",
       "  </tbody>\n",
       "</table>\n",
       "</div>"
      ],
      "text/plain": [
       "                     Nombre de la institución  Nombre de la entidad hija  \\\n",
       "0  MINISTERIO DE OBRAS PUBLICAS Y TRANSPORTES  CONSEJO DE SEGURIDAD VIAL   \n",
       "1  MINISTERIO DE OBRAS PUBLICAS Y TRANSPORTES  CONSEJO DE SEGURIDAD VIAL   \n",
       "2  MINISTERIO DE OBRAS PUBLICAS Y TRANSPORTES  CONSEJO DE SEGURIDAD VIAL   \n",
       "3  MINISTERIO DE OBRAS PUBLICAS Y TRANSPORTES  CONSEJO DE SEGURIDAD VIAL   \n",
       "4  MINISTERIO DE OBRAS PUBLICAS Y TRANSPORTES  CONSEJO DE SEGURIDAD VIAL   \n",
       "\n",
       "  Año de adjudicación         Clave de la línea del procedimiento  \\\n",
       "0                2006  21000420083007061394012006LN-000001-001001   \n",
       "1                2006  21000420083007061394012006LN-000002-001001   \n",
       "2                2006  21000420083007061394012006LN-000002-001002   \n",
       "3                2006  21000420083007061394012006LN-000003-001001   \n",
       "4                2006  21000420083007061394012006LN-000003-001002   \n",
       "\n",
       "         Tipo de procedimiento Número de procedimiento      Medio de registro  \\\n",
       "0  Licitación Pública Nacional     2006LN-000001-00100  TRANSFERIDO COMPRARED   \n",
       "1  Licitación Pública Nacional     2006LN-000002-00100  TRANSFERIDO COMPRARED   \n",
       "2  Licitación Pública Nacional     2006LN-000002-00100  TRANSFERIDO COMPRARED   \n",
       "3  Licitación Pública Nacional     2006LN-000003-00100  TRANSFERIDO COMPRARED   \n",
       "4  Licitación Pública Nacional     2006LN-000003-00100  TRANSFERIDO COMPRARED   \n",
       "\n",
       "                                  Objeto contractual Número de línea  \\\n",
       "0        COMPRA DE MOTOCICLETAS NUEVAS TIPO POLICIAL               1   \n",
       "1  COMPRA DE GRUAS TELESCOPICAS Y VEHICULOS TIPO ...               1   \n",
       "2  COMPRA DE GRUAS TELESCOPICAS Y VEHICULOS TIPO ...               2   \n",
       "3  DEMARCACION HORIZONTAL CON PINTURA Y COLOCACIO...               1   \n",
       "4  DEMARCACION HORIZONTAL CON PINTURA Y COLOCACIO...               2   \n",
       "\n",
       "                     Descripción del bien o servicio Cédula del adjudicatario  \\\n",
       "0  TOTALMENTE NUEVAS, MODELO 2006 O 2007 PREFERIB...               3101214254   \n",
       "1  GRUA DE BRAZOS TELESCOPICOS, HIDRAULICA. . (02...               3101299821   \n",
       "2  DOS VEHICULOS TIPO PICK UP DOBLE CABINA . DOS ...               3101005744   \n",
       "3  DEMARCACION VIAL. RUTA NACIONAL Nº 2:  DEMARCA...               3101126423   \n",
       "4  DEMARCACION VIAL. RUTA NACIONAL Nº 209:  DEMAR...               3101126423   \n",
       "\n",
       "  Cantidad adjudicada Unidad de medida  \\\n",
       "0                  46              NaN   \n",
       "1                   2              NaN   \n",
       "2                   4              NaN   \n",
       "3                   1              NaN   \n",
       "4                   1              NaN   \n",
       "\n",
       "                            Nombre del adjudicatario Fecha de adjudicación  \\\n",
       "0                                 MOTOS SUKI S.A.  L                 38987   \n",
       "1  GRUPO DE MAQUINARIA HYUNDAI DE COSTA RICA GRUM...                 39029   \n",
       "2                       PURDY MOTOR SOCIEDAD ANONIMA                 39029   \n",
       "3  CONSORCIO J L SEÑALIZACIÓN Y ARQUITECTURA, S.A...                 39029   \n",
       "4  CONSORCIO J L SEÑALIZACIÓN Y ARQUITECTURA, S.A...                 39029   \n",
       "\n",
       "    Estado de la línea Cuenta de la subpartida (COG)(AC)  \\\n",
       "0           Refrendada                           1.08.05   \n",
       "1  Adjudicada en firme                           5.01.02   \n",
       "2  Adjudicada en firme                           5.01.02   \n",
       "3  Adjudicada en firme                           1.08.02   \n",
       "4  Adjudicada en firme                           1.08.02   \n",
       "\n",
       "                                Subpartida (COG)(AC)  Monto adjudicados  \n",
       "0  1.08.05--Mantenimiento y reparación de equipo ...       2.112368e+08  \n",
       "1                      5.01.02--Equipo de transporte       5.816160e+07  \n",
       "2                      5.01.02--Equipo de transporte       4.549068e+07  \n",
       "3     1.08.02--Mantenimiento de vías de comunicación       2.560069e+07  \n",
       "4     1.08.02--Mantenimiento de vías de comunicación       1.093384e+07  "
      ]
     },
     "execution_count": 6,
     "metadata": {},
     "output_type": "execute_result"
    }
   ],
   "source": [
    "#viewing the first 5 rows\n",
    "df.head()"
   ]
  },
  {
   "cell_type": "markdown",
   "metadata": {},
   "source": [
    "El dataset mide 52728 filas y 19 columnas"
   ]
  },
  {
   "cell_type": "markdown",
   "metadata": {},
   "source": [
    "Hay unas columnas que en realidad no me brindan información o es información repetida.  Tales como: \n",
    "\n",
    "- Descripción del bien o servicio (no añade valor)\n",
    "- Subpartida (COG)(AC) (se puede usar solo Cuenta de la subpartida (COG)(AC))\n",
    "- Clave de la línea del procedimiento\n",
    "- Número de procedimiento ¿? me pude indicar compras en un mismo paquete\n",
    "- Nombre del adjudicatario (ya tengo el número)\n"
   ]
  },
  {
   "cell_type": "markdown",
   "metadata": {},
   "source": [
    "Adicionalmente hay una columna vacía llamada \"Unidad de medida\""
   ]
  },
  {
   "cell_type": "code",
   "execution_count": 10,
   "metadata": {},
   "outputs": [
    {
     "data": {
      "text/plain": [
       "Nombre de la institución                   0\n",
       "Nombre de la entidad hija                  0\n",
       "Año de adjudicación                        0\n",
       "Clave de la línea del procedimiento        0\n",
       "Tipo de procedimiento                      0\n",
       "Número de procedimiento                    0\n",
       "Medio de registro                          0\n",
       "Objeto contractual                         0\n",
       "Número de línea                            0\n",
       "Descripción del bien o servicio            0\n",
       "Cédula del adjudicatario                   0\n",
       "Cantidad adjudicada                        0\n",
       "Unidad de medida                       52718\n",
       "Nombre del adjudicatario                   0\n",
       "Fecha de adjudicación                      0\n",
       "Estado de la línea                         0\n",
       "Cuenta de la subpartida (COG)(AC)          0\n",
       "Subpartida (COG)(AC)                       0\n",
       "Monto adjudicados                          0\n",
       "dtype: int64"
      ]
     },
     "execution_count": 10,
     "metadata": {},
     "output_type": "execute_result"
    }
   ],
   "source": [
    "df.isnull().sum()"
   ]
  },
  {
   "cell_type": "code",
   "execution_count": null,
   "metadata": {},
   "outputs": [],
   "source": [
    "df2 = df.drop([\"Unidad de medida\", \"Descripción del bien o servicio\", \"Subpartida (COG)(AC)\",],axis=1)"
   ]
  },
  {
   "cell_type": "code",
   "execution_count": null,
   "metadata": {},
   "outputs": [],
   "source": [
    "df2.head()"
   ]
  },
  {
   "cell_type": "code",
   "execution_count": 22,
   "metadata": {},
   "outputs": [],
   "source": [
    "#created a value counts object for the contractual objects\n",
    "vcs = df['Objeto contractual'].value_counts()\n",
    "\n",
    "#filter objects that have > 50 counts\n",
    "items_50_more = vcs[vcs.values > 50].index"
   ]
  },
  {
   "cell_type": "code",
   "execution_count": 24,
   "metadata": {},
   "outputs": [
    {
     "name": "stdout",
     "output_type": "stream",
     "text": [
      "Index(['COMPRA DE ARTICULOS DE OFICINA', 'COMPRA DE ARTICULOS DE LIBRERIA',\n",
      "       'COMPRA DE ARTICULOS DE LIMPIEZA',\n",
      "       'ADQUISICION DE ARTICULOS DE FERRETERIA', 'COMPRA DE MEDICAMENTOS',\n",
      "       'COMPRA DE ARTICULOS DE FERRETERIA',\n",
      "       'COMPRA DE TINTAS, CINTAS, TONNER Y REVELADORES',\n",
      "       'SUMINISTROS DE OFICINA', 'CONFECCION DE UNIFORMES',\n",
      "       'COMPRA DE REPUESTOS PARA VEHICULOS',\n",
      "       ...\n",
      "       'ADQUISICION DE LUBRICANTES',\n",
      "       'COMPRA DE ARTICULOS PARA VEHICULOS INSTITUCIONALES',\n",
      "       'COMPRA DE ARTICULOS ELECTRICOS DE FERRETERIA',\n",
      "       'SUMINISTROS DE LIMPIEZA Y PRODUCTOS QUIMICOS',\n",
      "       'COMPRA DE MATERIALES Y PRODUCTOS PLASTICOS',\n",
      "       'ALQUILER DE PALAS HIDRAULICAS, TRACTORES Y VAGONETAS',\n",
      "       'MANTENIMIENTO Y REPARACION DE VEHICULOS',\n",
      "       'COMPRA DE FILTROS DE AIRE Y ACEITE PARA LA FLOTILLA VEHICULAR',\n",
      "       'COMPRA DE MATERIALES Y PRODUCTOS PLASTICOS',\n",
      "       'ADQUISICION DE ARTICULOS DE FERRETERIA Y ACCESORIOS'],\n",
      "      dtype='object', length=113)\n"
     ]
    }
   ],
   "source": [
    "print(items_50_more)"
   ]
  },
  {
   "cell_type": "code",
   "execution_count": 26,
   "metadata": {
    "collapsed": true
   },
   "outputs": [
    {
     "ename": "ValueError",
     "evalue": "Lengths must match to compare",
     "output_type": "error",
     "traceback": [
      "\u001b[1;31m---------------------------------------------------------------------------\u001b[0m",
      "\u001b[1;31mValueError\u001b[0m                                Traceback (most recent call last)",
      "\u001b[1;32m<ipython-input-26-83574022e311>\u001b[0m in \u001b[0;36m<module>\u001b[1;34m\u001b[0m\n\u001b[0;32m      1\u001b[0m \u001b[1;31m#go back to original data and filter for the items that have > 50 occurances\u001b[0m\u001b[1;33m\u001b[0m\u001b[1;33m\u001b[0m\u001b[1;33m\u001b[0m\u001b[0m\n\u001b[1;32m----> 2\u001b[1;33m \u001b[0mdf\u001b[0m\u001b[1;33m[\u001b[0m\u001b[1;34m'Objeto contractual'\u001b[0m\u001b[1;33m]\u001b[0m \u001b[1;33m==\u001b[0m \u001b[0mitems_50_more\u001b[0m\u001b[1;33m\u001b[0m\u001b[1;33m\u001b[0m\u001b[0m\n\u001b[0m",
      "\u001b[1;32m~\\AppData\\Local\\Continuum\\anaconda3\\envs\\exercisew3d1\\lib\\site-packages\\pandas\\core\\ops.py\u001b[0m in \u001b[0;36mwrapper\u001b[1;34m(self, other, axis)\u001b[0m\n\u001b[0;32m   1743\u001b[0m             \u001b[1;31m# as it will broadcast\u001b[0m\u001b[1;33m\u001b[0m\u001b[1;33m\u001b[0m\u001b[1;33m\u001b[0m\u001b[0m\n\u001b[0;32m   1744\u001b[0m             \u001b[1;32mif\u001b[0m \u001b[0mother\u001b[0m\u001b[1;33m.\u001b[0m\u001b[0mndim\u001b[0m \u001b[1;33m!=\u001b[0m \u001b[1;36m0\u001b[0m \u001b[1;32mand\u001b[0m \u001b[0mlen\u001b[0m\u001b[1;33m(\u001b[0m\u001b[0mself\u001b[0m\u001b[1;33m)\u001b[0m \u001b[1;33m!=\u001b[0m \u001b[0mlen\u001b[0m\u001b[1;33m(\u001b[0m\u001b[0mother\u001b[0m\u001b[1;33m)\u001b[0m\u001b[1;33m:\u001b[0m\u001b[1;33m\u001b[0m\u001b[1;33m\u001b[0m\u001b[0m\n\u001b[1;32m-> 1745\u001b[1;33m                 \u001b[1;32mraise\u001b[0m \u001b[0mValueError\u001b[0m\u001b[1;33m(\u001b[0m\u001b[1;34m'Lengths must match to compare'\u001b[0m\u001b[1;33m)\u001b[0m\u001b[1;33m\u001b[0m\u001b[1;33m\u001b[0m\u001b[0m\n\u001b[0m\u001b[0;32m   1746\u001b[0m \u001b[1;33m\u001b[0m\u001b[0m\n\u001b[0;32m   1747\u001b[0m             \u001b[0mres_values\u001b[0m \u001b[1;33m=\u001b[0m \u001b[0mna_op\u001b[0m\u001b[1;33m(\u001b[0m\u001b[0mself\u001b[0m\u001b[1;33m.\u001b[0m\u001b[0mvalues\u001b[0m\u001b[1;33m,\u001b[0m \u001b[0mnp\u001b[0m\u001b[1;33m.\u001b[0m\u001b[0masarray\u001b[0m\u001b[1;33m(\u001b[0m\u001b[0mother\u001b[0m\u001b[1;33m)\u001b[0m\u001b[1;33m)\u001b[0m\u001b[1;33m\u001b[0m\u001b[1;33m\u001b[0m\u001b[0m\n",
      "\u001b[1;31mValueError\u001b[0m: Lengths must match to compare"
     ]
    }
   ],
   "source": [
    "#go back to original data and filter for the items that have > 50 occurances\n",
    "df['Objeto contractual']  items_50_more"
   ]
  },
  {
   "cell_type": "code",
   "execution_count": 29,
   "metadata": {},
   "outputs": [],
   "source": [
    "office_stuff = df[df['Objeto contractual'] == 'COMPRA DE ARTICULOS DE OFICINA']"
   ]
  },
  {
   "cell_type": "code",
   "execution_count": 34,
   "metadata": {
    "collapsed": true
   },
   "outputs": [
    {
     "ename": "ValueError",
     "evalue": "could not convert string to float: '-'",
     "output_type": "error",
     "traceback": [
      "\u001b[1;31m---------------------------------------------------------------------------\u001b[0m",
      "\u001b[1;31mValueError\u001b[0m                                Traceback (most recent call last)",
      "\u001b[1;32m<ipython-input-34-df53dafbd4ca>\u001b[0m in \u001b[0;36m<module>\u001b[1;34m\u001b[0m\n\u001b[0;32m      2\u001b[0m \u001b[1;33m\u001b[0m\u001b[0m\n\u001b[0;32m      3\u001b[0m \u001b[0mcols_analysis\u001b[0m \u001b[1;33m=\u001b[0m \u001b[1;33m[\u001b[0m\u001b[1;34m'Cantidad adjudicada'\u001b[0m\u001b[1;33m,\u001b[0m \u001b[1;34m'Monto adjudicados'\u001b[0m\u001b[1;33m]\u001b[0m\u001b[1;33m\u001b[0m\u001b[1;33m\u001b[0m\u001b[0m\n\u001b[1;32m----> 4\u001b[1;33m \u001b[0moffice_analysis\u001b[0m \u001b[1;33m=\u001b[0m \u001b[0moffice_stuff\u001b[0m\u001b[1;33m[\u001b[0m\u001b[0mcols_analysis\u001b[0m\u001b[1;33m]\u001b[0m\u001b[1;33m.\u001b[0m\u001b[0mastype\u001b[0m\u001b[1;33m(\u001b[0m\u001b[1;34m'float'\u001b[0m\u001b[1;33m)\u001b[0m\u001b[1;33m\u001b[0m\u001b[1;33m\u001b[0m\u001b[0m\n\u001b[0m\u001b[0;32m      5\u001b[0m \u001b[0moffice_analysis\u001b[0m\u001b[1;33m.\u001b[0m\u001b[0mhead\u001b[0m\u001b[1;33m(\u001b[0m\u001b[1;33m)\u001b[0m\u001b[1;33m\u001b[0m\u001b[1;33m\u001b[0m\u001b[0m\n",
      "\u001b[1;32m~\\AppData\\Local\\Continuum\\anaconda3\\envs\\exercisew3d1\\lib\\site-packages\\pandas\\core\\generic.py\u001b[0m in \u001b[0;36mastype\u001b[1;34m(self, dtype, copy, errors, **kwargs)\u001b[0m\n\u001b[0;32m   5689\u001b[0m             \u001b[1;31m# else, only a single dtype is given\u001b[0m\u001b[1;33m\u001b[0m\u001b[1;33m\u001b[0m\u001b[1;33m\u001b[0m\u001b[0m\n\u001b[0;32m   5690\u001b[0m             new_data = self._data.astype(dtype=dtype, copy=copy, errors=errors,\n\u001b[1;32m-> 5691\u001b[1;33m                                          **kwargs)\n\u001b[0m\u001b[0;32m   5692\u001b[0m             \u001b[1;32mreturn\u001b[0m \u001b[0mself\u001b[0m\u001b[1;33m.\u001b[0m\u001b[0m_constructor\u001b[0m\u001b[1;33m(\u001b[0m\u001b[0mnew_data\u001b[0m\u001b[1;33m)\u001b[0m\u001b[1;33m.\u001b[0m\u001b[0m__finalize__\u001b[0m\u001b[1;33m(\u001b[0m\u001b[0mself\u001b[0m\u001b[1;33m)\u001b[0m\u001b[1;33m\u001b[0m\u001b[1;33m\u001b[0m\u001b[0m\n\u001b[0;32m   5693\u001b[0m \u001b[1;33m\u001b[0m\u001b[0m\n",
      "\u001b[1;32m~\\AppData\\Local\\Continuum\\anaconda3\\envs\\exercisew3d1\\lib\\site-packages\\pandas\\core\\internals\\managers.py\u001b[0m in \u001b[0;36mastype\u001b[1;34m(self, dtype, **kwargs)\u001b[0m\n\u001b[0;32m    529\u001b[0m \u001b[1;33m\u001b[0m\u001b[0m\n\u001b[0;32m    530\u001b[0m     \u001b[1;32mdef\u001b[0m \u001b[0mastype\u001b[0m\u001b[1;33m(\u001b[0m\u001b[0mself\u001b[0m\u001b[1;33m,\u001b[0m \u001b[0mdtype\u001b[0m\u001b[1;33m,\u001b[0m \u001b[1;33m**\u001b[0m\u001b[0mkwargs\u001b[0m\u001b[1;33m)\u001b[0m\u001b[1;33m:\u001b[0m\u001b[1;33m\u001b[0m\u001b[1;33m\u001b[0m\u001b[0m\n\u001b[1;32m--> 531\u001b[1;33m         \u001b[1;32mreturn\u001b[0m \u001b[0mself\u001b[0m\u001b[1;33m.\u001b[0m\u001b[0mapply\u001b[0m\u001b[1;33m(\u001b[0m\u001b[1;34m'astype'\u001b[0m\u001b[1;33m,\u001b[0m \u001b[0mdtype\u001b[0m\u001b[1;33m=\u001b[0m\u001b[0mdtype\u001b[0m\u001b[1;33m,\u001b[0m \u001b[1;33m**\u001b[0m\u001b[0mkwargs\u001b[0m\u001b[1;33m)\u001b[0m\u001b[1;33m\u001b[0m\u001b[1;33m\u001b[0m\u001b[0m\n\u001b[0m\u001b[0;32m    532\u001b[0m \u001b[1;33m\u001b[0m\u001b[0m\n\u001b[0;32m    533\u001b[0m     \u001b[1;32mdef\u001b[0m \u001b[0mconvert\u001b[0m\u001b[1;33m(\u001b[0m\u001b[0mself\u001b[0m\u001b[1;33m,\u001b[0m \u001b[1;33m**\u001b[0m\u001b[0mkwargs\u001b[0m\u001b[1;33m)\u001b[0m\u001b[1;33m:\u001b[0m\u001b[1;33m\u001b[0m\u001b[1;33m\u001b[0m\u001b[0m\n",
      "\u001b[1;32m~\\AppData\\Local\\Continuum\\anaconda3\\envs\\exercisew3d1\\lib\\site-packages\\pandas\\core\\internals\\managers.py\u001b[0m in \u001b[0;36mapply\u001b[1;34m(self, f, axes, filter, do_integrity_check, consolidate, **kwargs)\u001b[0m\n\u001b[0;32m    393\u001b[0m                                             copy=align_copy)\n\u001b[0;32m    394\u001b[0m \u001b[1;33m\u001b[0m\u001b[0m\n\u001b[1;32m--> 395\u001b[1;33m             \u001b[0mapplied\u001b[0m \u001b[1;33m=\u001b[0m \u001b[0mgetattr\u001b[0m\u001b[1;33m(\u001b[0m\u001b[0mb\u001b[0m\u001b[1;33m,\u001b[0m \u001b[0mf\u001b[0m\u001b[1;33m)\u001b[0m\u001b[1;33m(\u001b[0m\u001b[1;33m**\u001b[0m\u001b[0mkwargs\u001b[0m\u001b[1;33m)\u001b[0m\u001b[1;33m\u001b[0m\u001b[1;33m\u001b[0m\u001b[0m\n\u001b[0m\u001b[0;32m    396\u001b[0m             \u001b[0mresult_blocks\u001b[0m \u001b[1;33m=\u001b[0m \u001b[0m_extend_blocks\u001b[0m\u001b[1;33m(\u001b[0m\u001b[0mapplied\u001b[0m\u001b[1;33m,\u001b[0m \u001b[0mresult_blocks\u001b[0m\u001b[1;33m)\u001b[0m\u001b[1;33m\u001b[0m\u001b[1;33m\u001b[0m\u001b[0m\n\u001b[0;32m    397\u001b[0m \u001b[1;33m\u001b[0m\u001b[0m\n",
      "\u001b[1;32m~\\AppData\\Local\\Continuum\\anaconda3\\envs\\exercisew3d1\\lib\\site-packages\\pandas\\core\\internals\\blocks.py\u001b[0m in \u001b[0;36mastype\u001b[1;34m(self, dtype, copy, errors, values, **kwargs)\u001b[0m\n\u001b[0;32m    532\u001b[0m     \u001b[1;32mdef\u001b[0m \u001b[0mastype\u001b[0m\u001b[1;33m(\u001b[0m\u001b[0mself\u001b[0m\u001b[1;33m,\u001b[0m \u001b[0mdtype\u001b[0m\u001b[1;33m,\u001b[0m \u001b[0mcopy\u001b[0m\u001b[1;33m=\u001b[0m\u001b[1;32mFalse\u001b[0m\u001b[1;33m,\u001b[0m \u001b[0merrors\u001b[0m\u001b[1;33m=\u001b[0m\u001b[1;34m'raise'\u001b[0m\u001b[1;33m,\u001b[0m \u001b[0mvalues\u001b[0m\u001b[1;33m=\u001b[0m\u001b[1;32mNone\u001b[0m\u001b[1;33m,\u001b[0m \u001b[1;33m**\u001b[0m\u001b[0mkwargs\u001b[0m\u001b[1;33m)\u001b[0m\u001b[1;33m:\u001b[0m\u001b[1;33m\u001b[0m\u001b[1;33m\u001b[0m\u001b[0m\n\u001b[0;32m    533\u001b[0m         return self._astype(dtype, copy=copy, errors=errors, values=values,\n\u001b[1;32m--> 534\u001b[1;33m                             **kwargs)\n\u001b[0m\u001b[0;32m    535\u001b[0m \u001b[1;33m\u001b[0m\u001b[0m\n\u001b[0;32m    536\u001b[0m     def _astype(self, dtype, copy=False, errors='raise', values=None,\n",
      "\u001b[1;32m~\\AppData\\Local\\Continuum\\anaconda3\\envs\\exercisew3d1\\lib\\site-packages\\pandas\\core\\internals\\blocks.py\u001b[0m in \u001b[0;36m_astype\u001b[1;34m(self, dtype, copy, errors, values, **kwargs)\u001b[0m\n\u001b[0;32m    631\u001b[0m \u001b[1;33m\u001b[0m\u001b[0m\n\u001b[0;32m    632\u001b[0m                     \u001b[1;31m# _astype_nansafe works fine with 1-d only\u001b[0m\u001b[1;33m\u001b[0m\u001b[1;33m\u001b[0m\u001b[1;33m\u001b[0m\u001b[0m\n\u001b[1;32m--> 633\u001b[1;33m                     \u001b[0mvalues\u001b[0m \u001b[1;33m=\u001b[0m \u001b[0mastype_nansafe\u001b[0m\u001b[1;33m(\u001b[0m\u001b[0mvalues\u001b[0m\u001b[1;33m.\u001b[0m\u001b[0mravel\u001b[0m\u001b[1;33m(\u001b[0m\u001b[1;33m)\u001b[0m\u001b[1;33m,\u001b[0m \u001b[0mdtype\u001b[0m\u001b[1;33m,\u001b[0m \u001b[0mcopy\u001b[0m\u001b[1;33m=\u001b[0m\u001b[1;32mTrue\u001b[0m\u001b[1;33m)\u001b[0m\u001b[1;33m\u001b[0m\u001b[1;33m\u001b[0m\u001b[0m\n\u001b[0m\u001b[0;32m    634\u001b[0m \u001b[1;33m\u001b[0m\u001b[0m\n\u001b[0;32m    635\u001b[0m                 \u001b[1;31m# TODO(extension)\u001b[0m\u001b[1;33m\u001b[0m\u001b[1;33m\u001b[0m\u001b[1;33m\u001b[0m\u001b[0m\n",
      "\u001b[1;32m~\\AppData\\Local\\Continuum\\anaconda3\\envs\\exercisew3d1\\lib\\site-packages\\pandas\\core\\dtypes\\cast.py\u001b[0m in \u001b[0;36mastype_nansafe\u001b[1;34m(arr, dtype, copy, skipna)\u001b[0m\n\u001b[0;32m    700\u001b[0m     \u001b[1;32mif\u001b[0m \u001b[0mcopy\u001b[0m \u001b[1;32mor\u001b[0m \u001b[0mis_object_dtype\u001b[0m\u001b[1;33m(\u001b[0m\u001b[0marr\u001b[0m\u001b[1;33m)\u001b[0m \u001b[1;32mor\u001b[0m \u001b[0mis_object_dtype\u001b[0m\u001b[1;33m(\u001b[0m\u001b[0mdtype\u001b[0m\u001b[1;33m)\u001b[0m\u001b[1;33m:\u001b[0m\u001b[1;33m\u001b[0m\u001b[1;33m\u001b[0m\u001b[0m\n\u001b[0;32m    701\u001b[0m         \u001b[1;31m# Explicit copy, or required since NumPy can't view from / to object.\u001b[0m\u001b[1;33m\u001b[0m\u001b[1;33m\u001b[0m\u001b[1;33m\u001b[0m\u001b[0m\n\u001b[1;32m--> 702\u001b[1;33m         \u001b[1;32mreturn\u001b[0m \u001b[0marr\u001b[0m\u001b[1;33m.\u001b[0m\u001b[0mastype\u001b[0m\u001b[1;33m(\u001b[0m\u001b[0mdtype\u001b[0m\u001b[1;33m,\u001b[0m \u001b[0mcopy\u001b[0m\u001b[1;33m=\u001b[0m\u001b[1;32mTrue\u001b[0m\u001b[1;33m)\u001b[0m\u001b[1;33m\u001b[0m\u001b[1;33m\u001b[0m\u001b[0m\n\u001b[0m\u001b[0;32m    703\u001b[0m \u001b[1;33m\u001b[0m\u001b[0m\n\u001b[0;32m    704\u001b[0m     \u001b[1;32mreturn\u001b[0m \u001b[0marr\u001b[0m\u001b[1;33m.\u001b[0m\u001b[0mview\u001b[0m\u001b[1;33m(\u001b[0m\u001b[0mdtype\u001b[0m\u001b[1;33m)\u001b[0m\u001b[1;33m\u001b[0m\u001b[1;33m\u001b[0m\u001b[0m\n",
      "\u001b[1;31mValueError\u001b[0m: could not convert string to float: '-'"
     ]
    }
   ],
   "source": [
    "#for office supplies how many times, total quantity, average unit cost, total unit cost\n",
    "\n",
    "cols_analysis = ['Cantidad adjudicada', 'Monto adjudicados']\n",
    "office_analysis = office_stuff[cols_analysis] #.astype('float')\n",
    "office_analysis.head()"
   ]
  },
  {
   "cell_type": "code",
   "execution_count": 31,
   "metadata": {},
   "outputs": [
    {
     "data": {
      "text/plain": [
       "985"
      ]
     },
     "execution_count": 31,
     "metadata": {},
     "output_type": "execute_result"
    }
   ],
   "source": [
    "#the number of occurances of this item\n",
    "len(office_analysis)"
   ]
  },
  {
   "cell_type": "code",
   "execution_count": 37,
   "metadata": {},
   "outputs": [
    {
     "data": {
      "text/plain": [
       "26814675.29"
      ]
     },
     "execution_count": 37,
     "metadata": {},
     "output_type": "execute_result"
    }
   ],
   "source": [
    "#total cost\n",
    "office_analysis.iloc[:,1].sum() "
   ]
  },
  {
   "cell_type": "code",
   "execution_count": 38,
   "metadata": {},
   "outputs": [
    {
     "data": {
      "text/plain": [
       "27223.02059898477"
      ]
     },
     "execution_count": 38,
     "metadata": {},
     "output_type": "execute_result"
    }
   ],
   "source": [
    "#average cost per order\n",
    "office_analysis.iloc[:,1].mean()"
   ]
  },
  {
   "cell_type": "code",
   "execution_count": null,
   "metadata": {},
   "outputs": [],
   "source": [
    "#average unit cost and unit cost"
   ]
  },
  {
   "cell_type": "code",
   "execution_count": 36,
   "metadata": {},
   "outputs": [
    {
     "data": {
      "text/plain": [
       "10      129\n",
       "-        86\n",
       "5        62\n",
       "2        49\n",
       "1        48\n",
       "3        48\n",
       "20       47\n",
       "4        43\n",
       "100      40\n",
       "50       36\n",
       "6        35\n",
       "8        24\n",
       "30       24\n",
       "15       23\n",
       "12       21\n",
       "60       16\n",
       "150      14\n",
       "40       13\n",
       "25       11\n",
       "300      11\n",
       "500      10\n",
       "24        9\n",
       "7         9\n",
       "75        7\n",
       "200       7\n",
       "35        7\n",
       "13        6\n",
       "28        6\n",
       "11        5\n",
       "17        5\n",
       "       ... \n",
       "229       1\n",
       "230       1\n",
       "746       1\n",
       "88        1\n",
       "373       1\n",
       "110       1\n",
       "114       1\n",
       "365       1\n",
       "56        1\n",
       "63        1\n",
       "2050      1\n",
       "52        1\n",
       "258       1\n",
       "65        1\n",
       "322       1\n",
       "48        1\n",
       "47        1\n",
       "45        1\n",
       "325       1\n",
       "43        1\n",
       "41        1\n",
       "295       1\n",
       "85        1\n",
       "96        1\n",
       "34        1\n",
       "800       1\n",
       "102       1\n",
       "104       1\n",
       "29        1\n",
       "510       1\n",
       "Name: Cantidad adjudicada, Length: 107, dtype: int64"
      ]
     },
     "execution_count": 36,
     "metadata": {},
     "output_type": "execute_result"
    }
   ],
   "source": [
    "office_analysis.iloc[:,0].value_counts()"
   ]
  },
  {
   "cell_type": "code",
   "execution_count": null,
   "metadata": {},
   "outputs": [],
   "source": []
  }
 ],
 "metadata": {
  "kernelspec": {
   "display_name": "Python 3",
   "language": "python",
   "name": "python3"
  },
  "language_info": {
   "codemirror_mode": {
    "name": "ipython",
    "version": 3
   },
   "file_extension": ".py",
   "mimetype": "text/x-python",
   "name": "python",
   "nbconvert_exporter": "python",
   "pygments_lexer": "ipython3",
   "version": "3.7.3"
  }
 },
 "nbformat": 4,
 "nbformat_minor": 2
}
