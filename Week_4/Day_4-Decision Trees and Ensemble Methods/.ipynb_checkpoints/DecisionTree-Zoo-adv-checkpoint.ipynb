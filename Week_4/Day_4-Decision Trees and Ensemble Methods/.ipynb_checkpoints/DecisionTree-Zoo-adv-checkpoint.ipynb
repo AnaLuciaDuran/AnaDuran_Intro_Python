{
 "cells": [
  {
   "cell_type": "markdown",
   "metadata": {},
   "source": [
    "Test the decision tree on the UCI Zoo dataset."
   ]
  },
  {
   "cell_type": "code",
   "execution_count": 1,
   "metadata": {},
   "outputs": [],
   "source": [
    "import numpy as np\n",
    "import pandas as pd\n",
    "from sklearn import tree\n",
    "from sklearn.model_selection import train_test_split\n",
    "import matplotlib\n",
    "import matplotlib.pyplot as plt\n",
    "import seaborn as sns\n",
    "%matplotlib inline\n"
   ]
  },
  {
   "cell_type": "code",
   "execution_count": 2,
   "metadata": {},
   "outputs": [],
   "source": [
    "dataset = pd.read_csv (\"zoo.csv\")"
   ]
  },
  {
   "cell_type": "code",
   "execution_count": 8,
   "metadata": {
    "scrolled": false
   },
   "outputs": [
    {
     "data": {
      "text/plain": [
       "(101, 18)"
      ]
     },
     "execution_count": 8,
     "metadata": {},
     "output_type": "execute_result"
    }
   ],
   "source": [
    "dataset.shape"
   ]
  },
  {
   "cell_type": "code",
   "execution_count": 9,
   "metadata": {},
   "outputs": [
    {
     "data": {
      "text/html": [
       "<div>\n",
       "<style scoped>\n",
       "    .dataframe tbody tr th:only-of-type {\n",
       "        vertical-align: middle;\n",
       "    }\n",
       "\n",
       "    .dataframe tbody tr th {\n",
       "        vertical-align: top;\n",
       "    }\n",
       "\n",
       "    .dataframe thead th {\n",
       "        text-align: right;\n",
       "    }\n",
       "</style>\n",
       "<table border=\"1\" class=\"dataframe\">\n",
       "  <thead>\n",
       "    <tr style=\"text-align: right;\">\n",
       "      <th></th>\n",
       "      <th>animal</th>\n",
       "      <th>hair</th>\n",
       "      <th>feathers</th>\n",
       "      <th>eggs</th>\n",
       "      <th>milk</th>\n",
       "      <th>airborne</th>\n",
       "      <th>aquatic</th>\n",
       "      <th>predator</th>\n",
       "      <th>toothed</th>\n",
       "      <th>backbone</th>\n",
       "      <th>breathes</th>\n",
       "      <th>venomous</th>\n",
       "      <th>fins</th>\n",
       "      <th>legs</th>\n",
       "      <th>tail</th>\n",
       "      <th>domestic</th>\n",
       "      <th>catsize</th>\n",
       "      <th>type</th>\n",
       "    </tr>\n",
       "  </thead>\n",
       "  <tbody>\n",
       "    <tr>\n",
       "      <th>0</th>\n",
       "      <td>aardvark</td>\n",
       "      <td>True</td>\n",
       "      <td>False</td>\n",
       "      <td>False</td>\n",
       "      <td>True</td>\n",
       "      <td>False</td>\n",
       "      <td>False</td>\n",
       "      <td>True</td>\n",
       "      <td>True</td>\n",
       "      <td>True</td>\n",
       "      <td>True</td>\n",
       "      <td>False</td>\n",
       "      <td>False</td>\n",
       "      <td>4.0</td>\n",
       "      <td>False</td>\n",
       "      <td>False</td>\n",
       "      <td>True</td>\n",
       "      <td>mammal</td>\n",
       "    </tr>\n",
       "    <tr>\n",
       "      <th>1</th>\n",
       "      <td>antelope</td>\n",
       "      <td>True</td>\n",
       "      <td>False</td>\n",
       "      <td>False</td>\n",
       "      <td>True</td>\n",
       "      <td>False</td>\n",
       "      <td>False</td>\n",
       "      <td>False</td>\n",
       "      <td>True</td>\n",
       "      <td>True</td>\n",
       "      <td>True</td>\n",
       "      <td>False</td>\n",
       "      <td>False</td>\n",
       "      <td>4.0</td>\n",
       "      <td>True</td>\n",
       "      <td>False</td>\n",
       "      <td>True</td>\n",
       "      <td>mammal</td>\n",
       "    </tr>\n",
       "    <tr>\n",
       "      <th>2</th>\n",
       "      <td>bass</td>\n",
       "      <td>False</td>\n",
       "      <td>False</td>\n",
       "      <td>True</td>\n",
       "      <td>False</td>\n",
       "      <td>False</td>\n",
       "      <td>True</td>\n",
       "      <td>True</td>\n",
       "      <td>True</td>\n",
       "      <td>True</td>\n",
       "      <td>False</td>\n",
       "      <td>False</td>\n",
       "      <td>True</td>\n",
       "      <td>0.0</td>\n",
       "      <td>True</td>\n",
       "      <td>False</td>\n",
       "      <td>False</td>\n",
       "      <td>fish</td>\n",
       "    </tr>\n",
       "    <tr>\n",
       "      <th>3</th>\n",
       "      <td>bear</td>\n",
       "      <td>True</td>\n",
       "      <td>False</td>\n",
       "      <td>False</td>\n",
       "      <td>True</td>\n",
       "      <td>False</td>\n",
       "      <td>False</td>\n",
       "      <td>True</td>\n",
       "      <td>True</td>\n",
       "      <td>True</td>\n",
       "      <td>True</td>\n",
       "      <td>False</td>\n",
       "      <td>False</td>\n",
       "      <td>4.0</td>\n",
       "      <td>False</td>\n",
       "      <td>False</td>\n",
       "      <td>True</td>\n",
       "      <td>mammal</td>\n",
       "    </tr>\n",
       "    <tr>\n",
       "      <th>4</th>\n",
       "      <td>boar</td>\n",
       "      <td>True</td>\n",
       "      <td>False</td>\n",
       "      <td>False</td>\n",
       "      <td>True</td>\n",
       "      <td>False</td>\n",
       "      <td>False</td>\n",
       "      <td>True</td>\n",
       "      <td>True</td>\n",
       "      <td>True</td>\n",
       "      <td>True</td>\n",
       "      <td>False</td>\n",
       "      <td>False</td>\n",
       "      <td>4.0</td>\n",
       "      <td>True</td>\n",
       "      <td>False</td>\n",
       "      <td>True</td>\n",
       "      <td>mammal</td>\n",
       "    </tr>\n",
       "  </tbody>\n",
       "</table>\n",
       "</div>"
      ],
      "text/plain": [
       "     animal   hair  feathers   eggs   milk  airborne  aquatic  predator  \\\n",
       "0  aardvark   True     False  False   True     False    False      True   \n",
       "1  antelope   True     False  False   True     False    False     False   \n",
       "2      bass  False     False   True  False     False     True      True   \n",
       "3      bear   True     False  False   True     False    False      True   \n",
       "4      boar   True     False  False   True     False    False      True   \n",
       "\n",
       "   toothed  backbone  breathes  venomous   fins  legs   tail  domestic  \\\n",
       "0     True      True      True     False  False   4.0  False     False   \n",
       "1     True      True      True     False  False   4.0   True     False   \n",
       "2     True      True     False     False   True   0.0   True     False   \n",
       "3     True      True      True     False  False   4.0  False     False   \n",
       "4     True      True      True     False  False   4.0   True     False   \n",
       "\n",
       "   catsize    type  \n",
       "0     True  mammal  \n",
       "1     True  mammal  \n",
       "2    False    fish  \n",
       "3     True  mammal  \n",
       "4     True  mammal  "
      ]
     },
     "execution_count": 9,
     "metadata": {},
     "output_type": "execute_result"
    }
   ],
   "source": [
    "dataset.head()"
   ]
  },
  {
   "cell_type": "code",
   "execution_count": 16,
   "metadata": {
    "scrolled": true
   },
   "outputs": [
    {
     "data": {
      "text/html": [
       "<div>\n",
       "<style scoped>\n",
       "    .dataframe tbody tr th:only-of-type {\n",
       "        vertical-align: middle;\n",
       "    }\n",
       "\n",
       "    .dataframe tbody tr th {\n",
       "        vertical-align: top;\n",
       "    }\n",
       "\n",
       "    .dataframe thead th {\n",
       "        text-align: right;\n",
       "    }\n",
       "</style>\n",
       "<table border=\"1\" class=\"dataframe\">\n",
       "  <thead>\n",
       "    <tr style=\"text-align: right;\">\n",
       "      <th></th>\n",
       "      <th>hair</th>\n",
       "      <th>toothed</th>\n",
       "      <th>breathes</th>\n",
       "      <th>legs</th>\n",
       "    </tr>\n",
       "  </thead>\n",
       "  <tbody>\n",
       "    <tr>\n",
       "      <th>0</th>\n",
       "      <td>True</td>\n",
       "      <td>True</td>\n",
       "      <td>True</td>\n",
       "      <td>4.0</td>\n",
       "    </tr>\n",
       "    <tr>\n",
       "      <th>1</th>\n",
       "      <td>True</td>\n",
       "      <td>True</td>\n",
       "      <td>True</td>\n",
       "      <td>4.0</td>\n",
       "    </tr>\n",
       "    <tr>\n",
       "      <th>2</th>\n",
       "      <td>False</td>\n",
       "      <td>True</td>\n",
       "      <td>False</td>\n",
       "      <td>0.0</td>\n",
       "    </tr>\n",
       "    <tr>\n",
       "      <th>3</th>\n",
       "      <td>True</td>\n",
       "      <td>True</td>\n",
       "      <td>True</td>\n",
       "      <td>4.0</td>\n",
       "    </tr>\n",
       "    <tr>\n",
       "      <th>4</th>\n",
       "      <td>True</td>\n",
       "      <td>True</td>\n",
       "      <td>True</td>\n",
       "      <td>4.0</td>\n",
       "    </tr>\n",
       "  </tbody>\n",
       "</table>\n",
       "</div>"
      ],
      "text/plain": [
       "    hair  toothed  breathes  legs\n",
       "0   True     True      True   4.0\n",
       "1   True     True      True   4.0\n",
       "2  False     True     False   0.0\n",
       "3   True     True      True   4.0\n",
       "4   True     True      True   4.0"
      ]
     },
     "execution_count": 16,
     "metadata": {},
     "output_type": "execute_result"
    }
   ],
   "source": [
    "X = dataset.drop([\"type\",\"animal\",\"feathers\", \"eggs\",\"milk\",\"airborne\",\"aquatic\",\"predator\",\"backbone\",\"venomous\",\"fins\",\"tail\",\"domestic\",\"catsize\"], axis=1)\n",
    "y = dataset[\"type\"]\n",
    "X.head()"
   ]
  },
  {
   "cell_type": "code",
   "execution_count": 17,
   "metadata": {},
   "outputs": [
    {
     "data": {
      "text/plain": [
       "0    mammal\n",
       "1    mammal\n",
       "2      fish\n",
       "3    mammal\n",
       "4    mammal\n",
       "Name: type, dtype: object"
      ]
     },
     "execution_count": 17,
     "metadata": {},
     "output_type": "execute_result"
    }
   ],
   "source": [
    "y.head()"
   ]
  },
  {
   "cell_type": "code",
   "execution_count": 18,
   "metadata": {},
   "outputs": [],
   "source": [
    "X_train, X_test, y_train, y_test = train_test_split (X,y,test_size=0.20,random_state=1)"
   ]
  },
  {
   "cell_type": "code",
   "execution_count": 19,
   "metadata": {
    "scrolled": true
   },
   "outputs": [
    {
     "name": "stdout",
     "output_type": "stream",
     "text": [
      "(80, 4) (80,)\n"
     ]
    }
   ],
   "source": [
    "print (X_train.shape, y_train.shape)"
   ]
  },
  {
   "cell_type": "code",
   "execution_count": 20,
   "metadata": {},
   "outputs": [
    {
     "data": {
      "text/plain": [
       "0.9125"
      ]
     },
     "execution_count": 20,
     "metadata": {},
     "output_type": "execute_result"
    }
   ],
   "source": [
    "classifier = tree.DecisionTreeClassifier(criterion='entropy', max_depth=3)\n",
    "classifier = classifier.fit(X_train, y_train)\n",
    "classifier.score(X_train, y_train)"
   ]
  },
  {
   "cell_type": "code",
   "execution_count": 22,
   "metadata": {},
   "outputs": [
    {
     "data": {
      "text/plain": [
       "[Text(193.15384615384616, 190.26, 'X[1] <= 0.5\\nentropy = 2.452\\nsamples = 80\\nvalue = [3, 15, 12, 8, 8, 30, 4]'),\n",
       " Text(103.01538461538462, 135.9, 'X[3] <= 3.0\\nentropy = 1.814\\nsamples = 33\\nvalue = [0, 15, 0, 8, 8, 1, 1]'),\n",
       " Text(51.50769230769231, 81.53999999999999, 'X[3] <= 1.0\\nentropy = 0.65\\nsamples = 18\\nvalue = [0, 15, 0, 0, 3, 0, 0]'),\n",
       " Text(25.753846153846155, 27.180000000000007, 'entropy = 0.0\\nsamples = 3\\nvalue = [0, 0, 0, 0, 3, 0, 0]'),\n",
       " Text(77.26153846153846, 27.180000000000007, 'entropy = 0.0\\nsamples = 15\\nvalue = [0, 15, 0, 0, 0, 0, 0]'),\n",
       " Text(154.52307692307693, 81.53999999999999, 'X[2] <= 0.5\\nentropy = 1.533\\nsamples = 15\\nvalue = [0, 0, 0, 8, 5, 1, 1]'),\n",
       " Text(128.76923076923077, 27.180000000000007, 'entropy = 0.0\\nsamples = 4\\nvalue = [0, 0, 0, 0, 4, 0, 0]'),\n",
       " Text(180.27692307692308, 27.180000000000007, 'entropy = 1.278\\nsamples = 11\\nvalue = [0, 0, 0, 8, 1, 1, 1]'),\n",
       " Text(283.2923076923077, 135.9, 'X[0] <= 0.5\\nentropy = 1.439\\nsamples = 47\\nvalue = [3, 0, 12, 0, 0, 29, 3]'),\n",
       " Text(257.53846153846155, 81.53999999999999, 'X[2] <= 0.5\\nentropy = 1.483\\nsamples = 19\\nvalue = [3, 0, 12, 0, 0, 1, 3]'),\n",
       " Text(231.7846153846154, 27.180000000000007, 'entropy = 0.391\\nsamples = 13\\nvalue = [0, 0, 12, 0, 0, 0, 1]'),\n",
       " Text(283.2923076923077, 27.180000000000007, 'entropy = 1.459\\nsamples = 6\\nvalue = [3, 0, 0, 0, 0, 1, 2]'),\n",
       " Text(309.04615384615386, 81.53999999999999, 'entropy = 0.0\\nsamples = 28\\nvalue = [0, 0, 0, 0, 0, 28, 0]')]"
      ]
     },
     "execution_count": 22,
     "metadata": {},
     "output_type": "execute_result"
    },
    {
     "data": {
      "image/png": "[encoded data removed]",
      "text/plain": [
       "<Figure size 432x288 with 1 Axes>"
      ]
     },
     "metadata": {
      "needs_background": "light"
     },
     "output_type": "display_data"
    }
   ],
   "source": [
    "tree.plot_tree(classifier.fit(X_train, y_train),fontsize=10) "
   ]
  },
  {
   "cell_type": "code",
   "execution_count": 23,
   "metadata": {},
   "outputs": [
    {
     "data": {
      "text/plain": [
       "0.9625"
      ]
     },
     "execution_count": 23,
     "metadata": {},
     "output_type": "execute_result"
    }
   ],
   "source": [
    "classifier = tree.DecisionTreeClassifier()\n",
    "classifier = classifier.fit(X_train, y_train)\n",
    "classifier.score(X_train, y_train)"
   ]
  },
  {
   "cell_type": "code",
   "execution_count": 28,
   "metadata": {},
   "outputs": [
    {
     "data": {
      "text/plain": [
       "[Text(221.20714285714286, 201.90857142857143, 'X[0] <= 0.5\\nentropy = 0.778\\nsamples = 80\\nvalue = [3, 15, 12, 8, 8, 30, 4]'),\n",
       " Text(155.44285714285715, 170.84571428571428, 'X[1] <= 0.5\\nentropy = 0.785\\nsamples = 47\\nvalue = [3, 15, 12, 4, 8, 1, 4]'),\n",
       " Text(95.65714285714286, 139.78285714285715, 'X[3] <= 3.0\\nentropy = 0.61\\nsamples = 28\\nvalue = [0, 15, 0, 4, 8, 0, 1]'),\n",
       " Text(47.82857142857143, 108.72, 'X[3] <= 1.0\\nentropy = 0.278\\nsamples = 18\\nvalue = [0, 15, 0, 0, 3, 0, 0]'),\n",
       " Text(23.914285714285715, 77.65714285714284, 'entropy = 0.0\\nsamples = 3\\nvalue = [0, 0, 0, 0, 3, 0, 0]'),\n",
       " Text(71.74285714285715, 77.65714285714284, 'entropy = 0.0\\nsamples = 15\\nvalue = [0, 15, 0, 0, 0, 0, 0]'),\n",
       " Text(143.4857142857143, 108.72, 'X[2] <= 0.5\\nentropy = 0.58\\nsamples = 10\\nvalue = [0, 0, 0, 4, 5, 0, 1]'),\n",
       " Text(119.57142857142857, 77.65714285714284, 'entropy = 0.0\\nsamples = 4\\nvalue = [0, 0, 0, 0, 4, 0, 0]'),\n",
       " Text(167.4, 77.65714285714284, 'X[3] <= 5.0\\nentropy = 0.5\\nsamples = 6\\nvalue = [0, 0, 0, 4, 1, 0, 1]'),\n",
       " Text(143.4857142857143, 46.59428571428572, 'entropy = 0.0\\nsamples = 1\\nvalue = [0, 0, 0, 0, 0, 0, 1]'),\n",
       " Text(191.31428571428572, 46.59428571428572, 'X[3] <= 7.0\\nentropy = 0.32\\nsamples = 5\\nvalue = [0, 0, 0, 4, 1, 0, 0]'),\n",
       " Text(167.4, 15.531428571428563, 'entropy = 0.0\\nsamples = 4\\nvalue = [0, 0, 0, 4, 0, 0, 0]'),\n",
       " Text(215.22857142857143, 15.531428571428563, 'entropy = 0.0\\nsamples = 1\\nvalue = [0, 0, 0, 0, 1, 0, 0]'),\n",
       " Text(215.22857142857143, 139.78285714285715, 'X[2] <= 0.5\\nentropy = 0.548\\nsamples = 19\\nvalue = [3, 0, 12, 0, 0, 1, 3]'),\n",
       " Text(191.31428571428572, 108.72, 'entropy = 0.142\\nsamples = 13\\nvalue = [0, 0, 12, 0, 0, 0, 1]'),\n",
       " Text(239.14285714285714, 108.72, 'X[3] <= 2.0\\nentropy = 0.611\\nsamples = 6\\nvalue = [3, 0, 0, 0, 0, 1, 2]'),\n",
       " Text(215.22857142857143, 77.65714285714284, 'entropy = 0.5\\nsamples = 2\\nvalue = [0, 0, 0, 0, 0, 1, 1]'),\n",
       " Text(263.0571428571429, 77.65714285714284, 'entropy = 0.375\\nsamples = 4\\nvalue = [3, 0, 0, 0, 0, 0, 1]'),\n",
       " Text(286.9714285714286, 170.84571428571428, 'X[3] <= 5.0\\nentropy = 0.213\\nsamples = 33\\nvalue = [0, 0, 0, 4, 0, 29, 0]'),\n",
       " Text(263.0571428571429, 139.78285714285715, 'entropy = 0.0\\nsamples = 29\\nvalue = [0, 0, 0, 0, 0, 29, 0]'),\n",
       " Text(310.8857142857143, 139.78285714285715, 'entropy = 0.0\\nsamples = 4\\nvalue = [0, 0, 0, 4, 0, 0, 0]')]"
      ]
     },
     "execution_count": 28,
     "metadata": {},
     "output_type": "execute_result"
    },
    {
     "data": {
      "image/png": "[encoded data removed]",
      "text/plain": [
       "<Figure size 432x288 with 1 Axes>"
      ]
     },
     "metadata": {
      "needs_background": "light"
     },
     "output_type": "display_data"
    }
   ],
   "source": [
    "tree.plot_tree(classifier.fit(X_train, y_train),fontsize=10) "
   ]
  },
  {
   "cell_type": "code",
   "execution_count": null,
   "metadata": {},
   "outputs": [],
   "source": []
  }
 ],
 "metadata": {
  "kernelspec": {
   "display_name": "Python 3",
   "language": "python",
   "name": "python3"
  },
  "language_info": {
   "codemirror_mode": {
    "name": "ipython",
    "version": 3
   },
   "file_extension": ".py",
   "mimetype": "text/x-python",
   "name": "python",
   "nbconvert_exporter": "python",
   "pygments_lexer": "ipython3",
   "version": "3.7.3"
  }
 },
 "nbformat": 4,
 "nbformat_minor": 2
}
