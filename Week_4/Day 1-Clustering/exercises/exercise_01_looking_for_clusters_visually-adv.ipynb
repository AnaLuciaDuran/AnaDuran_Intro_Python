{
 "cells": [
  {
   "cell_type": "markdown",
   "metadata": {},
   "source": [
    "# Exercise 1: Looking for clusters visually"
   ]
  },
  {
   "cell_type": "markdown",
   "metadata": {},
   "source": [
    "You are given an array `points` of size 300x2, where each row gives the (x, y) co-ordinates of a point on a map.  Make a scatter plot of these points, and use the scatter plot to guess how many clusters there are."
   ]
  },
  {
   "cell_type": "markdown",
   "metadata": {},
   "source": [
    "**Step 1:** Load the dataset _(written for you)_."
   ]
  },
  {
   "cell_type": "code",
   "execution_count": 1,
   "metadata": {
    "exercise": false
   },
   "outputs": [],
   "source": [
    "import pandas as pd\n",
    "\n",
    "df = pd.read_csv('../datasets/ch1ex1.csv')\n",
    "points = df.values"
   ]
  },
  {
   "cell_type": "markdown",
   "metadata": {},
   "source": [
    "**Step 2:** Import PyPlot"
   ]
  },
  {
   "cell_type": "code",
   "execution_count": 2,
   "metadata": {},
   "outputs": [],
   "source": [
    "import matplotlib.pyplot as plt"
   ]
  },
  {
   "cell_type": "markdown",
   "metadata": {},
   "source": [
    "**Step 3:** Create an array called `xs` that contains the values of `points[:,0]` - that is, column `0` of `points`:"
   ]
  },
  {
   "cell_type": "code",
   "execution_count": 7,
   "metadata": {},
   "outputs": [
    {
     "data": {
      "text/plain": [
       "array([ 0.06544649, -1.52901547,  1.70993371,  1.16779145, -1.80110088,\n",
       "       -1.63567888,  1.21990375, -0.26175155, -1.61925804, -1.84329582,\n",
       "        1.35999602,  0.42291856, -1.68576139,  0.90629995, -1.56478322,\n",
       "       -0.0257849 ,  0.83027324,  1.22450432, -0.15394596,  0.86358809,\n",
       "       -1.43386366,  0.03844769, -1.58567922,  0.6359888 ,  0.24417242,\n",
       "       -2.19680359,  1.0323503 , -0.28858067,  0.20597008, -1.2107308 ,\n",
       "        1.33423684,  1.19480152,  0.9917477 , -1.8356219 ,  0.08415721,\n",
       "       -1.48970175,  0.38782418, -0.01448044, -2.0521341 ,  0.10331194,\n",
       "       -0.44189315,  1.10390926, -1.59227759, -1.47344152, -1.35514704,\n",
       "        0.0412337 ,  0.4761517 ,  1.04335676, -0.07961882,  0.87065059,\n",
       "        1.40267313,  0.80111157, -0.16527516, -0.33779221,  0.80610749,\n",
       "       -1.43590032,  0.54868895,  0.46803131, -1.5137129 ,  0.9138436 ,\n",
       "       -1.97233903,  0.5213406 ,  0.62759494,  0.94163014,  0.56994768,\n",
       "       -1.87663382,  0.90612186, -1.37481454, -1.80564029,  0.34307757,\n",
       "        0.70380566, -1.68489862,  1.31473221,  0.26151216,  0.9193121 ,\n",
       "       -1.21795929, -0.17722723,  0.64824862,  0.41206786,  1.01568202,\n",
       "        0.67900254, -1.05182747,  0.61306599, -1.50219748, -1.72717293,\n",
       "       -1.60995631, -1.09111021, -0.01046978,  0.32782303,  1.22038503,\n",
       "       -1.33328681,  0.87959517, -1.14829098, -0.58019755, -0.01161159,\n",
       "        0.17359724,  1.32738556, -1.93467327, -1.57761893,  0.47639   ,\n",
       "       -1.65237509, -0.12609976, -1.89607082,  0.57466899, -0.16660312,\n",
       "        0.8013355 ,  1.18455426,  1.08864428, -1.61158505, -1.57512205,\n",
       "        0.0721357 , -1.40054298,  1.09607713, -2.54346204, -1.34544875,\n",
       "       -1.35478629,  0.18368113, -1.31368677,  0.09990129,  1.17225574,\n",
       "        0.0865397 , -0.21053923,  0.26496024, -0.2557591 , -0.26039757,\n",
       "       -1.91787359,  0.93021139,  0.44770467, -1.63802869, -1.95712763,\n",
       "        0.9270337 ,  1.25660093, -1.72818632,  0.3499788 , -1.51696082,\n",
       "        0.18763605,  0.89609809, -1.54968857,  1.2157457 ,  0.20307745,\n",
       "        0.84589086,  0.53237919, -0.05319044,  1.38819743,  1.00696304,\n",
       "        0.56681869,  0.86888296, -1.16286609,  0.27717768,  0.16563267,\n",
       "        0.38263303,  1.14519807,  0.81455857, -1.8603152 ,  0.965641  ,\n",
       "       -1.49897451, -0.1335489 ,  0.12541527,  1.06062436, -1.49154578,\n",
       "        1.16189032,  0.54282033,  0.89221065, -1.49932011,  0.3166647 ,\n",
       "        0.13972469, -1.5499724 ,  1.23846858,  1.25558954,  0.25558689,\n",
       "        0.45168933,  1.06202057,  0.67451908,  0.22759676, -1.45835281,\n",
       "        0.23273501,  1.59679589,  0.80476105,  1.15492521,  0.59632776,\n",
       "        0.02839068,  1.13451584,  0.21576204,  1.41048987,  1.12289302,\n",
       "        0.25200688, -1.28566081,  1.52849815, -0.23907858, -0.25792784,\n",
       "        0.59367818,  0.07931909, -1.27256815,  0.66930129,  0.34791546,\n",
       "       -2.11283993, -1.6293824 , -1.53819139, -0.11988545, -1.54418956,\n",
       "        0.30026614,  0.00935449, -1.33424393,  0.47504489,  0.59313264,\n",
       "        0.41370369,  0.55840948,  0.49855018,  0.35675809, -1.86197825,\n",
       "       -1.61977671,  0.80779295,  1.62745775, -1.56993593,  1.02558561,\n",
       "        0.24293461,  1.23130242, -1.9651013 ,  0.42795032, -1.58306818,\n",
       "       -1.57195923, -0.98145373, -1.48637844,  0.98745828,  1.28619721,\n",
       "        0.85850596,  0.19028286,  0.26561046, -1.61897897,  0.24070183,\n",
       "        1.15220993, -1.21967812,  0.33412533,  0.17131003, -1.19828397,\n",
       "       -0.12245932,  1.51200698,  1.10338866,  1.30972095,  0.19964876,\n",
       "        0.81460515, -1.6422739 ,  0.01224351,  0.33709102,  0.47301054,\n",
       "        0.34706626, -0.00393279, -1.64303119,  1.44649625, -1.93030087,\n",
       "       -2.37296135,  0.45860122,  0.4896361 , -1.02335902, -1.32761107,\n",
       "       -1.50987909,  0.02723057,  1.0169412 ,  0.47733527, -1.27784224,\n",
       "        0.49898802,  1.06004731,  1.00207501,  1.31161394,  1.13428443,\n",
       "        1.27671346, -0.63342885,  0.12698779, -1.34510812, -0.53162278,\n",
       "        0.21959934, -1.78997479,  1.23197473,  1.4163536 , -1.90280976,\n",
       "       -0.22440081,  0.59559412,  1.21930773, -1.99427535, -1.27818474,\n",
       "        0.62352689,  0.14024251, -0.16145713, -1.74795865, -1.16659791,\n",
       "        0.41110408,  1.14757168, -1.65590748, -1.15306865,  0.60892121,\n",
       "       -0.08434138,  0.19170053,  0.29663162, -1.36893628, -0.08037807,\n",
       "        0.35695011,  0.02482179, -1.49075558, -1.408588  , -1.98274626])"
      ]
     },
     "execution_count": 7,
     "metadata": {},
     "output_type": "execute_result"
    }
   ],
   "source": [
    "xs = points[:,0]\n",
    "xs"
   ]
  },
  {
   "cell_type": "markdown",
   "metadata": {},
   "source": [
    "**Step 3:** Create an array called `ys` that contains the values of `points[:,1]` - that is, column `1` of `points`"
   ]
  },
  {
   "cell_type": "code",
   "execution_count": 8,
   "metadata": {},
   "outputs": [
    {
     "data": {
      "text/plain": [
       "array([-0.76866376, -0.42953079,  0.69885253,  1.01262638, -0.31861296,\n",
       "       -0.02859535,  0.74643463, -0.62492939, -0.47983949, -0.16694431,\n",
       "        0.94995827, -0.7349534 ,  0.10686728,  1.09105162, -0.84675394,\n",
       "       -1.18672539,  1.14504612,  1.35066759, -0.71704301,  1.06824613,\n",
       "       -0.2381297 , -0.74635022,  0.08499354, -0.58477698, -0.53172465,\n",
       "        0.49473677, -0.55688   , -0.39972528, -0.80171536, -0.34924109,\n",
       "        0.7721489 ,  1.04788556,  0.89202008, -0.04839732, -0.71564326,\n",
       "       -0.19299604, -0.82060119, -0.9779841 , -0.02129125, -0.82162781,\n",
       "       -0.65710974,  1.02481182, -0.17374038, -0.02202853,  0.22971067,\n",
       "       -1.23776622, -1.13672124,  0.82345905, -0.85677394,  1.08052841,\n",
       "        1.07525119,  1.28342825, -1.23583804, -0.59194323, -0.73752159,\n",
       "       -0.56384446, -0.95143829, -0.74973907, -0.83914323,  1.51126532,\n",
       "       -0.41155375, -0.88654894, -1.18590477,  1.35399335,  1.07036606,\n",
       "        0.14745773,  0.91084011,  0.28428395, -0.96710574, -0.79999275,\n",
       "        1.00025804, -0.30564595,  0.98614978, -0.26069251,  0.82371485,\n",
       "       -0.20219674, -1.02665245, -0.66822881, -0.28783784,  1.13481667,\n",
       "       -0.91489502, -0.01062376,  1.78210384, -0.52308922, -0.46173916,\n",
       "       -0.1821007 , -0.0781398 , -0.80913034, -0.80734754,  1.1959793 ,\n",
       "       -0.30001937,  1.11566491, -0.30400762, -1.19996018, -0.78468854,\n",
       "       -0.63398145,  0.67759969,  0.30572472, -0.27726365,  1.21422648,\n",
       "       -0.6803981 , -1.04327457, -0.70085502,  0.74878369, -0.83110295,\n",
       "        1.22244435,  1.4346467 ,  0.64667112,  0.22805725, -0.09612576,\n",
       "       -0.69640328,  0.16390598,  1.16804691, -0.23089822,  0.25151126,\n",
       "       -0.19103317, -1.15827725, -0.376357  ,  1.22500491,  1.30835143,\n",
       "       -0.79714371, -1.13421511, -0.94760742, -1.06266022, -0.74774225,\n",
       "        0.16434571,  0.49436331, -0.72877918, -0.58925528, -0.10125137,\n",
       "        0.88251423,  0.60828073,  0.08416887, -0.30490298, -0.50913109,\n",
       "       -0.55424924,  0.83551508, -0.17114782,  1.23317728, -1.03784906,\n",
       "        1.03615273,  1.47362884, -1.36150553,  1.11729915,  1.0367721 ,\n",
       "       -1.09637176,  1.05248874, -0.55875245, -0.83844015, -0.80306607,\n",
       "       -0.42683241,  0.89659026,  0.67533667, -0.09537561,  0.90295579,\n",
       "       -0.33254044, -0.80727582, -1.13354906,  1.28816358, -0.2024641 ,\n",
       "        1.28819877,  0.75203524,  0.99211624, -0.32430667, -1.34482915,\n",
       "       -1.22097448, -0.10782584,  1.37668804,  0.72026098, -1.28529763,\n",
       "       -0.55952093,  1.03404604, -0.54970299, -1.02729468, -0.04951074,\n",
       "       -0.70849262,  1.11395076,  0.544627  ,  1.04352191, -1.19142897,\n",
       "       -0.43829366,  0.5632633 , -1.04445753,  1.02830719,  0.58029441,\n",
       "       -0.82588436, -0.07390909,  1.11822469, -0.70541972, -0.81825035,\n",
       "       -0.45239915, -0.29233213,  0.11630577,  1.00731481, -1.20822877,\n",
       "       -0.66897935, -0.32718222, -0.01501972, -0.6036339 , -0.30389844,\n",
       "       -0.77723173, -0.53888192, -0.11560431,  0.78421384,  1.232239  ,\n",
       "       -1.35205857,  0.78831053, -0.789949  , -0.81038693, -0.59071305,\n",
       "       -0.16076687, -0.73311294,  0.62787163, -0.08467567,  0.89383302,\n",
       "       -0.6088253 ,  1.00262186, -0.15886289, -0.70384432, -0.19431923,\n",
       "        0.01413469,  0.06132285, -0.5746531 ,  0.69188053,  1.28128821,\n",
       "        0.95541481, -0.82112942, -0.04255239,  0.00862372, -0.52664209,\n",
       "        0.43916694, -0.2580313 , -0.86117761, -0.75638965, -0.73744665,\n",
       "       -0.45648879,  0.88825741,  0.92347479,  0.59066989,  1.14855889,\n",
       "        0.84538972, -0.42296206, -0.21247816, -0.74618065,  0.72712075,\n",
       "        1.23033757, -0.97209694,  0.05276337,  1.14217033, -0.40026146,\n",
       "       -0.72633645, -1.06048953, -1.18928313, -0.17520578, -0.93963549,\n",
       "       -0.09473658, -0.79870549,  1.26461701, -0.9898471 , -0.547416  ,\n",
       "       -0.6237259 ,  0.86870008,  1.38293512,  0.62833956,  1.18346542,\n",
       "        0.96632878, -0.97768251, -0.93142317, -0.23754226, -1.25153594,\n",
       "       -0.90269938, -0.12115748, -0.07453764,  1.21551752, -0.1638976 ,\n",
       "       -0.75454248,  0.92414553,  1.08175284, -0.37587799, -0.52454551,\n",
       "       -1.01430108, -0.428266  , -1.16359731, -0.06033101,  0.0902393 ,\n",
       "       -0.8084249 ,  0.77804528, -0.40105446,  0.00858699,  0.68974833,\n",
       "       -0.97615256, -0.42331438, -1.13357399, -0.25052124, -0.56784155,\n",
       "       -1.15064408, -0.63594828, -0.2482507 ,  0.25635431, -0.54584475])"
      ]
     },
     "execution_count": 8,
     "metadata": {},
     "output_type": "execute_result"
    }
   ],
   "source": [
    "ys = points[:,1]\n",
    "ys"
   ]
  },
  {
   "cell_type": "markdown",
   "metadata": {},
   "source": [
    "**Step 4:** Make a scatter plot by passing `xs` and `ys` to the `plt.scatter()` function."
   ]
  },
  {
   "cell_type": "code",
   "execution_count": 9,
   "metadata": {},
   "outputs": [
    {
     "data": {
      "text/plain": [
       "<matplotlib.collections.PathCollection at 0x1b4f1d6ab00>"
      ]
     },
     "execution_count": 9,
     "metadata": {},
     "output_type": "execute_result"
    },
    {
     "data": {
      "image/png": "[encoded data removed]",
      "text/plain": [
       "<Figure size 432x288 with 1 Axes>"
      ]
     },
     "metadata": {
      "needs_background": "light"
     },
     "output_type": "display_data"
    }
   ],
   "source": [
    "plt.scatter (xs,ys)"
   ]
  },
  {
   "cell_type": "markdown",
   "metadata": {},
   "source": [
    "**Step 5:** Call the `plt.show()` function to show your plot."
   ]
  },
  {
   "cell_type": "code",
   "execution_count": 13,
   "metadata": {},
   "outputs": [],
   "source": [
    "plt.show()"
   ]
  }
 ],
 "metadata": {
  "kernelspec": {
   "display_name": "Python 3",
   "language": "python",
   "name": "python3"
  },
  "language_info": {
   "codemirror_mode": {
    "name": "ipython",
    "version": 3
   },
   "file_extension": ".py",
   "mimetype": "text/x-python",
   "name": "python",
   "nbconvert_exporter": "python",
   "pygments_lexer": "ipython3",
   "version": "3.7.3"
  }
 },
 "nbformat": 4,
 "nbformat_minor": 1
}
